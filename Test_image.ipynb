{
 "cells": [
  {
   "attachments": {},
   "cell_type": "markdown",
   "id": "c6dff96a",
   "metadata": {
    "id": "c6dff96a"
   },
   "source": [
    "# Introduction"
   ]
  },
  {
   "attachments": {},
   "cell_type": "markdown",
   "id": "dab9ff6b",
   "metadata": {
    "id": "dab9ff6b"
   },
   "source": [
    "## Challenge Test\n"
   ]
  },
  {
   "attachments": {},
   "cell_type": "markdown",
   "id": "1097c2db",
   "metadata": {
    "id": "1097c2db"
   },
   "source": [
    "# Image Classification:\n",
    "\n",
    "Image classification is the task of assigning to an image a label from a predefined set of\n",
    "categories. A CNN [1] is intended to identify visual forms from images with least computation [2]. In the last few years, we saw a rapid progress in visual image processing systems, mostly due to advances of deep convolutional neural networks.\n",
    "\n",
    "\n",
    "\n",
    "1. Y. LeCun, L. Bottu, Y. Bengio, Gradient-based learning applied to document recognition, Proceedings of the\n",
    "IEEE 86 (11) (1998) 2278–2324, https://doi.org/10.1109/5.726791.\n",
    "2. Alex Krizhevsky, Ilya Sutskever, Geoffrey E. Hinton, Imagenet classification with deep convolutional neural net-works, in: NIPS’12 Proceedings of the 25th InternationalConference on Neural Information ProcessingSystem,\n",
    "vol. 1, 2012, pp. 1097–1105, arXiv:1311.2901."
   ]
  },
  {
   "attachments": {},
   "cell_type": "markdown",
   "id": "6b6f449c",
   "metadata": {
    "id": "6b6f449c"
   },
   "source": [
    "# The properties of the dataset:"
   ]
  },
  {
   "attachments": {},
   "cell_type": "markdown",
   "id": "a1ec9dc2",
   "metadata": {
    "id": "a1ec9dc2"
   },
   "source": [
    "DataSet consistst of images of faces of different persons with certain characteristics. The task is to train a model able to predict whether certain image possess required chacteristics (encoded by the output labels) or not.\n",
    "There is imbalance between the sample images in the dataset for men and women."
   ]
  },
  {
   "attachments": {},
   "cell_type": "markdown",
   "id": "41dc9f71",
   "metadata": {
    "id": "41dc9f71"
   },
   "source": [
    "### Downloading the Data: \n",
    "\n",
    "DataSet is with the Email\n",
    "\n",
    "\n",
    "After unzipping the file, you have three folders: train, validation, test and two text files relating to the train and validation labels. You can use both training and validation data for training and validation your model."
   ]
  },
  {
   "attachments": {},
   "cell_type": "markdown",
   "id": "8ab16ddd",
   "metadata": {
    "id": "8ab16ddd"
   },
   "source": [
    "### Training and Validation Data\n",
    "\n",
    "***Training Data:*** The \"train\" folder contains 1000 face images numbered from 000000 to 000999. These are color images in .jpg format with size of 80x80 pixels.\n",
    "\n",
    "***Training Labels:*** The file named \"label_train.txt\" contains two columns. The first column list the 1000 labels (0 or 1) that are used to train your model. The second columns lists the corresponding binary representation of genders (0: woman, 1: Man)\n",
    "\n",
    "***Validation Data:*** The \"validation\" folder contains 500 face images numbered from 000000 to 000500. These are color images in .jpg format with size of 80x80 pixels.\n",
    "\n",
    "***Validation Labels:*** The file named \"label_validation.txt\" contains two columns. The first column list the 500 labels (0 or 1) that are used to validate your model. The second columns lists the corresponding binary representation of genders (0: woman, 1: Man)"
   ]
  },
  {
   "attachments": {},
   "cell_type": "markdown",
   "id": "f07ba17d",
   "metadata": {
    "id": "f07ba17d"
   },
   "source": [
    "### Test Data\n",
    "\n",
    " The \"test\" folder contains 500 face images numbered from 000000 to 000499. These are color images in .jpg format with size of 80x80 pixels."
   ]
  },
  {
   "attachments": {},
   "cell_type": "markdown",
   "id": "39ae8ac1",
   "metadata": {
    "id": "39ae8ac1"
   },
   "source": [
    "### Libraryes imported"
   ]
  },
  {
   "cell_type": "code",
   "execution_count": 2,
   "id": "bffb6e70",
   "metadata": {
    "id": "bffb6e70"
   },
   "outputs": [
    {
     "name": "stderr",
     "output_type": "stream",
     "text": [
      "2023-06-06 22:17:25.296723: I tensorflow/core/platform/cpu_feature_guard.cc:182] This TensorFlow binary is optimized to use available CPU instructions in performance-critical operations.\n",
      "To enable the following instructions: AVX2 FMA, in other operations, rebuild TensorFlow with the appropriate compiler flags.\n",
      "2023-06-06 22:17:27.460169: I tensorflow/compiler/xla/stream_executor/cuda/cuda_gpu_executor.cc:996] successful NUMA node read from SysFS had negative value (-1), but there must be at least one NUMA node, so returning NUMA node zero. See more at https://github.com/torvalds/linux/blob/v6.0/Documentation/ABI/testing/sysfs-bus-pci#L344-L355\n",
      "2023-06-06 22:17:27.485007: I tensorflow/compiler/xla/stream_executor/cuda/cuda_gpu_executor.cc:996] successful NUMA node read from SysFS had negative value (-1), but there must be at least one NUMA node, so returning NUMA node zero. See more at https://github.com/torvalds/linux/blob/v6.0/Documentation/ABI/testing/sysfs-bus-pci#L344-L355\n",
      "2023-06-06 22:17:27.485227: I tensorflow/compiler/xla/stream_executor/cuda/cuda_gpu_executor.cc:996] successful NUMA node read from SysFS had negative value (-1), but there must be at least one NUMA node, so returning NUMA node zero. See more at https://github.com/torvalds/linux/blob/v6.0/Documentation/ABI/testing/sysfs-bus-pci#L344-L355\n"
     ]
    },
    {
     "name": "stdout",
     "output_type": "stream",
     "text": [
      "[PhysicalDevice(name='/physical_device:GPU:0', device_type='GPU')]\n"
     ]
    }
   ],
   "source": [
    "# To manipulate data and folder on PC\n",
    "import glob, os, re\n",
    "\n",
    "# To manipulate images\n",
    "import cv2\n",
    "\n",
    "# To process data\n",
    "import numpy as np\n",
    "import pandas as pd\n",
    "\n",
    "# To implement CNN\n",
    "import keras\n",
    "from keras import models, layers, optimizers\n",
    "from keras.utils import np_utils\n",
    "from keras.preprocessing.image import ImageDataGenerator\n",
    "from sklearn.metrics import accuracy_score, roc_auc_score\n",
    "import tensorflow as tf\n",
    "\n",
    "# To verify that Tensorflow use the GPU instead the CPU to obtain more speed during the computation time fof the training.\n",
    "print(tf.config.list_physical_devices('GPU'))\n",
    "\n",
    "# to show graphics and images\n",
    "import matplotlib.pyplot as plt \n",
    "\n",
    "# To generate random numbers\n",
    "import random "
   ]
  },
  {
   "attachments": {},
   "cell_type": "markdown",
   "id": "225847d1",
   "metadata": {
    "id": "225847d1"
   },
   "source": [
    "### Investigate the data"
   ]
  },
  {
   "attachments": {},
   "cell_type": "markdown",
   "id": "d1deed55",
   "metadata": {},
   "source": [
    "We want to understand the image set. We want to know the number of images in train set, the shape of the images and printing a random image in the folder. The same for Validation and test folders. "
   ]
  },
  {
   "attachments": {},
   "cell_type": "markdown",
   "id": "986c075a",
   "metadata": {},
   "source": [
    "First of all we need to create 2 subfolders in train and Validation, folders \"0\" and \"1\" where we put the images in \"0\" if the label is 0 in label_train.txt and \"1\" instead."
   ]
  },
  {
   "cell_type": "code",
   "execution_count": 3,
   "id": "9b46098c",
   "metadata": {},
   "outputs": [],
   "source": [
    "# Relative root path of the folder\n",
    "dir_path = \"DataSet/\"\n",
    "\n",
    "# Reading the label of train, read text file into pandas DataFrame. We don't consider the header of the txt because it doesn't exist, the same for the lines.\n",
    "df = pd.read_csv(dir_path+\"label_train.txt\", sep=\" \", header = None, index_col=False)\n",
    "# store the labels and sex of each images\n",
    "label_train = df[0]\n",
    "sex_train = df[1]\n",
    "\n",
    "#Same process for Validation set instead train set\n",
    "df = pd.read_csv(dir_path+\"label_validation.txt\", sep=\" \", header = None, index_col=False)\n",
    "label_validation = df[0]\n",
    "sex_validation = df[1]"
   ]
  },
  {
   "attachments": {},
   "cell_type": "markdown",
   "id": "2b080eb3",
   "metadata": {},
   "source": [
    "How many man and woman in train and validation?"
   ]
  },
  {
   "cell_type": "code",
   "execution_count": 4,
   "id": "ecd01b1c",
   "metadata": {},
   "outputs": [
    {
     "name": "stdout",
     "output_type": "stream",
     "text": [
      "TRAIN set\n",
      "Number of women :  581\n",
      "Number of man :  419\n",
      "Ratio :  1.3866348448687351\n",
      "\n",
      "VALIDATION set\n",
      "Number of women :  286\n",
      "Number of man :  214\n",
      "Ratio :  1.3364485981308412\n"
     ]
    }
   ],
   "source": [
    "# NUmber of men and women in image set\n",
    "nb_sexe = sex_train.value_counts()\n",
    "print(\"TRAIN set\")\n",
    "print(\"Number of women : \",nb_sexe[0])\n",
    "print(\"Number of man : \",nb_sexe[1])\n",
    "print(\"Ratio : \",nb_sexe[0]/nb_sexe[1])\n",
    "print(\"\")\n",
    "\n",
    "# NUmber of men and women in image set\n",
    "nb_sexe = sex_validation.value_counts()\n",
    "print(\"VALIDATION set\")\n",
    "print(\"Number of women : \",nb_sexe[0])\n",
    "print(\"Number of man : \",nb_sexe[1])\n",
    "print(\"Ratio : \",nb_sexe[0]/nb_sexe[1])\n"
   ]
  },
  {
   "attachments": {},
   "cell_type": "markdown",
   "id": "e6dbb7da",
   "metadata": {},
   "source": [
    "We can observe that the ratio of women and man in each data set is similar, it can be a usefull information during the training phase to understand how the model have learned from the base.\n",
    "\n",
    "Now we want show a random image and obtain the shape of an image."
   ]
  },
  {
   "cell_type": "code",
   "execution_count": 5,
   "id": "9c548569",
   "metadata": {
    "id": "9c548569"
   },
   "outputs": [
    {
     "data": {
      "image/png": "[encoded data removed]",
      "text/plain": [
       "<Figure size 640x480 with 1 Axes>"
      ]
     },
     "metadata": {},
     "output_type": "display_data"
    },
    {
     "name": "stdout",
     "output_type": "stream",
     "text": [
      "Shape of an image : (80, 80, 3)\n"
     ]
    }
   ],
   "source": [
    "# Taking a random image from the base\n",
    "DATADIR = 'DataSet/train/0'\n",
    "list_images = os.listdir(DATADIR)\n",
    "index_img = random.randint(1,len(list_images))\n",
    "img = list_images[index_img]\n",
    "\n",
    "# Read and show a image with opencv\n",
    "img_array = cv2.imread(os.path.join(DATADIR,img))\n",
    "plt.imshow(img_array)\n",
    "plt.show() \n",
    "\n",
    "# Obtain the size in pixels of an image and the shape (the 3 representing the RGB format of an image)\n",
    "input_shape = img_array.shape\n",
    "image_size = input_shape[:2]\n",
    "print(\"Shape of an image :\",img_array.shape)"
   ]
  },
  {
   "attachments": {},
   "cell_type": "markdown",
   "id": "ba4b1755",
   "metadata": {
    "id": "ba4b1755"
   },
   "source": [
    "### Data Preparation"
   ]
  },
  {
   "attachments": {},
   "cell_type": "markdown",
   "id": "56207ef5",
   "metadata": {},
   "source": [
    "Move image in the subfolders representing the corresponding label. If the data is already organized this code make nothing."
   ]
  },
  {
   "cell_type": "code",
   "execution_count": 6,
   "id": "9d70129b",
   "metadata": {
    "id": "9d70129b"
   },
   "outputs": [],
   "source": [
    "import shutil\n",
    "\n",
    "list_folders = [\"train/\",\"Validation/\"]\n",
    "\n",
    "for name_folder in list_folders:\n",
    "    # Source path\n",
    "    source = dir_path+name_folder\n",
    "    \n",
    "    # Destination path\n",
    "    destination_0 = source+\"0\"\n",
    "    destination_1 = source+\"1\"\n",
    "\n",
    "    # Create folder if it don't exist\n",
    "    if os.path.exists(destination_0) == False:\n",
    "        os.mkdir(destination_0)\n",
    "    if os.path.exists(destination_1) == False:\n",
    "        os.mkdir(destination_1)\n",
    "    \n",
    "    # Move the content of source to destination\n",
    "    file_list = glob.glob(source+\"/*.jpg\")\n",
    "\n",
    "    for img in file_list:\n",
    "        index = int(os.path.basename(img).split('/')[-1].split(\".\")[0])\n",
    "        if label_train[index] == 0 :\n",
    "            shutil.move(img, destination_0)\n",
    "        else :  \n",
    "            shutil.move(img, destination_1)\n"
   ]
  },
  {
   "attachments": {},
   "cell_type": "markdown",
   "id": "40e4efb7",
   "metadata": {},
   "source": [
    "### Building your Network"
   ]
  },
  {
   "attachments": {},
   "cell_type": "markdown",
   "id": "75271230",
   "metadata": {
    "id": "75271230",
    "tags": []
   },
   "source": [
    "We build a CNN adopting a pre-trained architecture proposed by Tensorflow library."
   ]
  },
  {
   "cell_type": "code",
   "execution_count": 23,
   "id": "18263780",
   "metadata": {
    "id": "18263780",
    "scrolled": true
   },
   "outputs": [
    {
     "name": "stdout",
     "output_type": "stream",
     "text": [
      "Model: \"sequential_3\"\n",
      "_________________________________________________________________\n",
      " Layer (type)                Output Shape              Param #   \n",
      "=================================================================\n",
      " conv2d_12 (Conv2D)          (None, 78, 78, 32)        896       \n",
      "                                                                 \n",
      " activation_16 (Activation)  (None, 78, 78, 32)        0         \n",
      "                                                                 \n",
      " max_pooling2d_12 (MaxPoolin  (None, 39, 39, 32)       0         \n",
      " g2D)                                                            \n",
      "                                                                 \n",
      " conv2d_13 (Conv2D)          (None, 37, 37, 32)        9248      \n",
      "                                                                 \n",
      " activation_17 (Activation)  (None, 37, 37, 32)        0         \n",
      "                                                                 \n",
      " max_pooling2d_13 (MaxPoolin  (None, 18, 18, 32)       0         \n",
      " g2D)                                                            \n",
      "                                                                 \n",
      " conv2d_14 (Conv2D)          (None, 16, 16, 64)        18496     \n",
      "                                                                 \n",
      " activation_18 (Activation)  (None, 16, 16, 64)        0         \n",
      "                                                                 \n",
      " max_pooling2d_14 (MaxPoolin  (None, 8, 8, 64)         0         \n",
      " g2D)                                                            \n",
      "                                                                 \n",
      " conv2d_15 (Conv2D)          (None, 6, 6, 256)         147712    \n",
      "                                                                 \n",
      " activation_19 (Activation)  (None, 6, 6, 256)         0         \n",
      "                                                                 \n",
      " max_pooling2d_15 (MaxPoolin  (None, 3, 3, 256)        0         \n",
      " g2D)                                                            \n",
      "                                                                 \n",
      " flatten_3 (Flatten)         (None, 2304)              0         \n",
      "                                                                 \n",
      " dense_4 (Dense)             (None, 64)                147520    \n",
      "                                                                 \n",
      " activation_20 (Activation)  (None, 64)                0         \n",
      "                                                                 \n",
      " dropout_3 (Dropout)         (None, 64)                0         \n",
      "                                                                 \n",
      " dense_5 (Dense)             (None, 1)                 65        \n",
      "                                                                 \n",
      " activation_21 (Activation)  (None, 1)                 0         \n",
      "                                                                 \n",
      "=================================================================\n",
      "Total params: 323,937\n",
      "Trainable params: 323,937\n",
      "Non-trainable params: 0\n",
      "_________________________________________________________________\n"
     ]
    }
   ],
   "source": [
    "# We initialize the model\n",
    "model = models.Sequential()\n",
    "\n",
    "# We add a first convolutional layer specifing the activation function of each node and we applied a maxpooling\n",
    "model.add(layers.Conv2D(32, (3, 3), input_shape=input_shape))\n",
    "model.add(layers.Activation('relu'))\n",
    "model.add(layers.MaxPooling2D(pool_size=(2, 2)))\n",
    "\n",
    "# We add a second layer\n",
    "model.add(layers.Conv2D(32, (3, 3)))\n",
    "model.add(layers.Activation('relu'))\n",
    "model.add(layers.MaxPooling2D(pool_size=(2, 2)))\n",
    "\n",
    "# We add a third layer\n",
    "model.add(layers.Conv2D(64, (3, 3)))\n",
    "model.add(layers.Activation('relu'))\n",
    "model.add(layers.MaxPooling2D(pool_size=(2, 2)))\n",
    "\n",
    "# We add a fourth layer\n",
    "model.add(layers.Conv2D(256, (3, 3)))\n",
    "model.add(layers.Activation('relu'))\n",
    "model.add(layers.MaxPooling2D(pool_size=(2, 2)))\n",
    "\n",
    "# We add a fifth layer flattening the number of weights of precedent layer\n",
    "model.add(layers.Flatten())\n",
    "model.add(layers.Dense(64))\n",
    "model.add(layers.Activation('relu'))\n",
    "\n",
    "# Final layer to prevent overfitting with dropout and to obtain the output shape corresponding to the dimension of label.\n",
    "model.add(layers.Dropout(0.5))\n",
    "model.add(layers.Dense(1))\n",
    "model.add(layers.Activation('sigmoid')) # We choose sigmoid instead relu (the most popular) because it is well adpated to binary classification.\n",
    "\n",
    "# We show the architecture obtained and the number of parameters generated\n",
    "model.summary()"
   ]
  },
  {
   "attachments": {},
   "cell_type": "markdown",
   "id": "c6bbc166",
   "metadata": {},
   "source": [
    "We choose the optimizer to change the weights during the training. We choose Adam because it is the most plebiscitate but it can be interesting to compare with other optimizer alreaby implemented in Keras."
   ]
  },
  {
   "cell_type": "code",
   "execution_count": 24,
   "id": "0372ad0d",
   "metadata": {},
   "outputs": [],
   "source": [
    "opt = keras.optimizers.Adam(learning_rate=1e-4)"
   ]
  },
  {
   "attachments": {},
   "cell_type": "markdown",
   "id": "a0fc281a",
   "metadata": {},
   "source": [
    "We need to choose a loss function that quantify the difference between the true label and the label predicted obtained during the train phase. We choose the classic loss for binary labels, BinaryCrossentropy, but it can be interesting to adopt other loss function adapted for binary classification as hinge loss."
   ]
  },
  {
   "cell_type": "code",
   "execution_count": 26,
   "id": "82067e3e",
   "metadata": {},
   "outputs": [],
   "source": [
    "\n",
    "loss=tf.keras.losses.BinaryCrossentropy() "
   ]
  },
  {
   "attachments": {},
   "cell_type": "markdown",
   "id": "7937a614",
   "metadata": {},
   "source": [
    "Now we are ready to generate the CNN model."
   ]
  },
  {
   "cell_type": "code",
   "execution_count": 27,
   "id": "401610c2",
   "metadata": {},
   "outputs": [],
   "source": [
    "model.compile(loss=loss, optimizer=opt, metrics=['accuracy'])"
   ]
  },
  {
   "attachments": {},
   "cell_type": "markdown",
   "id": "ac99773f",
   "metadata": {
    "id": "ac99773f"
   },
   "source": [
    "### Data Preprocessing"
   ]
  },
  {
   "attachments": {},
   "cell_type": "markdown",
   "id": "341e40cc",
   "metadata": {},
   "source": [
    "We prepare data set for train and validation in a valid format for tensorflow framework. We decide to select train with batch having size of 32 images. We take all the pixels of the images (80x80) but if the accuracy of the model is not enough we can make data augmentation to improve the robustness of the model. To make data augmetation it is possible to random resize and cropping the images using opencv."
   ]
  },
  {
   "attachments": {},
   "cell_type": "markdown",
   "id": "0b761f04",
   "metadata": {},
   "source": [
    "To process the data for tensorflow we use \"image_dataset_from_directory()\" function where we need to give :\n",
    "\n",
    "- directory : path of folder containing data in subfolders representing the several categories.\n",
    "- labels : we specify that the labels can be \"inferred\" from the structure of the subfolders\n",
    "- label_mode : we specify how many categories we have to predict, in our case there are 2 cattegories and we put \"binary\"\n",
    "- batch_size :  it's a hyperparameter of the training where we put a value that not slow the computation time and give enough information during the training\n",
    "- image_size : we give the size of the data, in our case we have images with 80x80 pixels and we put this last."
   ]
  },
  {
   "cell_type": "code",
   "execution_count": 28,
   "id": "912f606e",
   "metadata": {
    "id": "912f606e"
   },
   "outputs": [
    {
     "name": "stdout",
     "output_type": "stream",
     "text": [
      "Found 1000 files belonging to 2 classes.\n"
     ]
    }
   ],
   "source": [
    "train_ds = keras.utils.image_dataset_from_directory(\n",
    "    directory=\"DataSet/train/\",\n",
    "    labels='inferred',\n",
    "    label_mode='binary',\n",
    "    batch_size=32           ,\n",
    "    image_size=image_size)"
   ]
  },
  {
   "attachments": {},
   "cell_type": "markdown",
   "id": "ff1e9e06",
   "metadata": {},
   "source": [
    "The output represents the number of files in the folder and the number of labels (in our case there are 2 categories). Now we prepare the validation set "
   ]
  },
  {
   "cell_type": "code",
   "execution_count": 29,
   "id": "2ce133ed",
   "metadata": {},
   "outputs": [
    {
     "name": "stdout",
     "output_type": "stream",
     "text": [
      "Found 500 files belonging to 2 classes.\n"
     ]
    }
   ],
   "source": [
    "validation_ds = keras.utils.image_dataset_from_directory(\n",
    "    directory='DataSet/Validation/',\n",
    "    labels='inferred',\n",
    "    label_mode='binary',\n",
    "    batch_size=32,\n",
    "    image_size=image_size)"
   ]
  },
  {
   "attachments": {},
   "cell_type": "markdown",
   "id": "75a7d0f0",
   "metadata": {
    "id": "75a7d0f0"
   },
   "source": [
    "### Training your Model"
   ]
  },
  {
   "attachments": {},
   "cell_type": "markdown",
   "id": "1179f0cc",
   "metadata": {},
   "source": [
    "Now we are ready to train a model with the train and validation data."
   ]
  },
  {
   "cell_type": "code",
   "execution_count": 30,
   "id": "321a477d",
   "metadata": {
    "id": "321a477d"
   },
   "outputs": [
    {
     "name": "stdout",
     "output_type": "stream",
     "text": [
      "Epoch 1/70\n"
     ]
    },
    {
     "name": "stderr",
     "output_type": "stream",
     "text": [
      "2023-06-06 22:30:30.482252: I tensorflow/core/common_runtime/executor.cc:1197] [/device:CPU:0] (DEBUG INFO) Executor start aborting (this does not indicate an error and you can ignore this message): INVALID_ARGUMENT: You must feed a value for placeholder tensor 'Placeholder/_4' with dtype int32 and shape [1000]\n",
      "\t [[{{node Placeholder/_4}}]]\n",
      "2023-06-06 22:30:30.483292: I tensorflow/core/common_runtime/executor.cc:1197] [/device:CPU:0] (DEBUG INFO) Executor start aborting (this does not indicate an error and you can ignore this message): INVALID_ARGUMENT: You must feed a value for placeholder tensor 'Placeholder/_0' with dtype string and shape [1000]\n",
      "\t [[{{node Placeholder/_0}}]]\n"
     ]
    },
    {
     "name": "stdout",
     "output_type": "stream",
     "text": [
      "30/32 [===========================>..] - ETA: 0s - loss: 2.8442 - accuracy: 0.4802"
     ]
    },
    {
     "name": "stderr",
     "output_type": "stream",
     "text": [
      "2023-06-06 22:30:31.487511: I tensorflow/core/common_runtime/executor.cc:1197] [/device:CPU:0] (DEBUG INFO) Executor start aborting (this does not indicate an error and you can ignore this message): INVALID_ARGUMENT: You must feed a value for placeholder tensor 'Placeholder/_4' with dtype int32 and shape [500]\n",
      "\t [[{{node Placeholder/_4}}]]\n",
      "2023-06-06 22:30:31.488025: I tensorflow/core/common_runtime/executor.cc:1197] [/device:CPU:0] (DEBUG INFO) Executor start aborting (this does not indicate an error and you can ignore this message): INVALID_ARGUMENT: You must feed a value for placeholder tensor 'Placeholder/_0' with dtype string and shape [500]\n",
      "\t [[{{node Placeholder/_0}}]]\n"
     ]
    },
    {
     "name": "stdout",
     "output_type": "stream",
     "text": [
      "32/32 [==============================] - 1s 20ms/step - loss: 2.7643 - accuracy: 0.4750 - val_loss: 0.7208 - val_accuracy: 0.5060\n",
      "Epoch 2/70\n",
      "32/32 [==============================] - 0s 15ms/step - loss: 0.7051 - accuracy: 0.5150 - val_loss: 0.6954 - val_accuracy: 0.5120\n",
      "Epoch 3/70\n",
      "32/32 [==============================] - 0s 15ms/step - loss: 0.6869 - accuracy: 0.5330 - val_loss: 0.6999 - val_accuracy: 0.4760\n",
      "Epoch 4/70\n",
      "32/32 [==============================] - 1s 15ms/step - loss: 0.6903 - accuracy: 0.5130 - val_loss: 0.6945 - val_accuracy: 0.4900\n",
      "Epoch 5/70\n",
      "32/32 [==============================] - 0s 15ms/step - loss: 0.6916 - accuracy: 0.5190 - val_loss: 0.6955 - val_accuracy: 0.4900\n",
      "Epoch 6/70\n",
      "32/32 [==============================] - 0s 14ms/step - loss: 0.6796 - accuracy: 0.5440 - val_loss: 0.6932 - val_accuracy: 0.5040\n",
      "Epoch 7/70\n",
      "32/32 [==============================] - 1s 15ms/step - loss: 0.6830 - accuracy: 0.5480 - val_loss: 0.6970 - val_accuracy: 0.4920\n",
      "Epoch 8/70\n",
      "32/32 [==============================] - 0s 15ms/step - loss: 0.6823 - accuracy: 0.5310 - val_loss: 0.6924 - val_accuracy: 0.5180\n",
      "Epoch 9/70\n",
      "32/32 [==============================] - 0s 15ms/step - loss: 0.6831 - accuracy: 0.5320 - val_loss: 0.6960 - val_accuracy: 0.5140\n",
      "Epoch 10/70\n",
      "32/32 [==============================] - 0s 15ms/step - loss: 0.6804 - accuracy: 0.5320 - val_loss: 0.6942 - val_accuracy: 0.5140\n",
      "Epoch 11/70\n",
      "32/32 [==============================] - 0s 15ms/step - loss: 0.6880 - accuracy: 0.5260 - val_loss: 0.6985 - val_accuracy: 0.5060\n",
      "Epoch 12/70\n",
      "32/32 [==============================] - 0s 15ms/step - loss: 0.6812 - accuracy: 0.5410 - val_loss: 0.6946 - val_accuracy: 0.5080\n",
      "Epoch 13/70\n",
      "32/32 [==============================] - 0s 15ms/step - loss: 0.6692 - accuracy: 0.5580 - val_loss: 0.7005 - val_accuracy: 0.5140\n",
      "Epoch 14/70\n",
      "32/32 [==============================] - 0s 15ms/step - loss: 0.6838 - accuracy: 0.5260 - val_loss: 0.6892 - val_accuracy: 0.5480\n",
      "Epoch 15/70\n",
      "32/32 [==============================] - 1s 15ms/step - loss: 0.6802 - accuracy: 0.5310 - val_loss: 0.6928 - val_accuracy: 0.5300\n",
      "Epoch 16/70\n",
      "32/32 [==============================] - 0s 15ms/step - loss: 0.6948 - accuracy: 0.5300 - val_loss: 0.6982 - val_accuracy: 0.5040\n",
      "Epoch 17/70\n",
      "32/32 [==============================] - 1s 15ms/step - loss: 0.6822 - accuracy: 0.5300 - val_loss: 0.6930 - val_accuracy: 0.5260\n",
      "Epoch 18/70\n",
      "32/32 [==============================] - 1s 15ms/step - loss: 0.6740 - accuracy: 0.5400 - val_loss: 0.6912 - val_accuracy: 0.5200\n",
      "Epoch 19/70\n",
      "32/32 [==============================] - 1s 15ms/step - loss: 0.6756 - accuracy: 0.5580 - val_loss: 0.6935 - val_accuracy: 0.5160\n",
      "Epoch 20/70\n",
      "32/32 [==============================] - 0s 15ms/step - loss: 0.6804 - accuracy: 0.5440 - val_loss: 0.7277 - val_accuracy: 0.5180\n",
      "Epoch 21/70\n",
      "32/32 [==============================] - 0s 14ms/step - loss: 0.6903 - accuracy: 0.5320 - val_loss: 0.6932 - val_accuracy: 0.5100\n",
      "Epoch 22/70\n",
      "32/32 [==============================] - 0s 15ms/step - loss: 0.6819 - accuracy: 0.5320 - val_loss: 0.6941 - val_accuracy: 0.5160\n",
      "Epoch 23/70\n",
      "32/32 [==============================] - 0s 15ms/step - loss: 0.6767 - accuracy: 0.5270 - val_loss: 0.6927 - val_accuracy: 0.5120\n",
      "Epoch 24/70\n",
      "32/32 [==============================] - 1s 15ms/step - loss: 0.6762 - accuracy: 0.5630 - val_loss: 0.7001 - val_accuracy: 0.5060\n",
      "Epoch 25/70\n",
      "32/32 [==============================] - 1s 15ms/step - loss: 0.6838 - accuracy: 0.5550 - val_loss: 0.6925 - val_accuracy: 0.4840\n",
      "Epoch 26/70\n",
      "32/32 [==============================] - 0s 15ms/step - loss: 0.6768 - accuracy: 0.5450 - val_loss: 0.6988 - val_accuracy: 0.5200\n",
      "Epoch 27/70\n",
      "32/32 [==============================] - 0s 15ms/step - loss: 0.6652 - accuracy: 0.5740 - val_loss: 0.6921 - val_accuracy: 0.5120\n",
      "Epoch 28/70\n",
      "32/32 [==============================] - 0s 15ms/step - loss: 0.6645 - accuracy: 0.5740 - val_loss: 0.6919 - val_accuracy: 0.4900\n",
      "Epoch 29/70\n",
      "32/32 [==============================] - 0s 15ms/step - loss: 0.6690 - accuracy: 0.5680 - val_loss: 0.6931 - val_accuracy: 0.5020\n",
      "Epoch 30/70\n",
      "32/32 [==============================] - 0s 15ms/step - loss: 0.6759 - accuracy: 0.5700 - val_loss: 0.6924 - val_accuracy: 0.4800\n",
      "Epoch 31/70\n",
      "32/32 [==============================] - 0s 15ms/step - loss: 0.6721 - accuracy: 0.5600 - val_loss: 0.6967 - val_accuracy: 0.5160\n",
      "Epoch 32/70\n",
      "32/32 [==============================] - 1s 15ms/step - loss: 0.6674 - accuracy: 0.5790 - val_loss: 0.6982 - val_accuracy: 0.5180\n",
      "Epoch 33/70\n",
      "32/32 [==============================] - 1s 15ms/step - loss: 0.6541 - accuracy: 0.5970 - val_loss: 0.7129 - val_accuracy: 0.4980\n",
      "Epoch 34/70\n",
      "32/32 [==============================] - 0s 15ms/step - loss: 0.6473 - accuracy: 0.6000 - val_loss: 0.7140 - val_accuracy: 0.4940\n",
      "Epoch 35/70\n",
      "32/32 [==============================] - 1s 15ms/step - loss: 0.6300 - accuracy: 0.6020 - val_loss: 0.6995 - val_accuracy: 0.5140\n",
      "Epoch 36/70\n",
      "32/32 [==============================] - 0s 15ms/step - loss: 0.6233 - accuracy: 0.6480 - val_loss: 0.7186 - val_accuracy: 0.5220\n",
      "Epoch 37/70\n",
      "32/32 [==============================] - 1s 15ms/step - loss: 0.6237 - accuracy: 0.6310 - val_loss: 0.7180 - val_accuracy: 0.5180\n",
      "Epoch 38/70\n",
      "32/32 [==============================] - 0s 15ms/step - loss: 0.6196 - accuracy: 0.6400 - val_loss: 0.7121 - val_accuracy: 0.5000\n",
      "Epoch 39/70\n",
      "32/32 [==============================] - 0s 15ms/step - loss: 0.6138 - accuracy: 0.6190 - val_loss: 0.7233 - val_accuracy: 0.4920\n",
      "Epoch 40/70\n",
      "32/32 [==============================] - 0s 15ms/step - loss: 0.5930 - accuracy: 0.6640 - val_loss: 0.7459 - val_accuracy: 0.5060\n",
      "Epoch 41/70\n",
      "32/32 [==============================] - 1s 15ms/step - loss: 0.6013 - accuracy: 0.6700 - val_loss: 0.7328 - val_accuracy: 0.4860\n",
      "Epoch 42/70\n",
      "32/32 [==============================] - 0s 15ms/step - loss: 0.6229 - accuracy: 0.6440 - val_loss: 0.7137 - val_accuracy: 0.5220\n",
      "Epoch 43/70\n",
      "32/32 [==============================] - 1s 15ms/step - loss: 0.6268 - accuracy: 0.6180 - val_loss: 0.7013 - val_accuracy: 0.4780\n",
      "Epoch 44/70\n",
      "32/32 [==============================] - 0s 15ms/step - loss: 0.6114 - accuracy: 0.6510 - val_loss: 0.7169 - val_accuracy: 0.4960\n",
      "Epoch 45/70\n",
      "32/32 [==============================] - 0s 15ms/step - loss: 0.5742 - accuracy: 0.6800 - val_loss: 0.7298 - val_accuracy: 0.5140\n",
      "Epoch 46/70\n",
      "32/32 [==============================] - 1s 15ms/step - loss: 0.5744 - accuracy: 0.6790 - val_loss: 0.7078 - val_accuracy: 0.5200\n",
      "Epoch 47/70\n",
      "32/32 [==============================] - 0s 15ms/step - loss: 0.5772 - accuracy: 0.6710 - val_loss: 0.7334 - val_accuracy: 0.5160\n",
      "Epoch 48/70\n",
      "32/32 [==============================] - 1s 15ms/step - loss: 0.5568 - accuracy: 0.6780 - val_loss: 0.7181 - val_accuracy: 0.5080\n",
      "Epoch 49/70\n",
      "32/32 [==============================] - 0s 15ms/step - loss: 0.5548 - accuracy: 0.6900 - val_loss: 0.7466 - val_accuracy: 0.4780\n",
      "Epoch 50/70\n",
      "32/32 [==============================] - 1s 15ms/step - loss: 0.5496 - accuracy: 0.6860 - val_loss: 0.7511 - val_accuracy: 0.5000\n",
      "Epoch 51/70\n",
      "32/32 [==============================] - 0s 15ms/step - loss: 0.5178 - accuracy: 0.7240 - val_loss: 0.7485 - val_accuracy: 0.4920\n",
      "Epoch 52/70\n",
      "32/32 [==============================] - 1s 15ms/step - loss: 0.5217 - accuracy: 0.7050 - val_loss: 0.7335 - val_accuracy: 0.4880\n",
      "Epoch 53/70\n",
      "32/32 [==============================] - 0s 15ms/step - loss: 0.5099 - accuracy: 0.7440 - val_loss: 0.7602 - val_accuracy: 0.5060\n",
      "Epoch 54/70\n",
      "32/32 [==============================] - 0s 15ms/step - loss: 0.4994 - accuracy: 0.7350 - val_loss: 0.7731 - val_accuracy: 0.5400\n",
      "Epoch 55/70\n",
      "32/32 [==============================] - 0s 15ms/step - loss: 0.4858 - accuracy: 0.7450 - val_loss: 0.7718 - val_accuracy: 0.4980\n",
      "Epoch 56/70\n",
      "32/32 [==============================] - 0s 15ms/step - loss: 0.4808 - accuracy: 0.7420 - val_loss: 0.7638 - val_accuracy: 0.5040\n",
      "Epoch 57/70\n",
      "32/32 [==============================] - 0s 15ms/step - loss: 0.4564 - accuracy: 0.7700 - val_loss: 0.8191 - val_accuracy: 0.5360\n",
      "Epoch 58/70\n",
      "32/32 [==============================] - 0s 15ms/step - loss: 0.4597 - accuracy: 0.7900 - val_loss: 0.8833 - val_accuracy: 0.5040\n",
      "Epoch 59/70\n",
      "32/32 [==============================] - 1s 15ms/step - loss: 0.4368 - accuracy: 0.7820 - val_loss: 0.7835 - val_accuracy: 0.5260\n",
      "Epoch 60/70\n",
      "32/32 [==============================] - 1s 15ms/step - loss: 0.4175 - accuracy: 0.7870 - val_loss: 0.8251 - val_accuracy: 0.5160\n",
      "Epoch 61/70\n",
      "32/32 [==============================] - 0s 15ms/step - loss: 0.3996 - accuracy: 0.8110 - val_loss: 0.8188 - val_accuracy: 0.5140\n",
      "Epoch 62/70\n",
      "32/32 [==============================] - 0s 15ms/step - loss: 0.3853 - accuracy: 0.8290 - val_loss: 0.8391 - val_accuracy: 0.5200\n",
      "Epoch 63/70\n",
      "32/32 [==============================] - 0s 15ms/step - loss: 0.4004 - accuracy: 0.8030 - val_loss: 0.8977 - val_accuracy: 0.5100\n",
      "Epoch 64/70\n",
      "32/32 [==============================] - 0s 15ms/step - loss: 0.3804 - accuracy: 0.8260 - val_loss: 0.8595 - val_accuracy: 0.5100\n",
      "Epoch 65/70\n",
      "32/32 [==============================] - 0s 15ms/step - loss: 0.3654 - accuracy: 0.8290 - val_loss: 0.8757 - val_accuracy: 0.5120\n",
      "Epoch 66/70\n",
      "32/32 [==============================] - 1s 15ms/step - loss: 0.3399 - accuracy: 0.8520 - val_loss: 0.9460 - val_accuracy: 0.5240\n",
      "Epoch 67/70\n",
      "32/32 [==============================] - 0s 15ms/step - loss: 0.3467 - accuracy: 0.8360 - val_loss: 0.9397 - val_accuracy: 0.5140\n",
      "Epoch 68/70\n",
      "32/32 [==============================] - 1s 15ms/step - loss: 0.3225 - accuracy: 0.8560 - val_loss: 1.0023 - val_accuracy: 0.5140\n",
      "Epoch 69/70\n",
      "32/32 [==============================] - 1s 15ms/step - loss: 0.3000 - accuracy: 0.8580 - val_loss: 0.9696 - val_accuracy: 0.5040\n",
      "Epoch 70/70\n",
      "32/32 [==============================] - 0s 15ms/step - loss: 0.2694 - accuracy: 0.8900 - val_loss: 0.9681 - val_accuracy: 0.5120\n"
     ]
    }
   ],
   "source": [
    "\"\"\"\n",
    "We give the train and validation data to the function fit() that permit to train a model to make binary classification. \n",
    "We also fix the number of epochs (runtime) during the training that stop the process.\n",
    "\"\"\"\n",
    "\n",
    "history = model.fit(train_ds, epochs=70, validation_data=validation_ds)\n"
   ]
  },
  {
   "attachments": {},
   "cell_type": "markdown",
   "id": "7bf4166c",
   "metadata": {},
   "source": [
    "The model is trained, it is the moment to analyze the performances. We plot the accuracy and loss of the model during the training with train and validation set."
   ]
  },
  {
   "cell_type": "code",
   "execution_count": 31,
   "id": "ea2db8ce",
   "metadata": {},
   "outputs": [
    {
     "data": {
      "text/plain": [
       "<matplotlib.legend.Legend at 0x7fe39c510430>"
      ]
     },
     "execution_count": 31,
     "metadata": {},
     "output_type": "execute_result"
    },
    {
     "data": {
      "image/png": "[encoded data removed]",
      "text/plain": [
       "<Figure size 640x480 with 1 Axes>"
      ]
     },
     "metadata": {},
     "output_type": "display_data"
    }
   ],
   "source": [
    "# Plot accuracy of the model with train and validation data\n",
    "plt.plot(history.history['accuracy'], label='accuracy')\n",
    "plt.plot(history.history['val_accuracy'], label = 'val_accuracy')\n",
    "plt.xlabel('Epoch')\n",
    "plt.ylabel('Accuracy')\n",
    "plt.legend()"
   ]
  },
  {
   "cell_type": "code",
   "execution_count": 32,
   "id": "c8fe1691",
   "metadata": {},
   "outputs": [
    {
     "data": {
      "text/plain": [
       "<matplotlib.legend.Legend at 0x7fe2d01c6770>"
      ]
     },
     "execution_count": 32,
     "metadata": {},
     "output_type": "execute_result"
    },
    {
     "data": {
      "image/png": "[encoded data removed]",
      "text/plain": [
       "<Figure size 640x480 with 1 Axes>"
      ]
     },
     "metadata": {},
     "output_type": "display_data"
    }
   ],
   "source": [
    "# Plot loss of the model with train and validation data\n",
    "plt.plot(history.history['loss'], label='loss')\n",
    "plt.plot(history.history['val_loss'], label = 'val_loss')\n",
    "plt.xlabel('Epoch')\n",
    "plt.ylabel('Loss')\n",
    "plt.legend()"
   ]
  },
  {
   "attachments": {},
   "cell_type": "markdown",
   "id": "d4a773b3",
   "metadata": {},
   "source": [
    "From now on it is necessary to understand if the model have learned from the base. In our case the answer is negative because the accuracy is very low and the loss too high for validation set.\n",
    "\n",
    "From the graphics we can also observe that the model is overfitting the train data base, i.e. it is not robust with other data base with the same characteristics but different images."
   ]
  },
  {
   "attachments": {},
   "cell_type": "markdown",
   "id": "359a2bd5",
   "metadata": {},
   "source": [
    "We build a CNN adopting a pre-trained architecture proposed by Tensorflow library."
   ]
  },
  {
   "cell_type": "code",
   "execution_count": 16,
   "id": "0f62e52e",
   "metadata": {},
   "outputs": [
    {
     "name": "stdout",
     "output_type": "stream",
     "text": [
      "Epoch 1/10\n"
     ]
    },
    {
     "name": "stderr",
     "output_type": "stream",
     "text": [
      "2023-06-06 22:18:35.015958: E tensorflow/compiler/xla/stream_executor/gpu/gpu_cudamallocasync_allocator.cc:306] gpu_async_0 cuMemAllocAsync failed to allocate 2435055616 bytes: CUDA error: out of memory (CUDA_ERROR_OUT_OF_MEMORY)\n",
      " Reported by CUDA: Free memory/Total memory: 312410112/4225695744\n",
      "2023-06-06 22:18:35.016000: E tensorflow/compiler/xla/stream_executor/gpu/gpu_cudamallocasync_allocator.cc:311] Stats: Limit:                      2832596992\n",
      "InUse:                       665041797\n",
      "MaxInUse:                   1945545733\n",
      "NumAllocs:                      258136\n",
      "MaxAllocSize:               1300234240\n",
      "Reserved:                            0\n",
      "PeakReserved:                        0\n",
      "LargestFreeBlock:                    0\n",
      "\n",
      "2023-06-06 22:18:35.016056: E tensorflow/compiler/xla/stream_executor/gpu/gpu_cudamallocasync_allocator.cc:63] Histogram of current allocation: (allocation_size_in_bytes, nb_allocation_of_that_sizes), ...;\n",
      "2023-06-06 22:18:35.016063: E tensorflow/compiler/xla/stream_executor/gpu/gpu_cudamallocasync_allocator.cc:66] 1, 1\n",
      "2023-06-06 22:18:35.016070: E tensorflow/compiler/xla/stream_executor/gpu/gpu_cudamallocasync_allocator.cc:66] 4, 72\n",
      "2023-06-06 22:18:35.016075: E tensorflow/compiler/xla/stream_executor/gpu/gpu_cudamallocasync_allocator.cc:66] 8, 28\n",
      "2023-06-06 22:18:35.016080: E tensorflow/compiler/xla/stream_executor/gpu/gpu_cudamallocasync_allocator.cc:66] 128, 6\n",
      "2023-06-06 22:18:35.016084: E tensorflow/compiler/xla/stream_executor/gpu/gpu_cudamallocasync_allocator.cc:66] 256, 97\n",
      "2023-06-06 22:18:35.016089: E tensorflow/compiler/xla/stream_executor/gpu/gpu_cudamallocasync_allocator.cc:66] 512, 107\n",
      "2023-06-06 22:18:35.016094: E tensorflow/compiler/xla/stream_executor/gpu/gpu_cudamallocasync_allocator.cc:66] 1024, 211\n",
      "2023-06-06 22:18:35.016099: E tensorflow/compiler/xla/stream_executor/gpu/gpu_cudamallocasync_allocator.cc:66] 1028, 1\n",
      "2023-06-06 22:18:35.016104: E tensorflow/compiler/xla/stream_executor/gpu/gpu_cudamallocasync_allocator.cc:66] 2048, 143\n",
      "2023-06-06 22:18:35.016109: E tensorflow/compiler/xla/stream_executor/gpu/gpu_cudamallocasync_allocator.cc:66] 3456, 3\n",
      "2023-06-06 22:18:35.016113: E tensorflow/compiler/xla/stream_executor/gpu/gpu_cudamallocasync_allocator.cc:66] 4096, 91\n",
      "2023-06-06 22:18:35.016118: E tensorflow/compiler/xla/stream_executor/gpu/gpu_cudamallocasync_allocator.cc:66] 8192, 52\n",
      "2023-06-06 22:18:35.016125: E tensorflow/compiler/xla/stream_executor/gpu/gpu_cudamallocasync_allocator.cc:66] 16384, 6\n",
      "2023-06-06 22:18:35.016132: E tensorflow/compiler/xla/stream_executor/gpu/gpu_cudamallocasync_allocator.cc:66] 36864, 3\n",
      "2023-06-06 22:18:35.016138: E tensorflow/compiler/xla/stream_executor/gpu/gpu_cudamallocasync_allocator.cc:66] 37632, 3\n",
      "2023-06-06 22:18:35.016145: E tensorflow/compiler/xla/stream_executor/gpu/gpu_cudamallocasync_allocator.cc:66] 65536, 18\n",
      "2023-06-06 22:18:35.016152: E tensorflow/compiler/xla/stream_executor/gpu/gpu_cudamallocasync_allocator.cc:66] 73728, 3\n",
      "2023-06-06 22:18:35.016160: E tensorflow/compiler/xla/stream_executor/gpu/gpu_cudamallocasync_allocator.cc:66] 131072, 3\n",
      "2023-06-06 22:18:35.016167: E tensorflow/compiler/xla/stream_executor/gpu/gpu_cudamallocasync_allocator.cc:66] 147456, 9\n",
      "2023-06-06 22:18:35.016174: E tensorflow/compiler/xla/stream_executor/gpu/gpu_cudamallocasync_allocator.cc:66] 262144, 21\n",
      "2023-06-06 22:18:35.016181: E tensorflow/compiler/xla/stream_executor/gpu/gpu_cudamallocasync_allocator.cc:66] 524288, 6\n",
      "2023-06-06 22:18:35.016189: E tensorflow/compiler/xla/stream_executor/gpu/gpu_cudamallocasync_allocator.cc:66] 589824, 30\n",
      "2023-06-06 22:18:35.016196: E tensorflow/compiler/xla/stream_executor/gpu/gpu_cudamallocasync_allocator.cc:66] 819200, 24\n",
      "2023-06-06 22:18:35.016203: E tensorflow/compiler/xla/stream_executor/gpu/gpu_cudamallocasync_allocator.cc:66] 1048576, 33\n",
      "2023-06-06 22:18:35.016210: E tensorflow/compiler/xla/stream_executor/gpu/gpu_cudamallocasync_allocator.cc:66] 1638400, 16\n",
      "2023-06-06 22:18:35.016217: E tensorflow/compiler/xla/stream_executor/gpu/gpu_cudamallocasync_allocator.cc:66] 2097152, 6\n",
      "2023-06-06 22:18:35.016224: E tensorflow/compiler/xla/stream_executor/gpu/gpu_cudamallocasync_allocator.cc:66] 2359296, 25\n",
      "2023-06-06 22:18:35.016231: E tensorflow/compiler/xla/stream_executor/gpu/gpu_cudamallocasync_allocator.cc:66] 2840064, 1\n",
      "2023-06-06 22:18:35.016237: E tensorflow/compiler/xla/stream_executor/gpu/gpu_cudamallocasync_allocator.cc:66] 3276800, 26\n",
      "2023-06-06 22:18:35.016247: E tensorflow/compiler/xla/stream_executor/gpu/gpu_cudamallocasync_allocator.cc:66] 4194304, 17\n",
      "2023-06-06 22:18:35.016254: E tensorflow/compiler/xla/stream_executor/gpu/gpu_cudamallocasync_allocator.cc:66] 6553600, 9\n",
      "2023-06-06 22:18:35.016260: E tensorflow/compiler/xla/stream_executor/gpu/gpu_cudamallocasync_allocator.cc:66] 8388608, 3\n",
      "2023-06-06 22:18:35.016268: E tensorflow/compiler/xla/stream_executor/gpu/gpu_cudamallocasync_allocator.cc:66] 9437184, 9\n",
      "2023-06-06 22:18:35.016275: E tensorflow/compiler/xla/stream_executor/gpu/gpu_cudamallocasync_allocator.cc:66] 13107200, 9\n",
      "2023-06-06 22:18:35.016282: E tensorflow/compiler/xla/stream_executor/gpu/gpu_cudamallocasync_allocator.cc:66] 14450688, 1\n",
      "2023-06-06 22:18:35.016290: E tensorflow/compiler/xla/stream_executor/gpu/gpu_cudamallocasync_allocator.cc:66] 20971520, 1\n",
      "2023-06-06 22:18:35.016301: E tensorflow/compiler/xla/stream_executor/gpu/gpu_cudamallocasync_allocator.cc:97] CU_MEMPOOL_ATTR_RESERVED_MEM_CURRENT: 2818572288\n",
      "2023-06-06 22:18:35.016309: E tensorflow/compiler/xla/stream_executor/gpu/gpu_cudamallocasync_allocator.cc:99] CU_MEMPOOL_ATTR_USED_MEM_CURRENT: 665041797\n",
      "2023-06-06 22:18:35.016317: E tensorflow/compiler/xla/stream_executor/gpu/gpu_cudamallocasync_allocator.cc:100] CU_MEMPOOL_ATTR_RESERVED_MEM_HIGH: 3087007744\n",
      "2023-06-06 22:18:35.016325: E tensorflow/compiler/xla/stream_executor/gpu/gpu_cudamallocasync_allocator.cc:101] CU_MEMPOOL_ATTR_USED_MEM_HIGH: 1945545733\n",
      "2023-06-06 22:18:35.096508: E tensorflow/compiler/xla/stream_executor/gpu/gpu_cudamallocasync_allocator.cc:306] gpu_async_0 cuMemAllocAsync failed to allocate 2587885568 bytes: CUDA error: out of memory (CUDA_ERROR_OUT_OF_MEMORY)\n",
      " Reported by CUDA: Free memory/Total memory: 312410112/4225695744\n",
      "2023-06-06 22:18:35.096543: E tensorflow/compiler/xla/stream_executor/gpu/gpu_cudamallocasync_allocator.cc:311] Stats: Limit:                      2832596992\n",
      "InUse:                       662625157\n",
      "MaxInUse:                   1945545733\n",
      "NumAllocs:                      258153\n",
      "MaxAllocSize:               1300234240\n",
      "Reserved:                            0\n",
      "PeakReserved:                        0\n",
      "LargestFreeBlock:                    0\n",
      "\n",
      "2023-06-06 22:18:35.096583: E tensorflow/compiler/xla/stream_executor/gpu/gpu_cudamallocasync_allocator.cc:63] Histogram of current allocation: (allocation_size_in_bytes, nb_allocation_of_that_sizes), ...;\n",
      "2023-06-06 22:18:35.096588: E tensorflow/compiler/xla/stream_executor/gpu/gpu_cudamallocasync_allocator.cc:66] 1, 1\n",
      "2023-06-06 22:18:35.096592: E tensorflow/compiler/xla/stream_executor/gpu/gpu_cudamallocasync_allocator.cc:66] 4, 72\n",
      "2023-06-06 22:18:35.096596: E tensorflow/compiler/xla/stream_executor/gpu/gpu_cudamallocasync_allocator.cc:66] 8, 28\n",
      "2023-06-06 22:18:35.096599: E tensorflow/compiler/xla/stream_executor/gpu/gpu_cudamallocasync_allocator.cc:66] 128, 6\n",
      "2023-06-06 22:18:35.096603: E tensorflow/compiler/xla/stream_executor/gpu/gpu_cudamallocasync_allocator.cc:66] 256, 97\n",
      "2023-06-06 22:18:35.096606: E tensorflow/compiler/xla/stream_executor/gpu/gpu_cudamallocasync_allocator.cc:66] 512, 107\n",
      "2023-06-06 22:18:35.096610: E tensorflow/compiler/xla/stream_executor/gpu/gpu_cudamallocasync_allocator.cc:66] 1024, 211\n",
      "2023-06-06 22:18:35.096613: E tensorflow/compiler/xla/stream_executor/gpu/gpu_cudamallocasync_allocator.cc:66] 1028, 1\n",
      "2023-06-06 22:18:35.096617: E tensorflow/compiler/xla/stream_executor/gpu/gpu_cudamallocasync_allocator.cc:66] 2048, 143\n",
      "2023-06-06 22:18:35.096620: E tensorflow/compiler/xla/stream_executor/gpu/gpu_cudamallocasync_allocator.cc:66] 3456, 3\n",
      "2023-06-06 22:18:35.096623: E tensorflow/compiler/xla/stream_executor/gpu/gpu_cudamallocasync_allocator.cc:66] 4096, 91\n",
      "2023-06-06 22:18:35.096627: E tensorflow/compiler/xla/stream_executor/gpu/gpu_cudamallocasync_allocator.cc:66] 8192, 53\n",
      "2023-06-06 22:18:35.096630: E tensorflow/compiler/xla/stream_executor/gpu/gpu_cudamallocasync_allocator.cc:66] 16384, 6\n",
      "2023-06-06 22:18:35.096634: E tensorflow/compiler/xla/stream_executor/gpu/gpu_cudamallocasync_allocator.cc:66] 36864, 3\n",
      "2023-06-06 22:18:35.096637: E tensorflow/compiler/xla/stream_executor/gpu/gpu_cudamallocasync_allocator.cc:66] 37632, 3\n",
      "2023-06-06 22:18:35.096641: E tensorflow/compiler/xla/stream_executor/gpu/gpu_cudamallocasync_allocator.cc:66] 65536, 18\n",
      "2023-06-06 22:18:35.096644: E tensorflow/compiler/xla/stream_executor/gpu/gpu_cudamallocasync_allocator.cc:66] 73728, 3\n",
      "2023-06-06 22:18:35.096648: E tensorflow/compiler/xla/stream_executor/gpu/gpu_cudamallocasync_allocator.cc:66] 131072, 3\n",
      "2023-06-06 22:18:35.096651: E tensorflow/compiler/xla/stream_executor/gpu/gpu_cudamallocasync_allocator.cc:66] 147456, 9\n",
      "2023-06-06 22:18:35.096655: E tensorflow/compiler/xla/stream_executor/gpu/gpu_cudamallocasync_allocator.cc:66] 262144, 21\n",
      "2023-06-06 22:18:35.096658: E tensorflow/compiler/xla/stream_executor/gpu/gpu_cudamallocasync_allocator.cc:66] 524288, 6\n",
      "2023-06-06 22:18:35.096661: E tensorflow/compiler/xla/stream_executor/gpu/gpu_cudamallocasync_allocator.cc:66] 589824, 32\n",
      "2023-06-06 22:18:35.096665: E tensorflow/compiler/xla/stream_executor/gpu/gpu_cudamallocasync_allocator.cc:66] 819200, 24\n",
      "2023-06-06 22:18:35.096668: E tensorflow/compiler/xla/stream_executor/gpu/gpu_cudamallocasync_allocator.cc:66] 1048576, 33\n",
      "2023-06-06 22:18:35.096672: E tensorflow/compiler/xla/stream_executor/gpu/gpu_cudamallocasync_allocator.cc:66] 1638400, 16\n",
      "2023-06-06 22:18:35.096675: E tensorflow/compiler/xla/stream_executor/gpu/gpu_cudamallocasync_allocator.cc:66] 2097152, 6\n",
      "2023-06-06 22:18:35.096679: E tensorflow/compiler/xla/stream_executor/gpu/gpu_cudamallocasync_allocator.cc:66] 2359296, 25\n",
      "2023-06-06 22:18:35.096682: E tensorflow/compiler/xla/stream_executor/gpu/gpu_cudamallocasync_allocator.cc:66] 2840064, 1\n",
      "2023-06-06 22:18:35.096686: E tensorflow/compiler/xla/stream_executor/gpu/gpu_cudamallocasync_allocator.cc:66] 3276800, 26\n",
      "2023-06-06 22:18:35.096689: E tensorflow/compiler/xla/stream_executor/gpu/gpu_cudamallocasync_allocator.cc:66] 4194304, 17\n",
      "2023-06-06 22:18:35.096692: E tensorflow/compiler/xla/stream_executor/gpu/gpu_cudamallocasync_allocator.cc:66] 6553600, 9\n",
      "2023-06-06 22:18:35.096696: E tensorflow/compiler/xla/stream_executor/gpu/gpu_cudamallocasync_allocator.cc:66] 8388608, 3\n",
      "2023-06-06 22:18:35.096699: E tensorflow/compiler/xla/stream_executor/gpu/gpu_cudamallocasync_allocator.cc:66] 9437184, 9\n",
      "2023-06-06 22:18:35.096703: E tensorflow/compiler/xla/stream_executor/gpu/gpu_cudamallocasync_allocator.cc:66] 13107200, 9\n",
      "2023-06-06 22:18:35.096706: E tensorflow/compiler/xla/stream_executor/gpu/gpu_cudamallocasync_allocator.cc:66] 14450688, 1\n",
      "2023-06-06 22:18:35.096710: E tensorflow/compiler/xla/stream_executor/gpu/gpu_cudamallocasync_allocator.cc:66] 17367040, 1\n",
      "2023-06-06 22:18:35.096715: E tensorflow/compiler/xla/stream_executor/gpu/gpu_cudamallocasync_allocator.cc:97] CU_MEMPOOL_ATTR_RESERVED_MEM_CURRENT: 2818572288\n",
      "2023-06-06 22:18:35.096719: E tensorflow/compiler/xla/stream_executor/gpu/gpu_cudamallocasync_allocator.cc:99] CU_MEMPOOL_ATTR_USED_MEM_CURRENT: 662625157\n",
      "2023-06-06 22:18:35.096723: E tensorflow/compiler/xla/stream_executor/gpu/gpu_cudamallocasync_allocator.cc:100] CU_MEMPOOL_ATTR_RESERVED_MEM_HIGH: 3087007744\n",
      "2023-06-06 22:18:35.096726: E tensorflow/compiler/xla/stream_executor/gpu/gpu_cudamallocasync_allocator.cc:101] CU_MEMPOOL_ATTR_USED_MEM_HIGH: 1945545733\n",
      "2023-06-06 22:18:35.432930: E tensorflow/compiler/xla/stream_executor/gpu/gpu_cudamallocasync_allocator.cc:306] gpu_async_0 cuMemAllocAsync failed to allocate 2474639360 bytes: CUDA error: out of memory (CUDA_ERROR_OUT_OF_MEMORY)\n",
      " Reported by CUDA: Free memory/Total memory: 312410112/4225695744\n",
      "2023-06-06 22:18:35.432964: E tensorflow/compiler/xla/stream_executor/gpu/gpu_cudamallocasync_allocator.cc:311] Stats: Limit:                      2832596992\n",
      "InUse:                       659583877\n",
      "MaxInUse:                   1970373509\n",
      "NumAllocs:                      258211\n",
      "MaxAllocSize:               1300234240\n",
      "Reserved:                            0\n",
      "PeakReserved:                        0\n",
      "LargestFreeBlock:                    0\n",
      "\n",
      "2023-06-06 22:18:35.433004: E tensorflow/compiler/xla/stream_executor/gpu/gpu_cudamallocasync_allocator.cc:63] Histogram of current allocation: (allocation_size_in_bytes, nb_allocation_of_that_sizes), ...;\n",
      "2023-06-06 22:18:35.433009: E tensorflow/compiler/xla/stream_executor/gpu/gpu_cudamallocasync_allocator.cc:66] 1, 1\n",
      "2023-06-06 22:18:35.433013: E tensorflow/compiler/xla/stream_executor/gpu/gpu_cudamallocasync_allocator.cc:66] 4, 72\n",
      "2023-06-06 22:18:35.433016: E tensorflow/compiler/xla/stream_executor/gpu/gpu_cudamallocasync_allocator.cc:66] 8, 28\n",
      "2023-06-06 22:18:35.433020: E tensorflow/compiler/xla/stream_executor/gpu/gpu_cudamallocasync_allocator.cc:66] 128, 6\n",
      "2023-06-06 22:18:35.433023: E tensorflow/compiler/xla/stream_executor/gpu/gpu_cudamallocasync_allocator.cc:66] 256, 97\n",
      "2023-06-06 22:18:35.433027: E tensorflow/compiler/xla/stream_executor/gpu/gpu_cudamallocasync_allocator.cc:66] 512, 107\n",
      "2023-06-06 22:18:35.433030: E tensorflow/compiler/xla/stream_executor/gpu/gpu_cudamallocasync_allocator.cc:66] 1024, 211\n",
      "2023-06-06 22:18:35.433033: E tensorflow/compiler/xla/stream_executor/gpu/gpu_cudamallocasync_allocator.cc:66] 1028, 1\n",
      "2023-06-06 22:18:35.433037: E tensorflow/compiler/xla/stream_executor/gpu/gpu_cudamallocasync_allocator.cc:66] 2048, 142\n",
      "2023-06-06 22:18:35.433040: E tensorflow/compiler/xla/stream_executor/gpu/gpu_cudamallocasync_allocator.cc:66] 3456, 3\n",
      "2023-06-06 22:18:35.433043: E tensorflow/compiler/xla/stream_executor/gpu/gpu_cudamallocasync_allocator.cc:66] 4096, 91\n",
      "2023-06-06 22:18:35.433047: E tensorflow/compiler/xla/stream_executor/gpu/gpu_cudamallocasync_allocator.cc:66] 8192, 50\n",
      "2023-06-06 22:18:35.433050: E tensorflow/compiler/xla/stream_executor/gpu/gpu_cudamallocasync_allocator.cc:66] 16384, 6\n",
      "2023-06-06 22:18:35.433053: E tensorflow/compiler/xla/stream_executor/gpu/gpu_cudamallocasync_allocator.cc:66] 36864, 3\n",
      "2023-06-06 22:18:35.433057: E tensorflow/compiler/xla/stream_executor/gpu/gpu_cudamallocasync_allocator.cc:66] 37632, 3\n",
      "2023-06-06 22:18:35.433062: E tensorflow/compiler/xla/stream_executor/gpu/gpu_cudamallocasync_allocator.cc:66] 65536, 18\n",
      "2023-06-06 22:18:35.433066: E tensorflow/compiler/xla/stream_executor/gpu/gpu_cudamallocasync_allocator.cc:66] 73728, 3\n",
      "2023-06-06 22:18:35.433071: E tensorflow/compiler/xla/stream_executor/gpu/gpu_cudamallocasync_allocator.cc:66] 131072, 3\n",
      "2023-06-06 22:18:35.433076: E tensorflow/compiler/xla/stream_executor/gpu/gpu_cudamallocasync_allocator.cc:66] 147456, 9\n",
      "2023-06-06 22:18:35.433081: E tensorflow/compiler/xla/stream_executor/gpu/gpu_cudamallocasync_allocator.cc:66] 262144, 21\n",
      "2023-06-06 22:18:35.433086: E tensorflow/compiler/xla/stream_executor/gpu/gpu_cudamallocasync_allocator.cc:66] 524288, 6\n",
      "2023-06-06 22:18:35.433091: E tensorflow/compiler/xla/stream_executor/gpu/gpu_cudamallocasync_allocator.cc:66] 589824, 27\n",
      "2023-06-06 22:18:35.433097: E tensorflow/compiler/xla/stream_executor/gpu/gpu_cudamallocasync_allocator.cc:66] 819200, 24\n",
      "2023-06-06 22:18:35.433102: E tensorflow/compiler/xla/stream_executor/gpu/gpu_cudamallocasync_allocator.cc:66] 1048576, 33\n",
      "2023-06-06 22:18:35.433108: E tensorflow/compiler/xla/stream_executor/gpu/gpu_cudamallocasync_allocator.cc:66] 1638400, 16\n",
      "2023-06-06 22:18:35.433113: E tensorflow/compiler/xla/stream_executor/gpu/gpu_cudamallocasync_allocator.cc:66] 2097152, 6\n",
      "2023-06-06 22:18:35.433118: E tensorflow/compiler/xla/stream_executor/gpu/gpu_cudamallocasync_allocator.cc:66] 2359296, 26\n",
      "2023-06-06 22:18:35.433123: E tensorflow/compiler/xla/stream_executor/gpu/gpu_cudamallocasync_allocator.cc:66] 2840064, 1\n",
      "2023-06-06 22:18:35.433128: E tensorflow/compiler/xla/stream_executor/gpu/gpu_cudamallocasync_allocator.cc:66] 3276800, 26\n",
      "2023-06-06 22:18:35.433135: E tensorflow/compiler/xla/stream_executor/gpu/gpu_cudamallocasync_allocator.cc:66] 4194304, 16\n",
      "2023-06-06 22:18:35.433140: E tensorflow/compiler/xla/stream_executor/gpu/gpu_cudamallocasync_allocator.cc:66] 6553600, 9\n",
      "2023-06-06 22:18:35.433145: E tensorflow/compiler/xla/stream_executor/gpu/gpu_cudamallocasync_allocator.cc:66] 8388608, 3\n",
      "2023-06-06 22:18:35.433150: E tensorflow/compiler/xla/stream_executor/gpu/gpu_cudamallocasync_allocator.cc:66] 9437184, 9\n",
      "2023-06-06 22:18:35.433155: E tensorflow/compiler/xla/stream_executor/gpu/gpu_cudamallocasync_allocator.cc:66] 13107200, 9\n",
      "2023-06-06 22:18:35.433161: E tensorflow/compiler/xla/stream_executor/gpu/gpu_cudamallocasync_allocator.cc:66] 14450688, 1\n",
      "2023-06-06 22:18:35.433166: E tensorflow/compiler/xla/stream_executor/gpu/gpu_cudamallocasync_allocator.cc:66] 19136512, 1\n",
      "2023-06-06 22:18:35.433173: E tensorflow/compiler/xla/stream_executor/gpu/gpu_cudamallocasync_allocator.cc:97] CU_MEMPOOL_ATTR_RESERVED_MEM_CURRENT: 2818572288\n",
      "2023-06-06 22:18:35.433179: E tensorflow/compiler/xla/stream_executor/gpu/gpu_cudamallocasync_allocator.cc:99] CU_MEMPOOL_ATTR_USED_MEM_CURRENT: 659583877\n",
      "2023-06-06 22:18:35.433185: E tensorflow/compiler/xla/stream_executor/gpu/gpu_cudamallocasync_allocator.cc:100] CU_MEMPOOL_ATTR_RESERVED_MEM_HIGH: 3087007744\n",
      "2023-06-06 22:18:35.433190: E tensorflow/compiler/xla/stream_executor/gpu/gpu_cudamallocasync_allocator.cc:101] CU_MEMPOOL_ATTR_USED_MEM_HIGH: 1970373509\n",
      "2023-06-06 22:18:35.485380: E tensorflow/compiler/xla/stream_executor/gpu/gpu_cudamallocasync_allocator.cc:306] gpu_async_0 cuMemAllocAsync failed to allocate 2433286144 bytes: CUDA error: out of memory (CUDA_ERROR_OUT_OF_MEMORY)\n",
      " Reported by CUDA: Free memory/Total memory: 312410112/4225695744\n",
      "2023-06-06 22:18:35.485412: E tensorflow/compiler/xla/stream_executor/gpu/gpu_cudamallocasync_allocator.cc:311] Stats: Limit:                      2832596992\n",
      "InUse:                       663249797\n",
      "MaxInUse:                   1970373509\n",
      "NumAllocs:                      258226\n",
      "MaxAllocSize:               1300234240\n",
      "Reserved:                            0\n",
      "PeakReserved:                        0\n",
      "LargestFreeBlock:                    0\n",
      "\n",
      "2023-06-06 22:18:35.485449: E tensorflow/compiler/xla/stream_executor/gpu/gpu_cudamallocasync_allocator.cc:63] Histogram of current allocation: (allocation_size_in_bytes, nb_allocation_of_that_sizes), ...;\n",
      "2023-06-06 22:18:35.485454: E tensorflow/compiler/xla/stream_executor/gpu/gpu_cudamallocasync_allocator.cc:66] 1, 1\n",
      "2023-06-06 22:18:35.485458: E tensorflow/compiler/xla/stream_executor/gpu/gpu_cudamallocasync_allocator.cc:66] 4, 72\n",
      "2023-06-06 22:18:35.485461: E tensorflow/compiler/xla/stream_executor/gpu/gpu_cudamallocasync_allocator.cc:66] 8, 28\n",
      "2023-06-06 22:18:35.485465: E tensorflow/compiler/xla/stream_executor/gpu/gpu_cudamallocasync_allocator.cc:66] 128, 6\n",
      "2023-06-06 22:18:35.485468: E tensorflow/compiler/xla/stream_executor/gpu/gpu_cudamallocasync_allocator.cc:66] 256, 97\n",
      "2023-06-06 22:18:35.485472: E tensorflow/compiler/xla/stream_executor/gpu/gpu_cudamallocasync_allocator.cc:66] 512, 107\n",
      "2023-06-06 22:18:35.485475: E tensorflow/compiler/xla/stream_executor/gpu/gpu_cudamallocasync_allocator.cc:66] 1024, 211\n",
      "2023-06-06 22:18:35.485479: E tensorflow/compiler/xla/stream_executor/gpu/gpu_cudamallocasync_allocator.cc:66] 1028, 1\n",
      "2023-06-06 22:18:35.485482: E tensorflow/compiler/xla/stream_executor/gpu/gpu_cudamallocasync_allocator.cc:66] 2048, 140\n",
      "2023-06-06 22:18:35.485486: E tensorflow/compiler/xla/stream_executor/gpu/gpu_cudamallocasync_allocator.cc:66] 3456, 3\n",
      "2023-06-06 22:18:35.485489: E tensorflow/compiler/xla/stream_executor/gpu/gpu_cudamallocasync_allocator.cc:66] 4096, 91\n",
      "2023-06-06 22:18:35.485493: E tensorflow/compiler/xla/stream_executor/gpu/gpu_cudamallocasync_allocator.cc:66] 8192, 50\n",
      "2023-06-06 22:18:35.485496: E tensorflow/compiler/xla/stream_executor/gpu/gpu_cudamallocasync_allocator.cc:66] 16384, 6\n",
      "2023-06-06 22:18:35.485499: E tensorflow/compiler/xla/stream_executor/gpu/gpu_cudamallocasync_allocator.cc:66] 36864, 3\n",
      "2023-06-06 22:18:35.485503: E tensorflow/compiler/xla/stream_executor/gpu/gpu_cudamallocasync_allocator.cc:66] 37632, 3\n",
      "2023-06-06 22:18:35.485506: E tensorflow/compiler/xla/stream_executor/gpu/gpu_cudamallocasync_allocator.cc:66] 65536, 18\n",
      "2023-06-06 22:18:35.485510: E tensorflow/compiler/xla/stream_executor/gpu/gpu_cudamallocasync_allocator.cc:66] 73728, 3\n",
      "2023-06-06 22:18:35.485513: E tensorflow/compiler/xla/stream_executor/gpu/gpu_cudamallocasync_allocator.cc:66] 131072, 3\n",
      "2023-06-06 22:18:35.485517: E tensorflow/compiler/xla/stream_executor/gpu/gpu_cudamallocasync_allocator.cc:66] 147456, 9\n",
      "2023-06-06 22:18:35.485520: E tensorflow/compiler/xla/stream_executor/gpu/gpu_cudamallocasync_allocator.cc:66] 262144, 21\n",
      "2023-06-06 22:18:35.485524: E tensorflow/compiler/xla/stream_executor/gpu/gpu_cudamallocasync_allocator.cc:66] 524288, 6\n",
      "2023-06-06 22:18:35.485527: E tensorflow/compiler/xla/stream_executor/gpu/gpu_cudamallocasync_allocator.cc:66] 589824, 27\n",
      "2023-06-06 22:18:35.485530: E tensorflow/compiler/xla/stream_executor/gpu/gpu_cudamallocasync_allocator.cc:66] 819200, 24\n",
      "2023-06-06 22:18:35.485534: E tensorflow/compiler/xla/stream_executor/gpu/gpu_cudamallocasync_allocator.cc:66] 1048576, 33\n",
      "2023-06-06 22:18:35.485537: E tensorflow/compiler/xla/stream_executor/gpu/gpu_cudamallocasync_allocator.cc:66] 1638400, 16\n",
      "2023-06-06 22:18:35.485541: E tensorflow/compiler/xla/stream_executor/gpu/gpu_cudamallocasync_allocator.cc:66] 2097152, 6\n",
      "2023-06-06 22:18:35.485544: E tensorflow/compiler/xla/stream_executor/gpu/gpu_cudamallocasync_allocator.cc:66] 2359296, 25\n",
      "2023-06-06 22:18:35.485548: E tensorflow/compiler/xla/stream_executor/gpu/gpu_cudamallocasync_allocator.cc:66] 2840064, 1\n",
      "2023-06-06 22:18:35.485556: E tensorflow/compiler/xla/stream_executor/gpu/gpu_cudamallocasync_allocator.cc:66] 3276800, 26\n",
      "2023-06-06 22:18:35.485560: E tensorflow/compiler/xla/stream_executor/gpu/gpu_cudamallocasync_allocator.cc:66] 4194304, 17\n",
      "2023-06-06 22:18:35.485563: E tensorflow/compiler/xla/stream_executor/gpu/gpu_cudamallocasync_allocator.cc:66] 6553600, 9\n",
      "2023-06-06 22:18:35.485567: E tensorflow/compiler/xla/stream_executor/gpu/gpu_cudamallocasync_allocator.cc:66] 8388608, 3\n",
      "2023-06-06 22:18:35.485570: E tensorflow/compiler/xla/stream_executor/gpu/gpu_cudamallocasync_allocator.cc:66] 9437184, 9\n",
      "2023-06-06 22:18:35.485574: E tensorflow/compiler/xla/stream_executor/gpu/gpu_cudamallocasync_allocator.cc:66] 13107200, 9\n",
      "2023-06-06 22:18:35.485577: E tensorflow/compiler/xla/stream_executor/gpu/gpu_cudamallocasync_allocator.cc:66] 14450688, 1\n",
      "2023-06-06 22:18:35.485580: E tensorflow/compiler/xla/stream_executor/gpu/gpu_cudamallocasync_allocator.cc:66] 20971520, 1\n",
      "2023-06-06 22:18:35.485585: E tensorflow/compiler/xla/stream_executor/gpu/gpu_cudamallocasync_allocator.cc:97] CU_MEMPOOL_ATTR_RESERVED_MEM_CURRENT: 2818572288\n",
      "2023-06-06 22:18:35.485589: E tensorflow/compiler/xla/stream_executor/gpu/gpu_cudamallocasync_allocator.cc:99] CU_MEMPOOL_ATTR_USED_MEM_CURRENT: 663249797\n",
      "2023-06-06 22:18:35.485593: E tensorflow/compiler/xla/stream_executor/gpu/gpu_cudamallocasync_allocator.cc:100] CU_MEMPOOL_ATTR_RESERVED_MEM_HIGH: 3087007744\n",
      "2023-06-06 22:18:35.485596: E tensorflow/compiler/xla/stream_executor/gpu/gpu_cudamallocasync_allocator.cc:101] CU_MEMPOOL_ATTR_USED_MEM_HIGH: 1970373509\n",
      "2023-06-06 22:18:35.829791: E tensorflow/compiler/xla/stream_executor/gpu/gpu_cudamallocasync_allocator.cc:306] gpu_async_0 cuMemAllocAsync failed to allocate 4908449808 bytes: CUDA error: out of memory (CUDA_ERROR_OUT_OF_MEMORY)\n",
      " Reported by CUDA: Free memory/Total memory: 314507264/4225695744\n",
      "2023-06-06 22:18:35.829828: E tensorflow/compiler/xla/stream_executor/gpu/gpu_cudamallocasync_allocator.cc:311] Stats: Limit:                      2832596992\n",
      "InUse:                       644576133\n",
      "MaxInUse:                   1970373509\n",
      "NumAllocs:                      258329\n",
      "MaxAllocSize:               1300234240\n",
      "Reserved:                            0\n",
      "PeakReserved:                        0\n",
      "LargestFreeBlock:                    0\n",
      "\n",
      "2023-06-06 22:18:35.829869: E tensorflow/compiler/xla/stream_executor/gpu/gpu_cudamallocasync_allocator.cc:63] Histogram of current allocation: (allocation_size_in_bytes, nb_allocation_of_that_sizes), ...;\n",
      "2023-06-06 22:18:35.829874: E tensorflow/compiler/xla/stream_executor/gpu/gpu_cudamallocasync_allocator.cc:66] 1, 1\n",
      "2023-06-06 22:18:35.829878: E tensorflow/compiler/xla/stream_executor/gpu/gpu_cudamallocasync_allocator.cc:66] 4, 72\n",
      "2023-06-06 22:18:35.829882: E tensorflow/compiler/xla/stream_executor/gpu/gpu_cudamallocasync_allocator.cc:66] 8, 28\n",
      "2023-06-06 22:18:35.829885: E tensorflow/compiler/xla/stream_executor/gpu/gpu_cudamallocasync_allocator.cc:66] 128, 6\n",
      "2023-06-06 22:18:35.829888: E tensorflow/compiler/xla/stream_executor/gpu/gpu_cudamallocasync_allocator.cc:66] 256, 97\n",
      "2023-06-06 22:18:35.829892: E tensorflow/compiler/xla/stream_executor/gpu/gpu_cudamallocasync_allocator.cc:66] 512, 107\n",
      "2023-06-06 22:18:35.829895: E tensorflow/compiler/xla/stream_executor/gpu/gpu_cudamallocasync_allocator.cc:66] 1024, 211\n",
      "2023-06-06 22:18:35.829899: E tensorflow/compiler/xla/stream_executor/gpu/gpu_cudamallocasync_allocator.cc:66] 1028, 1\n",
      "2023-06-06 22:18:35.829902: E tensorflow/compiler/xla/stream_executor/gpu/gpu_cudamallocasync_allocator.cc:66] 2048, 134\n",
      "2023-06-06 22:18:35.829905: E tensorflow/compiler/xla/stream_executor/gpu/gpu_cudamallocasync_allocator.cc:66] 3456, 3\n",
      "2023-06-06 22:18:35.829909: E tensorflow/compiler/xla/stream_executor/gpu/gpu_cudamallocasync_allocator.cc:66] 4096, 91\n",
      "2023-06-06 22:18:35.829912: E tensorflow/compiler/xla/stream_executor/gpu/gpu_cudamallocasync_allocator.cc:66] 8192, 44\n",
      "2023-06-06 22:18:35.829915: E tensorflow/compiler/xla/stream_executor/gpu/gpu_cudamallocasync_allocator.cc:66] 16384, 6\n",
      "2023-06-06 22:18:35.829919: E tensorflow/compiler/xla/stream_executor/gpu/gpu_cudamallocasync_allocator.cc:66] 36864, 3\n",
      "2023-06-06 22:18:35.829922: E tensorflow/compiler/xla/stream_executor/gpu/gpu_cudamallocasync_allocator.cc:66] 37632, 3\n",
      "2023-06-06 22:18:35.829925: E tensorflow/compiler/xla/stream_executor/gpu/gpu_cudamallocasync_allocator.cc:66] 65536, 18\n",
      "2023-06-06 22:18:35.829929: E tensorflow/compiler/xla/stream_executor/gpu/gpu_cudamallocasync_allocator.cc:66] 73728, 3\n",
      "2023-06-06 22:18:35.829932: E tensorflow/compiler/xla/stream_executor/gpu/gpu_cudamallocasync_allocator.cc:66] 131072, 3\n",
      "2023-06-06 22:18:35.829935: E tensorflow/compiler/xla/stream_executor/gpu/gpu_cudamallocasync_allocator.cc:66] 147456, 9\n",
      "2023-06-06 22:18:35.829939: E tensorflow/compiler/xla/stream_executor/gpu/gpu_cudamallocasync_allocator.cc:66] 262144, 21\n",
      "2023-06-06 22:18:35.829942: E tensorflow/compiler/xla/stream_executor/gpu/gpu_cudamallocasync_allocator.cc:66] 524288, 6\n",
      "2023-06-06 22:18:35.829945: E tensorflow/compiler/xla/stream_executor/gpu/gpu_cudamallocasync_allocator.cc:66] 589824, 19\n",
      "2023-06-06 22:18:35.829949: E tensorflow/compiler/xla/stream_executor/gpu/gpu_cudamallocasync_allocator.cc:66] 819200, 24\n",
      "2023-06-06 22:18:35.829952: E tensorflow/compiler/xla/stream_executor/gpu/gpu_cudamallocasync_allocator.cc:66] 1048576, 33\n",
      "2023-06-06 22:18:35.829955: E tensorflow/compiler/xla/stream_executor/gpu/gpu_cudamallocasync_allocator.cc:66] 1638400, 16\n",
      "2023-06-06 22:18:35.829959: E tensorflow/compiler/xla/stream_executor/gpu/gpu_cudamallocasync_allocator.cc:66] 2097152, 7\n",
      "2023-06-06 22:18:35.829962: E tensorflow/compiler/xla/stream_executor/gpu/gpu_cudamallocasync_allocator.cc:66] 2359296, 18\n",
      "2023-06-06 22:18:35.829965: E tensorflow/compiler/xla/stream_executor/gpu/gpu_cudamallocasync_allocator.cc:66] 2840064, 1\n",
      "2023-06-06 22:18:35.829969: E tensorflow/compiler/xla/stream_executor/gpu/gpu_cudamallocasync_allocator.cc:66] 3276800, 29\n",
      "2023-06-06 22:18:35.829974: E tensorflow/compiler/xla/stream_executor/gpu/gpu_cudamallocasync_allocator.cc:66] 4194304, 15\n",
      "2023-06-06 22:18:35.829977: E tensorflow/compiler/xla/stream_executor/gpu/gpu_cudamallocasync_allocator.cc:66] 6553600, 9\n",
      "2023-06-06 22:18:35.829980: E tensorflow/compiler/xla/stream_executor/gpu/gpu_cudamallocasync_allocator.cc:66] 8388608, 3\n",
      "2023-06-06 22:18:35.829984: E tensorflow/compiler/xla/stream_executor/gpu/gpu_cudamallocasync_allocator.cc:66] 9437184, 9\n",
      "2023-06-06 22:18:35.829987: E tensorflow/compiler/xla/stream_executor/gpu/gpu_cudamallocasync_allocator.cc:66] 13107200, 9\n",
      "2023-06-06 22:18:35.829990: E tensorflow/compiler/xla/stream_executor/gpu/gpu_cudamallocasync_allocator.cc:66] 14450688, 1\n",
      "2023-06-06 22:18:35.829994: E tensorflow/compiler/xla/stream_executor/gpu/gpu_cudamallocasync_allocator.cc:66] 20054016, 1\n",
      "2023-06-06 22:18:35.829999: E tensorflow/compiler/xla/stream_executor/gpu/gpu_cudamallocasync_allocator.cc:97] CU_MEMPOOL_ATTR_RESERVED_MEM_CURRENT: 2818572288\n",
      "2023-06-06 22:18:35.830003: E tensorflow/compiler/xla/stream_executor/gpu/gpu_cudamallocasync_allocator.cc:99] CU_MEMPOOL_ATTR_USED_MEM_CURRENT: 644576133\n",
      "2023-06-06 22:18:35.830007: E tensorflow/compiler/xla/stream_executor/gpu/gpu_cudamallocasync_allocator.cc:100] CU_MEMPOOL_ATTR_RESERVED_MEM_HIGH: 3087007744\n",
      "2023-06-06 22:18:35.830010: E tensorflow/compiler/xla/stream_executor/gpu/gpu_cudamallocasync_allocator.cc:101] CU_MEMPOOL_ATTR_USED_MEM_HIGH: 1970373509\n",
      "2023-06-06 22:18:36.265702: E tensorflow/compiler/xla/stream_executor/gpu/gpu_cudamallocasync_allocator.cc:306] gpu_async_0 cuMemAllocAsync failed to allocate 4950720528 bytes: CUDA error: out of memory (CUDA_ERROR_OUT_OF_MEMORY)\n",
      " Reported by CUDA: Free memory/Total memory: 314507264/4225695744\n",
      "2023-06-06 22:18:36.265728: E tensorflow/compiler/xla/stream_executor/gpu/gpu_cudamallocasync_allocator.cc:311] Stats: Limit:                      2832596992\n",
      "InUse:                       598047621\n",
      "MaxInUse:                   1970373509\n",
      "NumAllocs:                      258618\n",
      "MaxAllocSize:               1300234240\n",
      "Reserved:                            0\n",
      "PeakReserved:                        0\n",
      "LargestFreeBlock:                    0\n",
      "\n",
      "2023-06-06 22:18:36.265765: E tensorflow/compiler/xla/stream_executor/gpu/gpu_cudamallocasync_allocator.cc:63] Histogram of current allocation: (allocation_size_in_bytes, nb_allocation_of_that_sizes), ...;\n",
      "2023-06-06 22:18:36.265770: E tensorflow/compiler/xla/stream_executor/gpu/gpu_cudamallocasync_allocator.cc:66] 1, 1\n",
      "2023-06-06 22:18:36.265774: E tensorflow/compiler/xla/stream_executor/gpu/gpu_cudamallocasync_allocator.cc:66] 4, 72\n",
      "2023-06-06 22:18:36.265778: E tensorflow/compiler/xla/stream_executor/gpu/gpu_cudamallocasync_allocator.cc:66] 8, 28\n",
      "2023-06-06 22:18:36.265781: E tensorflow/compiler/xla/stream_executor/gpu/gpu_cudamallocasync_allocator.cc:66] 128, 6\n",
      "2023-06-06 22:18:36.265784: E tensorflow/compiler/xla/stream_executor/gpu/gpu_cudamallocasync_allocator.cc:66] 256, 97\n",
      "2023-06-06 22:18:36.265788: E tensorflow/compiler/xla/stream_executor/gpu/gpu_cudamallocasync_allocator.cc:66] 512, 107\n",
      "2023-06-06 22:18:36.265791: E tensorflow/compiler/xla/stream_executor/gpu/gpu_cudamallocasync_allocator.cc:66] 1024, 191\n",
      "2023-06-06 22:18:36.265795: E tensorflow/compiler/xla/stream_executor/gpu/gpu_cudamallocasync_allocator.cc:66] 1028, 1\n",
      "2023-06-06 22:18:36.265798: E tensorflow/compiler/xla/stream_executor/gpu/gpu_cudamallocasync_allocator.cc:66] 2048, 131\n",
      "2023-06-06 22:18:36.265802: E tensorflow/compiler/xla/stream_executor/gpu/gpu_cudamallocasync_allocator.cc:66] 3456, 3\n",
      "2023-06-06 22:18:36.265805: E tensorflow/compiler/xla/stream_executor/gpu/gpu_cudamallocasync_allocator.cc:66] 4096, 82\n",
      "2023-06-06 22:18:36.265808: E tensorflow/compiler/xla/stream_executor/gpu/gpu_cudamallocasync_allocator.cc:66] 8192, 44\n",
      "2023-06-06 22:18:36.265812: E tensorflow/compiler/xla/stream_executor/gpu/gpu_cudamallocasync_allocator.cc:66] 16384, 6\n",
      "2023-06-06 22:18:36.265815: E tensorflow/compiler/xla/stream_executor/gpu/gpu_cudamallocasync_allocator.cc:66] 36864, 3\n",
      "2023-06-06 22:18:36.265818: E tensorflow/compiler/xla/stream_executor/gpu/gpu_cudamallocasync_allocator.cc:66] 37632, 3\n",
      "2023-06-06 22:18:36.265822: E tensorflow/compiler/xla/stream_executor/gpu/gpu_cudamallocasync_allocator.cc:66] 65536, 18\n",
      "2023-06-06 22:18:36.265825: E tensorflow/compiler/xla/stream_executor/gpu/gpu_cudamallocasync_allocator.cc:66] 73728, 3\n",
      "2023-06-06 22:18:36.265828: E tensorflow/compiler/xla/stream_executor/gpu/gpu_cudamallocasync_allocator.cc:66] 131072, 3\n",
      "2023-06-06 22:18:36.265831: E tensorflow/compiler/xla/stream_executor/gpu/gpu_cudamallocasync_allocator.cc:66] 147456, 9\n",
      "2023-06-06 22:18:36.265835: E tensorflow/compiler/xla/stream_executor/gpu/gpu_cudamallocasync_allocator.cc:66] 262144, 21\n",
      "2023-06-06 22:18:36.265838: E tensorflow/compiler/xla/stream_executor/gpu/gpu_cudamallocasync_allocator.cc:66] 524288, 6\n",
      "2023-06-06 22:18:36.265841: E tensorflow/compiler/xla/stream_executor/gpu/gpu_cudamallocasync_allocator.cc:66] 589824, 18\n",
      "2023-06-06 22:18:36.265845: E tensorflow/compiler/xla/stream_executor/gpu/gpu_cudamallocasync_allocator.cc:66] 819200, 4\n",
      "2023-06-06 22:18:36.265848: E tensorflow/compiler/xla/stream_executor/gpu/gpu_cudamallocasync_allocator.cc:66] 1048576, 33\n",
      "2023-06-06 22:18:36.265851: E tensorflow/compiler/xla/stream_executor/gpu/gpu_cudamallocasync_allocator.cc:66] 1638400, 16\n",
      "2023-06-06 22:18:36.265855: E tensorflow/compiler/xla/stream_executor/gpu/gpu_cudamallocasync_allocator.cc:66] 2097152, 7\n",
      "2023-06-06 22:18:36.265858: E tensorflow/compiler/xla/stream_executor/gpu/gpu_cudamallocasync_allocator.cc:66] 2359296, 18\n",
      "2023-06-06 22:18:36.265861: E tensorflow/compiler/xla/stream_executor/gpu/gpu_cudamallocasync_allocator.cc:66] 2840064, 1\n",
      "2023-06-06 22:18:36.265864: E tensorflow/compiler/xla/stream_executor/gpu/gpu_cudamallocasync_allocator.cc:66] 3276800, 15\n",
      "2023-06-06 22:18:36.265868: E tensorflow/compiler/xla/stream_executor/gpu/gpu_cudamallocasync_allocator.cc:66] 4194304, 15\n",
      "2023-06-06 22:18:36.265871: E tensorflow/compiler/xla/stream_executor/gpu/gpu_cudamallocasync_allocator.cc:66] 6553600, 11\n",
      "2023-06-06 22:18:36.265874: E tensorflow/compiler/xla/stream_executor/gpu/gpu_cudamallocasync_allocator.cc:66] 8388608, 3\n",
      "2023-06-06 22:18:36.265878: E tensorflow/compiler/xla/stream_executor/gpu/gpu_cudamallocasync_allocator.cc:66] 9437184, 9\n",
      "2023-06-06 22:18:36.265883: E tensorflow/compiler/xla/stream_executor/gpu/gpu_cudamallocasync_allocator.cc:66] 13107200, 9\n",
      "2023-06-06 22:18:36.265886: E tensorflow/compiler/xla/stream_executor/gpu/gpu_cudamallocasync_allocator.cc:66] 14450688, 1\n",
      "2023-06-06 22:18:36.265889: E tensorflow/compiler/xla/stream_executor/gpu/gpu_cudamallocasync_allocator.cc:66] 23330816, 1\n",
      "2023-06-06 22:18:36.265894: E tensorflow/compiler/xla/stream_executor/gpu/gpu_cudamallocasync_allocator.cc:97] CU_MEMPOOL_ATTR_RESERVED_MEM_CURRENT: 2818572288\n",
      "2023-06-06 22:18:36.265898: E tensorflow/compiler/xla/stream_executor/gpu/gpu_cudamallocasync_allocator.cc:99] CU_MEMPOOL_ATTR_USED_MEM_CURRENT: 598047621\n",
      "2023-06-06 22:18:36.265901: E tensorflow/compiler/xla/stream_executor/gpu/gpu_cudamallocasync_allocator.cc:100] CU_MEMPOOL_ATTR_RESERVED_MEM_HIGH: 3087007744\n",
      "2023-06-06 22:18:36.265905: E tensorflow/compiler/xla/stream_executor/gpu/gpu_cudamallocasync_allocator.cc:101] CU_MEMPOOL_ATTR_USED_MEM_HIGH: 1970373509\n"
     ]
    },
    {
     "name": "stdout",
     "output_type": "stream",
     "text": [
      "31/32 [============================>.] - ETA: 0s - loss: 0.4575 - accuracy: 0.5353"
     ]
    },
    {
     "name": "stderr",
     "output_type": "stream",
     "text": [
      "2023-06-06 22:18:43.256222: E tensorflow/compiler/xla/stream_executor/gpu/gpu_cudamallocasync_allocator.cc:306] gpu_async_0 cuMemAllocAsync failed to allocate 2474639360 bytes: CUDA error: out of memory (CUDA_ERROR_OUT_OF_MEMORY)\n",
      " Reported by CUDA: Free memory/Total memory: 203816960/4225695744\n",
      "2023-06-06 22:18:43.256277: E tensorflow/compiler/xla/stream_executor/gpu/gpu_cudamallocasync_allocator.cc:311] Stats: Limit:                      2832596992\n",
      "InUse:                       399620877\n",
      "MaxInUse:                   1970373509\n",
      "NumAllocs:                      292971\n",
      "MaxAllocSize:               1300234240\n",
      "Reserved:                            0\n",
      "PeakReserved:                        0\n",
      "LargestFreeBlock:                    0\n",
      "\n",
      "2023-06-06 22:18:43.256376: E tensorflow/compiler/xla/stream_executor/gpu/gpu_cudamallocasync_allocator.cc:63] Histogram of current allocation: (allocation_size_in_bytes, nb_allocation_of_that_sizes), ...;\n",
      "2023-06-06 22:18:43.256389: E tensorflow/compiler/xla/stream_executor/gpu/gpu_cudamallocasync_allocator.cc:66] 1, 1\n",
      "2023-06-06 22:18:43.256399: E tensorflow/compiler/xla/stream_executor/gpu/gpu_cudamallocasync_allocator.cc:66] 4, 74\n",
      "2023-06-06 22:18:43.256413: E tensorflow/compiler/xla/stream_executor/gpu/gpu_cudamallocasync_allocator.cc:66] 8, 28\n",
      "2023-06-06 22:18:43.256426: E tensorflow/compiler/xla/stream_executor/gpu/gpu_cudamallocasync_allocator.cc:66] 128, 6\n",
      "2023-06-06 22:18:43.256438: E tensorflow/compiler/xla/stream_executor/gpu/gpu_cudamallocasync_allocator.cc:66] 256, 97\n",
      "2023-06-06 22:18:43.256450: E tensorflow/compiler/xla/stream_executor/gpu/gpu_cudamallocasync_allocator.cc:66] 512, 107\n",
      "2023-06-06 22:18:43.256463: E tensorflow/compiler/xla/stream_executor/gpu/gpu_cudamallocasync_allocator.cc:66] 1024, 211\n",
      "2023-06-06 22:18:43.256472: E tensorflow/compiler/xla/stream_executor/gpu/gpu_cudamallocasync_allocator.cc:66] 1028, 1\n",
      "2023-06-06 22:18:43.256481: E tensorflow/compiler/xla/stream_executor/gpu/gpu_cudamallocasync_allocator.cc:66] 2048, 143\n",
      "2023-06-06 22:18:43.256489: E tensorflow/compiler/xla/stream_executor/gpu/gpu_cudamallocasync_allocator.cc:66] 3456, 3\n",
      "2023-06-06 22:18:43.256498: E tensorflow/compiler/xla/stream_executor/gpu/gpu_cudamallocasync_allocator.cc:66] 4096, 91\n",
      "2023-06-06 22:18:43.256507: E tensorflow/compiler/xla/stream_executor/gpu/gpu_cudamallocasync_allocator.cc:66] 8192, 53\n",
      "2023-06-06 22:18:43.256515: E tensorflow/compiler/xla/stream_executor/gpu/gpu_cudamallocasync_allocator.cc:66] 16384, 6\n",
      "2023-06-06 22:18:43.256524: E tensorflow/compiler/xla/stream_executor/gpu/gpu_cudamallocasync_allocator.cc:66] 36864, 3\n",
      "2023-06-06 22:18:43.256533: E tensorflow/compiler/xla/stream_executor/gpu/gpu_cudamallocasync_allocator.cc:66] 37632, 3\n",
      "2023-06-06 22:18:43.256541: E tensorflow/compiler/xla/stream_executor/gpu/gpu_cudamallocasync_allocator.cc:66] 65536, 18\n",
      "2023-06-06 22:18:43.256550: E tensorflow/compiler/xla/stream_executor/gpu/gpu_cudamallocasync_allocator.cc:66] 73728, 3\n",
      "2023-06-06 22:18:43.256558: E tensorflow/compiler/xla/stream_executor/gpu/gpu_cudamallocasync_allocator.cc:66] 131072, 3\n",
      "2023-06-06 22:18:43.256567: E tensorflow/compiler/xla/stream_executor/gpu/gpu_cudamallocasync_allocator.cc:66] 147456, 23\n",
      "2023-06-06 22:18:43.256575: E tensorflow/compiler/xla/stream_executor/gpu/gpu_cudamallocasync_allocator.cc:66] 204800, 24\n",
      "2023-06-06 22:18:43.256584: E tensorflow/compiler/xla/stream_executor/gpu/gpu_cudamallocasync_allocator.cc:66] 262144, 21\n",
      "2023-06-06 22:18:43.256592: E tensorflow/compiler/xla/stream_executor/gpu/gpu_cudamallocasync_allocator.cc:66] 409600, 16\n",
      "2023-06-06 22:18:43.256601: E tensorflow/compiler/xla/stream_executor/gpu/gpu_cudamallocasync_allocator.cc:66] 524288, 6\n",
      "2023-06-06 22:18:43.256609: E tensorflow/compiler/xla/stream_executor/gpu/gpu_cudamallocasync_allocator.cc:66] 589824, 25\n",
      "2023-06-06 22:18:43.256618: E tensorflow/compiler/xla/stream_executor/gpu/gpu_cudamallocasync_allocator.cc:66] 710016, 1\n",
      "2023-06-06 22:18:43.256626: E tensorflow/compiler/xla/stream_executor/gpu/gpu_cudamallocasync_allocator.cc:66] 819200, 26\n",
      "2023-06-06 22:18:43.256634: E tensorflow/compiler/xla/stream_executor/gpu/gpu_cudamallocasync_allocator.cc:66] 1048576, 33\n",
      "2023-06-06 22:18:43.256643: E tensorflow/compiler/xla/stream_executor/gpu/gpu_cudamallocasync_allocator.cc:66] 1638400, 9\n",
      "2023-06-06 22:18:43.256651: E tensorflow/compiler/xla/stream_executor/gpu/gpu_cudamallocasync_allocator.cc:66] 2097152, 6\n",
      "2023-06-06 22:18:43.256660: E tensorflow/compiler/xla/stream_executor/gpu/gpu_cudamallocasync_allocator.cc:66] 2359296, 18\n",
      "2023-06-06 22:18:43.256668: E tensorflow/compiler/xla/stream_executor/gpu/gpu_cudamallocasync_allocator.cc:66] 3276800, 9\n",
      "2023-06-06 22:18:43.256677: E tensorflow/compiler/xla/stream_executor/gpu/gpu_cudamallocasync_allocator.cc:66] 3612672, 1\n",
      "2023-06-06 22:18:43.256685: E tensorflow/compiler/xla/stream_executor/gpu/gpu_cudamallocasync_allocator.cc:66] 4194304, 17\n",
      "2023-06-06 22:18:43.256693: E tensorflow/compiler/xla/stream_executor/gpu/gpu_cudamallocasync_allocator.cc:66] 8388608, 3\n",
      "2023-06-06 22:18:43.256702: E tensorflow/compiler/xla/stream_executor/gpu/gpu_cudamallocasync_allocator.cc:66] 9437184, 9\n",
      "2023-06-06 22:18:43.256713: E tensorflow/compiler/xla/stream_executor/gpu/gpu_cudamallocasync_allocator.cc:66] 16924672, 1\n",
      "2023-06-06 22:18:43.256725: E tensorflow/compiler/xla/stream_executor/gpu/gpu_cudamallocasync_allocator.cc:97] CU_MEMPOOL_ATTR_RESERVED_MEM_CURRENT: 2818572288\n",
      "2023-06-06 22:18:43.256735: E tensorflow/compiler/xla/stream_executor/gpu/gpu_cudamallocasync_allocator.cc:99] CU_MEMPOOL_ATTR_USED_MEM_CURRENT: 399620877\n",
      "2023-06-06 22:18:43.256744: E tensorflow/compiler/xla/stream_executor/gpu/gpu_cudamallocasync_allocator.cc:100] CU_MEMPOOL_ATTR_RESERVED_MEM_HIGH: 3087007744\n",
      "2023-06-06 22:18:43.256753: E tensorflow/compiler/xla/stream_executor/gpu/gpu_cudamallocasync_allocator.cc:101] CU_MEMPOOL_ATTR_USED_MEM_HIGH: 1970373509\n",
      "2023-06-06 22:18:43.377779: E tensorflow/compiler/xla/stream_executor/gpu/gpu_cudamallocasync_allocator.cc:306] gpu_async_0 cuMemAllocAsync failed to allocate 2446327808 bytes: CUDA error: out of memory (CUDA_ERROR_OUT_OF_MEMORY)\n",
      " Reported by CUDA: Free memory/Total memory: 203816960/4225695744\n",
      "2023-06-06 22:18:43.377808: E tensorflow/compiler/xla/stream_executor/gpu/gpu_cudamallocasync_allocator.cc:311] Stats: Limit:                      2832596992\n",
      "InUse:                       395694861\n",
      "MaxInUse:                   1970373509\n",
      "NumAllocs:                      293022\n",
      "MaxAllocSize:               1300234240\n",
      "Reserved:                            0\n",
      "PeakReserved:                        0\n",
      "LargestFreeBlock:                    0\n",
      "\n",
      "2023-06-06 22:18:43.377848: E tensorflow/compiler/xla/stream_executor/gpu/gpu_cudamallocasync_allocator.cc:63] Histogram of current allocation: (allocation_size_in_bytes, nb_allocation_of_that_sizes), ...;\n",
      "2023-06-06 22:18:43.377853: E tensorflow/compiler/xla/stream_executor/gpu/gpu_cudamallocasync_allocator.cc:66] 1, 1\n",
      "2023-06-06 22:18:43.377857: E tensorflow/compiler/xla/stream_executor/gpu/gpu_cudamallocasync_allocator.cc:66] 4, 74\n",
      "2023-06-06 22:18:43.377861: E tensorflow/compiler/xla/stream_executor/gpu/gpu_cudamallocasync_allocator.cc:66] 8, 28\n",
      "2023-06-06 22:18:43.377864: E tensorflow/compiler/xla/stream_executor/gpu/gpu_cudamallocasync_allocator.cc:66] 128, 6\n",
      "2023-06-06 22:18:43.377868: E tensorflow/compiler/xla/stream_executor/gpu/gpu_cudamallocasync_allocator.cc:66] 256, 97\n",
      "2023-06-06 22:18:43.377871: E tensorflow/compiler/xla/stream_executor/gpu/gpu_cudamallocasync_allocator.cc:66] 512, 107\n",
      "2023-06-06 22:18:43.377875: E tensorflow/compiler/xla/stream_executor/gpu/gpu_cudamallocasync_allocator.cc:66] 1024, 211\n",
      "2023-06-06 22:18:43.377878: E tensorflow/compiler/xla/stream_executor/gpu/gpu_cudamallocasync_allocator.cc:66] 1028, 1\n",
      "2023-06-06 22:18:43.377882: E tensorflow/compiler/xla/stream_executor/gpu/gpu_cudamallocasync_allocator.cc:66] 2048, 142\n",
      "2023-06-06 22:18:43.377885: E tensorflow/compiler/xla/stream_executor/gpu/gpu_cudamallocasync_allocator.cc:66] 3456, 3\n",
      "2023-06-06 22:18:43.377888: E tensorflow/compiler/xla/stream_executor/gpu/gpu_cudamallocasync_allocator.cc:66] 4096, 91\n",
      "2023-06-06 22:18:43.377892: E tensorflow/compiler/xla/stream_executor/gpu/gpu_cudamallocasync_allocator.cc:66] 8192, 50\n",
      "2023-06-06 22:18:43.377895: E tensorflow/compiler/xla/stream_executor/gpu/gpu_cudamallocasync_allocator.cc:66] 16384, 6\n",
      "2023-06-06 22:18:43.377899: E tensorflow/compiler/xla/stream_executor/gpu/gpu_cudamallocasync_allocator.cc:66] 36864, 3\n",
      "2023-06-06 22:18:43.377902: E tensorflow/compiler/xla/stream_executor/gpu/gpu_cudamallocasync_allocator.cc:66] 37632, 3\n",
      "2023-06-06 22:18:43.377905: E tensorflow/compiler/xla/stream_executor/gpu/gpu_cudamallocasync_allocator.cc:66] 65536, 18\n",
      "2023-06-06 22:18:43.377909: E tensorflow/compiler/xla/stream_executor/gpu/gpu_cudamallocasync_allocator.cc:66] 73728, 3\n",
      "2023-06-06 22:18:43.377912: E tensorflow/compiler/xla/stream_executor/gpu/gpu_cudamallocasync_allocator.cc:66] 131072, 3\n",
      "2023-06-06 22:18:43.377916: E tensorflow/compiler/xla/stream_executor/gpu/gpu_cudamallocasync_allocator.cc:66] 147456, 18\n",
      "2023-06-06 22:18:43.377920: E tensorflow/compiler/xla/stream_executor/gpu/gpu_cudamallocasync_allocator.cc:66] 204800, 24\n",
      "2023-06-06 22:18:43.377923: E tensorflow/compiler/xla/stream_executor/gpu/gpu_cudamallocasync_allocator.cc:66] 262144, 21\n",
      "2023-06-06 22:18:43.377926: E tensorflow/compiler/xla/stream_executor/gpu/gpu_cudamallocasync_allocator.cc:66] 409600, 16\n",
      "2023-06-06 22:18:43.377930: E tensorflow/compiler/xla/stream_executor/gpu/gpu_cudamallocasync_allocator.cc:66] 524288, 6\n",
      "2023-06-06 22:18:43.377933: E tensorflow/compiler/xla/stream_executor/gpu/gpu_cudamallocasync_allocator.cc:66] 589824, 26\n",
      "2023-06-06 22:18:43.377936: E tensorflow/compiler/xla/stream_executor/gpu/gpu_cudamallocasync_allocator.cc:66] 710016, 1\n",
      "2023-06-06 22:18:43.377940: E tensorflow/compiler/xla/stream_executor/gpu/gpu_cudamallocasync_allocator.cc:66] 819200, 26\n",
      "2023-06-06 22:18:43.377943: E tensorflow/compiler/xla/stream_executor/gpu/gpu_cudamallocasync_allocator.cc:66] 1048576, 33\n",
      "2023-06-06 22:18:43.377947: E tensorflow/compiler/xla/stream_executor/gpu/gpu_cudamallocasync_allocator.cc:66] 1638400, 9\n",
      "2023-06-06 22:18:43.377950: E tensorflow/compiler/xla/stream_executor/gpu/gpu_cudamallocasync_allocator.cc:66] 2097152, 6\n",
      "2023-06-06 22:18:43.377954: E tensorflow/compiler/xla/stream_executor/gpu/gpu_cudamallocasync_allocator.cc:66] 2359296, 18\n",
      "2023-06-06 22:18:43.377957: E tensorflow/compiler/xla/stream_executor/gpu/gpu_cudamallocasync_allocator.cc:66] 3276800, 9\n",
      "2023-06-06 22:18:43.377960: E tensorflow/compiler/xla/stream_executor/gpu/gpu_cudamallocasync_allocator.cc:66] 3612672, 1\n",
      "2023-06-06 22:18:43.377964: E tensorflow/compiler/xla/stream_executor/gpu/gpu_cudamallocasync_allocator.cc:66] 4194304, 16\n",
      "2023-06-06 22:18:43.377967: E tensorflow/compiler/xla/stream_executor/gpu/gpu_cudamallocasync_allocator.cc:66] 8388608, 3\n",
      "2023-06-06 22:18:43.377971: E tensorflow/compiler/xla/stream_executor/gpu/gpu_cudamallocasync_allocator.cc:66] 9437184, 9\n",
      "2023-06-06 22:18:43.377974: E tensorflow/compiler/xla/stream_executor/gpu/gpu_cudamallocasync_allocator.cc:66] 17367040, 1\n",
      "2023-06-06 22:18:43.377979: E tensorflow/compiler/xla/stream_executor/gpu/gpu_cudamallocasync_allocator.cc:97] CU_MEMPOOL_ATTR_RESERVED_MEM_CURRENT: 2818572288\n",
      "2023-06-06 22:18:43.377983: E tensorflow/compiler/xla/stream_executor/gpu/gpu_cudamallocasync_allocator.cc:99] CU_MEMPOOL_ATTR_USED_MEM_CURRENT: 395694861\n",
      "2023-06-06 22:18:43.377986: E tensorflow/compiler/xla/stream_executor/gpu/gpu_cudamallocasync_allocator.cc:100] CU_MEMPOOL_ATTR_RESERVED_MEM_HIGH: 3087007744\n",
      "2023-06-06 22:18:43.377990: E tensorflow/compiler/xla/stream_executor/gpu/gpu_cudamallocasync_allocator.cc:101] CU_MEMPOOL_ATTR_USED_MEM_HIGH: 1970373509\n",
      "2023-06-06 22:18:43.537907: E tensorflow/compiler/xla/stream_executor/gpu/gpu_cudamallocasync_allocator.cc:306] gpu_async_0 cuMemAllocAsync failed to allocate 4876156944 bytes: CUDA error: out of memory (CUDA_ERROR_OUT_OF_MEMORY)\n",
      " Reported by CUDA: Free memory/Total memory: 191234048/4225695744\n",
      "2023-06-06 22:18:43.537943: E tensorflow/compiler/xla/stream_executor/gpu/gpu_cudamallocasync_allocator.cc:311] Stats: Limit:                      2832596992\n",
      "InUse:                       390320909\n",
      "MaxInUse:                   1970373509\n",
      "NumAllocs:                      293140\n",
      "MaxAllocSize:               1300234240\n",
      "Reserved:                            0\n",
      "PeakReserved:                        0\n",
      "LargestFreeBlock:                    0\n",
      "\n",
      "2023-06-06 22:18:43.537997: E tensorflow/compiler/xla/stream_executor/gpu/gpu_cudamallocasync_allocator.cc:63] Histogram of current allocation: (allocation_size_in_bytes, nb_allocation_of_that_sizes), ...;\n",
      "2023-06-06 22:18:43.538006: E tensorflow/compiler/xla/stream_executor/gpu/gpu_cudamallocasync_allocator.cc:66] 1, 1\n",
      "2023-06-06 22:18:43.538010: E tensorflow/compiler/xla/stream_executor/gpu/gpu_cudamallocasync_allocator.cc:66] 4, 74\n",
      "2023-06-06 22:18:43.538014: E tensorflow/compiler/xla/stream_executor/gpu/gpu_cudamallocasync_allocator.cc:66] 8, 28\n",
      "2023-06-06 22:18:43.538018: E tensorflow/compiler/xla/stream_executor/gpu/gpu_cudamallocasync_allocator.cc:66] 128, 6\n",
      "2023-06-06 22:18:43.538021: E tensorflow/compiler/xla/stream_executor/gpu/gpu_cudamallocasync_allocator.cc:66] 256, 97\n",
      "2023-06-06 22:18:43.538024: E tensorflow/compiler/xla/stream_executor/gpu/gpu_cudamallocasync_allocator.cc:66] 512, 107\n",
      "2023-06-06 22:18:43.538028: E tensorflow/compiler/xla/stream_executor/gpu/gpu_cudamallocasync_allocator.cc:66] 1024, 211\n",
      "2023-06-06 22:18:43.538031: E tensorflow/compiler/xla/stream_executor/gpu/gpu_cudamallocasync_allocator.cc:66] 1028, 1\n",
      "2023-06-06 22:18:43.538034: E tensorflow/compiler/xla/stream_executor/gpu/gpu_cudamallocasync_allocator.cc:66] 2048, 134\n",
      "2023-06-06 22:18:43.538038: E tensorflow/compiler/xla/stream_executor/gpu/gpu_cudamallocasync_allocator.cc:66] 3456, 3\n",
      "2023-06-06 22:18:43.538041: E tensorflow/compiler/xla/stream_executor/gpu/gpu_cudamallocasync_allocator.cc:66] 4096, 91\n",
      "2023-06-06 22:18:43.538044: E tensorflow/compiler/xla/stream_executor/gpu/gpu_cudamallocasync_allocator.cc:66] 8192, 44\n",
      "2023-06-06 22:18:43.538048: E tensorflow/compiler/xla/stream_executor/gpu/gpu_cudamallocasync_allocator.cc:66] 16384, 6\n",
      "2023-06-06 22:18:43.538051: E tensorflow/compiler/xla/stream_executor/gpu/gpu_cudamallocasync_allocator.cc:66] 36864, 3\n",
      "2023-06-06 22:18:43.538055: E tensorflow/compiler/xla/stream_executor/gpu/gpu_cudamallocasync_allocator.cc:66] 37632, 3\n",
      "2023-06-06 22:18:43.538063: E tensorflow/compiler/xla/stream_executor/gpu/gpu_cudamallocasync_allocator.cc:66] 65536, 18\n",
      "2023-06-06 22:18:43.538073: E tensorflow/compiler/xla/stream_executor/gpu/gpu_cudamallocasync_allocator.cc:66] 73728, 3\n",
      "2023-06-06 22:18:43.538078: E tensorflow/compiler/xla/stream_executor/gpu/gpu_cudamallocasync_allocator.cc:66] 131072, 3\n",
      "2023-06-06 22:18:43.538083: E tensorflow/compiler/xla/stream_executor/gpu/gpu_cudamallocasync_allocator.cc:66] 147456, 10\n",
      "2023-06-06 22:18:43.538087: E tensorflow/compiler/xla/stream_executor/gpu/gpu_cudamallocasync_allocator.cc:66] 204800, 24\n",
      "2023-06-06 22:18:43.538092: E tensorflow/compiler/xla/stream_executor/gpu/gpu_cudamallocasync_allocator.cc:66] 262144, 21\n",
      "2023-06-06 22:18:43.538097: E tensorflow/compiler/xla/stream_executor/gpu/gpu_cudamallocasync_allocator.cc:66] 409600, 16\n",
      "2023-06-06 22:18:43.538102: E tensorflow/compiler/xla/stream_executor/gpu/gpu_cudamallocasync_allocator.cc:66] 524288, 6\n",
      "2023-06-06 22:18:43.538107: E tensorflow/compiler/xla/stream_executor/gpu/gpu_cudamallocasync_allocator.cc:66] 589824, 18\n",
      "2023-06-06 22:18:43.538112: E tensorflow/compiler/xla/stream_executor/gpu/gpu_cudamallocasync_allocator.cc:66] 710016, 1\n",
      "2023-06-06 22:18:43.538117: E tensorflow/compiler/xla/stream_executor/gpu/gpu_cudamallocasync_allocator.cc:66] 819200, 29\n",
      "2023-06-06 22:18:43.538122: E tensorflow/compiler/xla/stream_executor/gpu/gpu_cudamallocasync_allocator.cc:66] 1048576, 33\n",
      "2023-06-06 22:18:43.538127: E tensorflow/compiler/xla/stream_executor/gpu/gpu_cudamallocasync_allocator.cc:66] 1638400, 9\n",
      "2023-06-06 22:18:43.538132: E tensorflow/compiler/xla/stream_executor/gpu/gpu_cudamallocasync_allocator.cc:66] 2097152, 7\n",
      "2023-06-06 22:18:43.538138: E tensorflow/compiler/xla/stream_executor/gpu/gpu_cudamallocasync_allocator.cc:66] 2359296, 18\n",
      "2023-06-06 22:18:43.538142: E tensorflow/compiler/xla/stream_executor/gpu/gpu_cudamallocasync_allocator.cc:66] 3276800, 9\n",
      "2023-06-06 22:18:43.538145: E tensorflow/compiler/xla/stream_executor/gpu/gpu_cudamallocasync_allocator.cc:66] 3612672, 1\n",
      "2023-06-06 22:18:43.538148: E tensorflow/compiler/xla/stream_executor/gpu/gpu_cudamallocasync_allocator.cc:66] 4194304, 15\n",
      "2023-06-06 22:18:43.538152: E tensorflow/compiler/xla/stream_executor/gpu/gpu_cudamallocasync_allocator.cc:66] 8388608, 3\n",
      "2023-06-06 22:18:43.538155: E tensorflow/compiler/xla/stream_executor/gpu/gpu_cudamallocasync_allocator.cc:66] 9437184, 9\n",
      "2023-06-06 22:18:43.538158: E tensorflow/compiler/xla/stream_executor/gpu/gpu_cudamallocasync_allocator.cc:66] 17596416, 1\n",
      "2023-06-06 22:18:43.538164: E tensorflow/compiler/xla/stream_executor/gpu/gpu_cudamallocasync_allocator.cc:97] CU_MEMPOOL_ATTR_RESERVED_MEM_CURRENT: 2818572288\n",
      "2023-06-06 22:18:43.538168: E tensorflow/compiler/xla/stream_executor/gpu/gpu_cudamallocasync_allocator.cc:99] CU_MEMPOOL_ATTR_USED_MEM_CURRENT: 390320909\n",
      "2023-06-06 22:18:43.538171: E tensorflow/compiler/xla/stream_executor/gpu/gpu_cudamallocasync_allocator.cc:100] CU_MEMPOOL_ATTR_RESERVED_MEM_HIGH: 3087007744\n",
      "2023-06-06 22:18:43.538175: E tensorflow/compiler/xla/stream_executor/gpu/gpu_cudamallocasync_allocator.cc:101] CU_MEMPOOL_ATTR_USED_MEM_HIGH: 1970373509\n",
      "2023-06-06 22:18:43.769383: E tensorflow/compiler/xla/stream_executor/gpu/gpu_cudamallocasync_allocator.cc:306] gpu_async_0 cuMemAllocAsync failed to allocate 4886724624 bytes: CUDA error: out of memory (CUDA_ERROR_OUT_OF_MEMORY)\n",
      " Reported by CUDA: Free memory/Total memory: 191234048/4225695744\n",
      "2023-06-06 22:18:43.769416: E tensorflow/compiler/xla/stream_executor/gpu/gpu_cudamallocasync_allocator.cc:311] Stats: Limit:                      2832596992\n",
      "InUse:                       378641165\n",
      "MaxInUse:                   1970373509\n",
      "NumAllocs:                      293418\n",
      "MaxAllocSize:               1300234240\n",
      "Reserved:                            0\n",
      "PeakReserved:                        0\n",
      "LargestFreeBlock:                    0\n",
      "\n",
      "2023-06-06 22:18:43.769454: E tensorflow/compiler/xla/stream_executor/gpu/gpu_cudamallocasync_allocator.cc:63] Histogram of current allocation: (allocation_size_in_bytes, nb_allocation_of_that_sizes), ...;\n",
      "2023-06-06 22:18:43.769460: E tensorflow/compiler/xla/stream_executor/gpu/gpu_cudamallocasync_allocator.cc:66] 1, 1\n",
      "2023-06-06 22:18:43.769464: E tensorflow/compiler/xla/stream_executor/gpu/gpu_cudamallocasync_allocator.cc:66] 4, 74\n",
      "2023-06-06 22:18:43.769468: E tensorflow/compiler/xla/stream_executor/gpu/gpu_cudamallocasync_allocator.cc:66] 8, 28\n",
      "2023-06-06 22:18:43.769471: E tensorflow/compiler/xla/stream_executor/gpu/gpu_cudamallocasync_allocator.cc:66] 128, 6\n",
      "2023-06-06 22:18:43.769475: E tensorflow/compiler/xla/stream_executor/gpu/gpu_cudamallocasync_allocator.cc:66] 256, 97\n",
      "2023-06-06 22:18:43.769478: E tensorflow/compiler/xla/stream_executor/gpu/gpu_cudamallocasync_allocator.cc:66] 512, 107\n",
      "2023-06-06 22:18:43.769482: E tensorflow/compiler/xla/stream_executor/gpu/gpu_cudamallocasync_allocator.cc:66] 1024, 191\n",
      "2023-06-06 22:18:43.769485: E tensorflow/compiler/xla/stream_executor/gpu/gpu_cudamallocasync_allocator.cc:66] 1028, 1\n",
      "2023-06-06 22:18:43.769489: E tensorflow/compiler/xla/stream_executor/gpu/gpu_cudamallocasync_allocator.cc:66] 2048, 131\n",
      "2023-06-06 22:18:43.769492: E tensorflow/compiler/xla/stream_executor/gpu/gpu_cudamallocasync_allocator.cc:66] 3456, 3\n",
      "2023-06-06 22:18:43.769495: E tensorflow/compiler/xla/stream_executor/gpu/gpu_cudamallocasync_allocator.cc:66] 4096, 82\n",
      "2023-06-06 22:18:43.769499: E tensorflow/compiler/xla/stream_executor/gpu/gpu_cudamallocasync_allocator.cc:66] 8192, 44\n",
      "2023-06-06 22:18:43.769502: E tensorflow/compiler/xla/stream_executor/gpu/gpu_cudamallocasync_allocator.cc:66] 16384, 6\n",
      "2023-06-06 22:18:43.769506: E tensorflow/compiler/xla/stream_executor/gpu/gpu_cudamallocasync_allocator.cc:66] 36864, 3\n",
      "2023-06-06 22:18:43.769509: E tensorflow/compiler/xla/stream_executor/gpu/gpu_cudamallocasync_allocator.cc:66] 37632, 3\n",
      "2023-06-06 22:18:43.769512: E tensorflow/compiler/xla/stream_executor/gpu/gpu_cudamallocasync_allocator.cc:66] 65536, 18\n",
      "2023-06-06 22:18:43.769516: E tensorflow/compiler/xla/stream_executor/gpu/gpu_cudamallocasync_allocator.cc:66] 73728, 3\n",
      "2023-06-06 22:18:43.769519: E tensorflow/compiler/xla/stream_executor/gpu/gpu_cudamallocasync_allocator.cc:66] 131072, 3\n",
      "2023-06-06 22:18:43.769522: E tensorflow/compiler/xla/stream_executor/gpu/gpu_cudamallocasync_allocator.cc:66] 147456, 9\n",
      "2023-06-06 22:18:43.769526: E tensorflow/compiler/xla/stream_executor/gpu/gpu_cudamallocasync_allocator.cc:66] 204800, 4\n",
      "2023-06-06 22:18:43.769529: E tensorflow/compiler/xla/stream_executor/gpu/gpu_cudamallocasync_allocator.cc:66] 262144, 21\n",
      "2023-06-06 22:18:43.769533: E tensorflow/compiler/xla/stream_executor/gpu/gpu_cudamallocasync_allocator.cc:66] 409600, 16\n",
      "2023-06-06 22:18:43.769536: E tensorflow/compiler/xla/stream_executor/gpu/gpu_cudamallocasync_allocator.cc:66] 524288, 6\n",
      "2023-06-06 22:18:43.769539: E tensorflow/compiler/xla/stream_executor/gpu/gpu_cudamallocasync_allocator.cc:66] 589824, 18\n",
      "2023-06-06 22:18:43.769543: E tensorflow/compiler/xla/stream_executor/gpu/gpu_cudamallocasync_allocator.cc:66] 710016, 1\n",
      "2023-06-06 22:18:43.769546: E tensorflow/compiler/xla/stream_executor/gpu/gpu_cudamallocasync_allocator.cc:66] 819200, 15\n",
      "2023-06-06 22:18:43.769558: E tensorflow/compiler/xla/stream_executor/gpu/gpu_cudamallocasync_allocator.cc:66] 1048576, 33\n",
      "2023-06-06 22:18:43.769561: E tensorflow/compiler/xla/stream_executor/gpu/gpu_cudamallocasync_allocator.cc:66] 1638400, 11\n",
      "2023-06-06 22:18:43.769565: E tensorflow/compiler/xla/stream_executor/gpu/gpu_cudamallocasync_allocator.cc:66] 2097152, 7\n",
      "2023-06-06 22:18:43.769568: E tensorflow/compiler/xla/stream_executor/gpu/gpu_cudamallocasync_allocator.cc:66] 2359296, 18\n",
      "2023-06-06 22:18:43.769571: E tensorflow/compiler/xla/stream_executor/gpu/gpu_cudamallocasync_allocator.cc:66] 3276800, 9\n",
      "2023-06-06 22:18:43.769575: E tensorflow/compiler/xla/stream_executor/gpu/gpu_cudamallocasync_allocator.cc:66] 3612672, 1\n",
      "2023-06-06 22:18:43.769578: E tensorflow/compiler/xla/stream_executor/gpu/gpu_cudamallocasync_allocator.cc:66] 4194304, 15\n",
      "2023-06-06 22:18:43.769584: E tensorflow/compiler/xla/stream_executor/gpu/gpu_cudamallocasync_allocator.cc:66] 8388608, 3\n",
      "2023-06-06 22:18:43.769587: E tensorflow/compiler/xla/stream_executor/gpu/gpu_cudamallocasync_allocator.cc:66] 9437184, 9\n",
      "2023-06-06 22:18:43.769590: E tensorflow/compiler/xla/stream_executor/gpu/gpu_cudamallocasync_allocator.cc:66] 18415616, 1\n",
      "2023-06-06 22:18:43.769595: E tensorflow/compiler/xla/stream_executor/gpu/gpu_cudamallocasync_allocator.cc:97] CU_MEMPOOL_ATTR_RESERVED_MEM_CURRENT: 2818572288\n",
      "2023-06-06 22:18:43.769599: E tensorflow/compiler/xla/stream_executor/gpu/gpu_cudamallocasync_allocator.cc:99] CU_MEMPOOL_ATTR_USED_MEM_CURRENT: 378641165\n",
      "2023-06-06 22:18:43.769603: E tensorflow/compiler/xla/stream_executor/gpu/gpu_cudamallocasync_allocator.cc:100] CU_MEMPOOL_ATTR_RESERVED_MEM_HIGH: 3087007744\n",
      "2023-06-06 22:18:43.769606: E tensorflow/compiler/xla/stream_executor/gpu/gpu_cudamallocasync_allocator.cc:101] CU_MEMPOOL_ATTR_USED_MEM_HIGH: 1970373509\n"
     ]
    },
    {
     "name": "stdout",
     "output_type": "stream",
     "text": [
      "32/32 [==============================] - 17s 303ms/step - loss: 0.4579 - accuracy: 0.5350 - val_loss: 0.4994 - val_accuracy: 0.5140\n",
      "Epoch 2/10\n",
      "32/32 [==============================] - 6s 183ms/step - loss: 0.4063 - accuracy: 0.5000 - val_loss: 0.4619 - val_accuracy: 0.5140\n",
      "Epoch 3/10\n",
      "32/32 [==============================] - 6s 183ms/step - loss: 0.2814 - accuracy: 0.5110 - val_loss: 0.3524 - val_accuracy: 0.5160\n",
      "Epoch 4/10\n",
      "32/32 [==============================] - 6s 182ms/step - loss: 0.2656 - accuracy: 0.5050 - val_loss: 0.2562 - val_accuracy: 0.4860\n",
      "Epoch 5/10\n",
      "32/32 [==============================] - 6s 183ms/step - loss: 0.2644 - accuracy: 0.4910 - val_loss: 0.2549 - val_accuracy: 0.5140\n",
      "Epoch 6/10\n",
      "32/32 [==============================] - 6s 181ms/step - loss: 0.2627 - accuracy: 0.4870 - val_loss: 0.2580 - val_accuracy: 0.5140\n",
      "Epoch 7/10\n",
      "32/32 [==============================] - 6s 182ms/step - loss: 0.2608 - accuracy: 0.4860 - val_loss: 0.2532 - val_accuracy: 0.5140\n",
      "Epoch 8/10\n",
      "32/32 [==============================] - 6s 182ms/step - loss: 0.2622 - accuracy: 0.5060 - val_loss: 0.2591 - val_accuracy: 0.5140\n",
      "Epoch 9/10\n",
      "32/32 [==============================] - 6s 184ms/step - loss: 0.2633 - accuracy: 0.4980 - val_loss: 0.2580 - val_accuracy: 0.5140\n",
      "Epoch 10/10\n",
      "32/32 [==============================] - 6s 184ms/step - loss: 0.2631 - accuracy: 0.5190 - val_loss: 0.2585 - val_accuracy: 0.5140\n"
     ]
    }
   ],
   "source": [
    "model2 = tf.keras.applications.ResNet50(weights=None, input_shape=input_shape, classes=2)\n",
    "model2.compile(loss=tf.keras.losses.MeanSquaredError(), optimizer=opt, metrics=['accuracy'])\n",
    "history2 = model2.fit(train_ds, epochs=10, validation_data=validation_ds)"
   ]
  },
  {
   "attachments": {},
   "cell_type": "markdown",
   "id": "83687a4a",
   "metadata": {},
   "source": [
    "We want compare the two models trained and verify if one of them have good performances. For this we compare loss and accuracy at the last epochs."
   ]
  },
  {
   "cell_type": "code",
   "execution_count": 33,
   "id": "acd8cbfc",
   "metadata": {},
   "outputs": [
    {
     "name": "stdout",
     "output_type": "stream",
     "text": [
      "Manual CNN\n",
      "32/32 - 0s - loss: 0.1971 - accuracy: 0.9590 - 184ms/epoch - 6ms/step\n",
      "16/16 - 0s - loss: 0.9681 - accuracy: 0.5120 - 110ms/epoch - 7ms/step\n",
      "RedNet50\n",
      "32/32 - 1s - loss: 0.2587 - accuracy: 0.5150 - 1s/epoch - 44ms/step\n",
      "16/16 - 1s - loss: 0.2585 - accuracy: 0.5140 - 719ms/epoch - 45ms/step\n"
     ]
    },
    {
     "data": {
      "text/plain": [
       "[0.25854286551475525, 0.5139999985694885]"
      ]
     },
     "execution_count": 33,
     "metadata": {},
     "output_type": "execute_result"
    }
   ],
   "source": [
    "print(\"Manual CNN\")\n",
    "model.evaluate(train_ds, verbose=2)\n",
    "model.evaluate(validation_ds, verbose=2)\n",
    "print(\"RedNet50\")\n",
    "model2.evaluate(train_ds, verbose=2)\n",
    "model2.evaluate(validation_ds, verbose=2)"
   ]
  },
  {
   "attachments": {},
   "cell_type": "markdown",
   "id": "03c10781",
   "metadata": {},
   "source": [
    "Normally we can improve the analysis  verifyng the robustness of model, speed of convergence, memory size of CNN architecture, the confucio matrix, the evolution of learning rate of the optimizer and so on. We don't put these analysis in this code because the loss and accuracy are so poor or overfitted that it is necessary to find a better CNN architecture or a better strategy to increase train data to obtain better prediction."
   ]
  },
  {
   "attachments": {},
   "cell_type": "markdown",
   "id": "b670b527",
   "metadata": {
    "id": "b670b527"
   },
   "source": [
    "### Accuracy by gender for Validation DataSet"
   ]
  },
  {
   "attachments": {},
   "cell_type": "markdown",
   "id": "2793ce0a",
   "metadata": {},
   "source": [
    "To obtain the accuracy by gender we need create folder \"Validation_with_sex\" including images divided in 2 subfolders, one for women and one for men."
   ]
  },
  {
   "cell_type": "code",
   "execution_count": 48,
   "id": "9c35af60",
   "metadata": {
    "id": "9c35af60"
   },
   "outputs": [],
   "source": [
    "\n",
    "name_folder = \"Validation/\"\n",
    "# Source path\n",
    "source = dir_path+name_folder\n",
    "new_source = dir_path+\"Validation_with_sex/\"\n",
    "if os.path.exists(new_source) == False:\n",
    "    os.mkdir(new_source)\n",
    "\n",
    "\n",
    "# Destination path\n",
    "destination_0 = new_source+\"0\" # women\n",
    "destination_1 = new_source+\"1\" # men\n",
    "\n",
    "if os.path.exists(destination_0) == False:\n",
    "    os.mkdir(destination_0)\n",
    "if os.path.exists(destination_1) == False:\n",
    "    os.mkdir(destination_1)\n",
    "\n",
    "# Take image of validation set \n",
    "file_list = glob.glob(dir_path+\"RAW_Validation/*.jpg\")\n",
    "\n",
    "# Move the content of source to destination\n",
    "for img in file_list:\n",
    "    index = int(os.path.basename(img).split('/')[-1].split(\".\")[0])\n",
    "    if sex_validation[index] == 0 :\n",
    "        shutil.copy(img, destination_0)\n",
    "    else :  \n",
    "        shutil.copy(img, destination_1)\n"
   ]
  },
  {
   "attachments": {},
   "cell_type": "markdown",
   "id": "989896e4",
   "metadata": {},
   "source": [
    "We applied the model to the Validation data set and we compare the label predicted with the new label represented by the sex of the person in images."
   ]
  },
  {
   "cell_type": "code",
   "execution_count": 35,
   "id": "e9a68b5a",
   "metadata": {
    "id": "e9a68b5a"
   },
   "outputs": [
    {
     "name": "stdout",
     "output_type": "stream",
     "text": [
      "Found 500 files belonging to 2 classes.\n",
      "16/16 - 0s - loss: 1.0775 - accuracy: 0.4380 - 119ms/epoch - 7ms/step\n"
     ]
    },
    {
     "name": "stderr",
     "output_type": "stream",
     "text": [
      "2023-06-06 22:34:31.752652: I tensorflow/core/common_runtime/executor.cc:1197] [/device:CPU:0] (DEBUG INFO) Executor start aborting (this does not indicate an error and you can ignore this message): INVALID_ARGUMENT: You must feed a value for placeholder tensor 'Placeholder/_0' with dtype string and shape [500]\n",
      "\t [[{{node Placeholder/_0}}]]\n",
      "2023-06-06 22:34:31.753480: I tensorflow/core/common_runtime/executor.cc:1197] [/device:CPU:0] (DEBUG INFO) Executor start aborting (this does not indicate an error and you can ignore this message): INVALID_ARGUMENT: You must feed a value for placeholder tensor 'Placeholder/_0' with dtype string and shape [500]\n",
      "\t [[{{node Placeholder/_0}}]]\n"
     ]
    }
   ],
   "source": [
    "validationSEX_ds = keras.utils.image_dataset_from_directory(\n",
    "    directory='DataSet/Validation_with_sex',\n",
    "    labels=\"inferred\",\n",
    "    label_mode='binary',\n",
    "    batch_size=32,\n",
    "    image_size=image_size)\n",
    "\n",
    "test_loss, test_acc = model.evaluate(validationSEX_ds, verbose=2)"
   ]
  },
  {
   "attachments": {},
   "cell_type": "markdown",
   "id": "ac5194dd",
   "metadata": {},
   "source": [
    "We remark that we don't obtain significant improvement in accuracy. This is natural because the model is trained in an other label that don't correspond to sex of images."
   ]
  },
  {
   "attachments": {},
   "cell_type": "markdown",
   "id": "dcf6553a",
   "metadata": {
    "id": "dcf6553a"
   },
   "source": [
    "### Testing your Model"
   ]
  },
  {
   "attachments": {},
   "cell_type": "markdown",
   "id": "9d08bf7d",
   "metadata": {},
   "source": [
    "We can verify that the model give an output with the test data. Unfortunately we can't verify with the true label because we don't have this information for the test data. "
   ]
  },
  {
   "cell_type": "code",
   "execution_count": 47,
   "id": "ed21e701",
   "metadata": {
    "id": "ed21e701"
   },
   "outputs": [
    {
     "name": "stdout",
     "output_type": "stream",
     "text": [
      "Found 500 files belonging to 1 classes.\n",
      "16/16 [==============================] - 0s 4ms/step\n",
      "16/16 [==============================] - 0s 4ms/step\n",
      "[[0.23288667]\n",
      " [0.07856297]\n",
      " [0.77481204]]\n",
      "[[0.]\n",
      " [1.]\n",
      " [1.]]\n"
     ]
    },
    {
     "name": "stderr",
     "output_type": "stream",
     "text": [
      "2023-06-06 22:42:54.794304: I tensorflow/core/common_runtime/executor.cc:1197] [/device:CPU:0] (DEBUG INFO) Executor start aborting (this does not indicate an error and you can ignore this message): INVALID_ARGUMENT: You must feed a value for placeholder tensor 'Placeholder/_0' with dtype string and shape [500]\n",
      "\t [[{{node Placeholder/_0}}]]\n",
      "2023-06-06 22:42:54.794641: I tensorflow/core/common_runtime/executor.cc:1197] [/device:CPU:0] (DEBUG INFO) Executor start aborting (this does not indicate an error and you can ignore this message): INVALID_ARGUMENT: You must feed a value for placeholder tensor 'Placeholder/_0' with dtype string and shape [500]\n",
      "\t [[{{node Placeholder/_0}}]]\n"
     ]
    }
   ],
   "source": [
    "# test data\n",
    "test_data = keras.utils.image_dataset_from_directory(\n",
    "    directory='DataSet/test/',\n",
    "    labels=None,\n",
    "    label_mode=None,\n",
    "    batch_size=32,\n",
    "    image_size=image_size)\n",
    "\n",
    "# make a prediction\n",
    "ynew = model.predict(test_data)\n",
    "# convert prediction in binary way\n",
    "preds = model.predict(test_data)\n",
    "preds[preds <= 0.5] = 0.\n",
    "preds[preds > 0.5] = 1.\n",
    "\n",
    "# verify that the conversion is correct\n",
    "print(ynew[:3]) \n",
    "print(preds[:3])"
   ]
  },
  {
   "attachments": {},
   "cell_type": "markdown",
   "id": "10ac24b7",
   "metadata": {
    "id": "10ac24b7"
   },
   "source": [
    "### Preparing your file for Submission"
   ]
  },
  {
   "attachments": {},
   "cell_type": "markdown",
   "id": "d060e257",
   "metadata": {
    "id": "d060e257"
   },
   "source": [
    "We can find all the data necessary to ruin this code in the repository in the github https://github.com/GiulianoCalabrese/HiParis"
   ]
  }
 ],
 "metadata": {
  "colab": {
   "collapsed_sections": [],
   "name": "Data_Challenge_MDI_341_Students.ipynb",
   "provenance": []
  },
  "kernelspec": {
   "display_name": ".venv",
   "language": "python",
   "name": "python3"
  },
  "language_info": {
   "codemirror_mode": {
    "name": "ipython",
    "version": 3
   },
   "file_extension": ".py",
   "mimetype": "text/x-python",
   "name": "python",
   "nbconvert_exporter": "python",
   "pygments_lexer": "ipython3",
   "version": "3.10.6"
  }
 },
 "nbformat": 4,
 "nbformat_minor": 5
}
