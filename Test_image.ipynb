{
 "cells": [
  {
   "attachments": {},
   "cell_type": "markdown",
   "id": "c6dff96a",
   "metadata": {
    "id": "c6dff96a"
   },
   "source": [
    "# Introduction"
   ]
  },
  {
   "attachments": {},
   "cell_type": "markdown",
   "id": "dab9ff6b",
   "metadata": {
    "id": "dab9ff6b"
   },
   "source": [
    "## Challenge Test\n"
   ]
  },
  {
   "attachments": {},
   "cell_type": "markdown",
   "id": "1097c2db",
   "metadata": {
    "id": "1097c2db"
   },
   "source": [
    "# Image Classification:\n",
    "\n",
    "Image classification is the task of assigning to an image a label from a predefined set of\n",
    "categories. A CNN [1] is intended to identify visual forms from images with least computation [2]. In the last few years, we saw a rapid progress in visual image processing systems, mostly due to advances of deep convolutional neural networks.\n",
    "\n",
    "\n",
    "\n",
    "1. Y. LeCun, L. Bottu, Y. Bengio, Gradient-based learning applied to document recognition, Proceedings of the\n",
    "IEEE 86 (11) (1998) 2278–2324, https://doi.org/10.1109/5.726791.\n",
    "2. Alex Krizhevsky, Ilya Sutskever, Geoffrey E. Hinton, Imagenet classification with deep convolutional neural net-works, in: NIPS’12 Proceedings of the 25th InternationalConference on Neural Information ProcessingSystem,\n",
    "vol. 1, 2012, pp. 1097–1105, arXiv:1311.2901."
   ]
  },
  {
   "attachments": {},
   "cell_type": "markdown",
   "id": "6b6f449c",
   "metadata": {
    "id": "6b6f449c"
   },
   "source": [
    "# The properties of the dataset:"
   ]
  },
  {
   "attachments": {},
   "cell_type": "markdown",
   "id": "a1ec9dc2",
   "metadata": {
    "id": "a1ec9dc2"
   },
   "source": [
    "DataSet consistst of images of faces of different persons with certain characteristics. The task is to train a model able to predict whether certain image possess required chacteristics (encoded by the output labels) or not.\n",
    "There is imbalance between the sample images in the dataset for men and women."
   ]
  },
  {
   "attachments": {},
   "cell_type": "markdown",
   "id": "41dc9f71",
   "metadata": {
    "id": "41dc9f71"
   },
   "source": [
    "### Downloading the Data: \n",
    "\n",
    "DataSet is with the Email\n",
    "\n",
    "\n",
    "After unzipping the file, you have three folders: train, validation, test and two text files relating to the train and validation labels. You can use both training and validation data for training and validation your model."
   ]
  },
  {
   "attachments": {},
   "cell_type": "markdown",
   "id": "8ab16ddd",
   "metadata": {
    "id": "8ab16ddd"
   },
   "source": [
    "### Training and Validation Data\n",
    "\n",
    "***Training Data:*** The \"train\" folder contains 1000 face images numbered from 000000 to 000999. These are color images in .jpg format with size of 80x80 pixels.\n",
    "\n",
    "***Training Labels:*** The file named \"label_train.txt\" contains two columns. The first column list the 1000 labels (0 or 1) that are used to train your model. The second columns lists the corresponding binary representation of genders (0: woman, 1: Man)\n",
    "\n",
    "***Validation Data:*** The \"validation\" folder contains 500 face images numbered from 000000 to 000500. These are color images in .jpg format with size of 80x80 pixels.\n",
    "\n",
    "***Validation Labels:*** The file named \"label_validation.txt\" contains two columns. The first column list the 500 labels (0 or 1) that are used to validate your model. The second columns lists the corresponding binary representation of genders (0: woman, 1: Man)"
   ]
  },
  {
   "attachments": {},
   "cell_type": "markdown",
   "id": "f07ba17d",
   "metadata": {
    "id": "f07ba17d"
   },
   "source": [
    "### Test Data\n",
    "\n",
    " The \"test\" folder contains 500 face images numbered from 000000 to 000499. These are color images in .jpg format with size of 80x80 pixels."
   ]
  },
  {
   "attachments": {},
   "cell_type": "markdown",
   "id": "39ae8ac1",
   "metadata": {
    "id": "39ae8ac1"
   },
   "source": [
    "### Libraryes imported"
   ]
  },
  {
   "cell_type": "code",
   "execution_count": null,
   "id": "bffb6e70",
   "metadata": {
    "id": "bffb6e70"
   },
   "outputs": [
    {
     "name": "stderr",
     "output_type": "stream",
     "text": [
      "2023-06-06 09:52:25.540739: I tensorflow/core/platform/cpu_feature_guard.cc:182] This TensorFlow binary is optimized to use available CPU instructions in performance-critical operations.\n",
      "To enable the following instructions: AVX2 FMA, in other operations, rebuild TensorFlow with the appropriate compiler flags.\n",
      "2023-06-06 09:52:28.462874: I tensorflow/compiler/xla/stream_executor/cuda/cuda_gpu_executor.cc:996] successful NUMA node read from SysFS had negative value (-1), but there must be at least one NUMA node, so returning NUMA node zero. See more at https://github.com/torvalds/linux/blob/v6.0/Documentation/ABI/testing/sysfs-bus-pci#L344-L355\n",
      "2023-06-06 09:52:28.488463: I tensorflow/compiler/xla/stream_executor/cuda/cuda_gpu_executor.cc:996] successful NUMA node read from SysFS had negative value (-1), but there must be at least one NUMA node, so returning NUMA node zero. See more at https://github.com/torvalds/linux/blob/v6.0/Documentation/ABI/testing/sysfs-bus-pci#L344-L355\n",
      "2023-06-06 09:52:28.488637: I tensorflow/compiler/xla/stream_executor/cuda/cuda_gpu_executor.cc:996] successful NUMA node read from SysFS had negative value (-1), but there must be at least one NUMA node, so returning NUMA node zero. See more at https://github.com/torvalds/linux/blob/v6.0/Documentation/ABI/testing/sysfs-bus-pci#L344-L355\n"
     ]
    },
    {
     "name": "stdout",
     "output_type": "stream",
     "text": [
      "[PhysicalDevice(name='/physical_device:GPU:0', device_type='GPU')]\n"
     ]
    }
   ],
   "source": [
    "#To manipulate data and folder on PC\n",
    "import glob, os, re\n",
    "\n",
    "# To manipulate images\n",
    "import cv2\n",
    "\n",
    "# To process data\n",
    "import numpy as np\n",
    "import pandas as pd\n",
    "\n",
    "# To implement CNN\n",
    "import keras\n",
    "from keras import models, layers, optimizers\n",
    "from keras.utils import np_utils\n",
    "from keras.preprocessing.image import ImageDataGenerator\n",
    "from sklearn.metrics import accuracy_score, roc_auc_score\n",
    "import tensorflow as tf\n",
    "\n",
    "# To verify that Tensorflow use the GPU instead the CPU to obtain more speed during the computation time fof the training.\n",
    "print(tf.config.list_physical_devices('GPU'))\n",
    "\n",
    "# to show graphics and images\n",
    "import matplotlib.pyplot as plt \n"
   ]
  },
  {
   "attachments": {},
   "cell_type": "markdown",
   "id": "225847d1",
   "metadata": {
    "id": "225847d1"
   },
   "source": [
    "### Investigate the data"
   ]
  },
  {
   "attachments": {},
   "cell_type": "markdown",
   "id": "d1deed55",
   "metadata": {},
   "source": [
    "We want to understand the image set. We want know the number of image in train set, the shape of the images and printing a random image in the folder. The same for Validation and test folders. Finally we verify that all images have the same shape and we want know if exist identical images in the same folder and between differents folder."
   ]
  },
  {
   "attachments": {},
   "cell_type": "markdown",
   "id": "986c075a",
   "metadata": {},
   "source": [
    "First of all we need create 2 subfolders in train and Validation, class_0 and class_1 where we put the image in class_0 if the label is 0 in label_train.txt and 1 instead."
   ]
  },
  {
   "cell_type": "code",
   "execution_count": 3,
   "id": "9b46098c",
   "metadata": {},
   "outputs": [],
   "source": [
    "\n",
    "dir_path = \"DataSet/\"\n",
    "\n",
    "# Reading the label of train\n",
    "# read text file into pandas DataFrame, we don't considered the header of the txt because it doesn't exist\n",
    "df = pd.read_csv(dir_path+\"label_train.txt\", sep=\" \", header = None, index_col=False)\n",
    "label_train = df[0]\n",
    "sex_train = df[1]\n",
    "#print(label_train)\n",
    "#print(sex_train)\n",
    "\n",
    "df = pd.read_csv(dir_path+\"label_validation.txt\", sep=\" \", header = None, index_col=False)\n",
    "label_validation = df[0]\n",
    "sex_validation = df[1]"
   ]
  },
  {
   "attachments": {},
   "cell_type": "markdown",
   "id": "2b080eb3",
   "metadata": {},
   "source": [
    "How many man and woman in train and validation?"
   ]
  },
  {
   "cell_type": "code",
   "execution_count": 4,
   "id": "ecd01b1c",
   "metadata": {},
   "outputs": [
    {
     "name": "stdout",
     "output_type": "stream",
     "text": [
      "TRAIN set\n",
      "Number of women :  581\n",
      "Number of man :  419\n",
      "Ratio :  1.3866348448687351\n",
      "\n",
      "VALIDATION set\n",
      "Number of women :  286\n",
      "Number of man :  214\n",
      "Ratio :  1.3364485981308412\n"
     ]
    }
   ],
   "source": [
    "# NUmber of men and women in image set\n",
    "nb_sexe = sex_train.value_counts()\n",
    "print(\"TRAIN set\")\n",
    "print(\"Number of women : \",nb_sexe[0])\n",
    "print(\"Number of man : \",nb_sexe[1])\n",
    "print(\"Ratio : \",nb_sexe[0]/nb_sexe[1])\n",
    "print(\"\")\n",
    "\n",
    "# NUmber of men and women in image set\n",
    "nb_sexe = sex_validation.value_counts()\n",
    "print(\"VALIDATION set\")\n",
    "print(\"Number of women : \",nb_sexe[0])\n",
    "print(\"Number of man : \",nb_sexe[1])\n",
    "print(\"Ratio : \",nb_sexe[0]/nb_sexe[1])\n"
   ]
  },
  {
   "cell_type": "code",
   "execution_count": 5,
   "id": "9c548569",
   "metadata": {
    "id": "9c548569"
   },
   "outputs": [
    {
     "name": "stdout",
     "output_type": "stream",
     "text": [
      "['class_0', 'class_1']\n"
     ]
    },
    {
     "data": {
      "image/png": "[encoded data removed]",
      "text/plain": [
       "<Figure size 640x480 with 1 Axes>"
      ]
     },
     "metadata": {},
     "output_type": "display_data"
    },
    {
     "name": "stdout",
     "output_type": "stream",
     "text": [
      "[[[162 156 119]\n",
      "  [151 148 117]\n",
      "  [138 134 115]\n",
      "  ...\n",
      "  [203 202 141]\n",
      "  [204 200 147]\n",
      "  [201 198 147]]\n",
      "\n",
      " [[162 156 121]\n",
      "  [153 149 120]\n",
      "  [136 134 116]\n",
      "  ...\n",
      "  [204 203 142]\n",
      "  [202 201 145]\n",
      "  [202 199 148]]\n",
      "\n",
      " [[157 152 119]\n",
      "  [152 148 120]\n",
      "  [135 132 117]\n",
      "  ...\n",
      "  [201 200 139]\n",
      "  [204 203 147]\n",
      "  [200 200 146]]\n",
      "\n",
      " ...\n",
      "\n",
      " [[199 196 145]\n",
      "  [198 195 144]\n",
      "  [197 192 143]\n",
      "  ...\n",
      "  [201 200 144]\n",
      "  [201 200 144]\n",
      "  [201 200 144]]\n",
      "\n",
      " [[198 198 144]\n",
      "  [198 197 146]\n",
      "  [198 194 145]\n",
      "  ...\n",
      "  [201 200 142]\n",
      "  [201 200 144]\n",
      "  [199 200 144]]\n",
      "\n",
      " [[197 197 143]\n",
      "  [197 196 145]\n",
      "  [199 195 146]\n",
      "  ...\n",
      "  [201 200 142]\n",
      "  [201 200 144]\n",
      "  [199 200 144]]]\n",
      "(80, 80, 3)\n"
     ]
    }
   ],
   "source": [
    "# creates directory and categories\n",
    "DATADIR = 'DataSet/train/class_0'\n",
    "\n",
    "data_directory = 'DataSet/train/'\n",
    "directories = [d for d in os.listdir(data_directory) \n",
    "                   if os.path.isdir(os.path.join(data_directory, d))]\n",
    "print(directories)\n",
    "\n",
    "# iterates through all images in directory\n",
    "for img in os.listdir(DATADIR):\n",
    "    # converts image to array and greyscale\n",
    "    img_array = cv2.imread(os.path.join(DATADIR,img))#, cv2.IMREAD_GRAYSCALE)\n",
    "    plt.imshow(img_array)#, cmap=\"gray\")\n",
    "    plt.show() #one image should print\n",
    "    break\n",
    "\n",
    "print(img_array) #print array to check img_array\n",
    "print(img_array.shape)\n",
    "input_shape = img_array.shape\n",
    "image_size = input_shape[:2]"
   ]
  },
  {
   "cell_type": "code",
   "execution_count": 6,
   "id": "08a168a0",
   "metadata": {
    "id": "08a168a0"
   },
   "outputs": [
    {
     "data": {
      "text/plain": [
       "'\\ntraining_data = []\\ndef create_training_data():\\n    # iterates through all images in directory\\n    for category in CATEGORIES:\\n        path = os.path.join(DATADIR, category)\\n        class_num = CATEGORIES.index(category)\\n        for img in os.listdir(path):\\n            try:\\n                # converts image to array and greyscale\\n                img_array = cv2.imread(os.path.join(path,img), cv2.IMREAD_GRAYSCALE)\\n                new_array = cv2.resize(img_array, image_size)\\n                training_data.append([new_array, class_num])\\n            except Exception:\\n                #any images that are broken will not be included\\n                pass\\n\\ncreate_training_data()\\n'"
      ]
     },
     "execution_count": 6,
     "metadata": {},
     "output_type": "execute_result"
    }
   ],
   "source": [
    "# reshape images\n",
    "#IMG_SIZE = image_size[1] #pixel size\n",
    "#new_array = cv2.resize(img_array, image_size)\n",
    "#plt.imshow(new_array, cmap = 'gray')\n",
    "#plt.show()\n",
    "\n",
    "# training data\n",
    "\"\"\"\n",
    "training_data = []\n",
    "def create_training_data():\n",
    "    # iterates through all images in directory\n",
    "    for category in CATEGORIES:\n",
    "        path = os.path.join(DATADIR, category)\n",
    "        class_num = CATEGORIES.index(category)\n",
    "        for img in os.listdir(path):\n",
    "            try:\n",
    "                # converts image to array and greyscale\n",
    "                img_array = cv2.imread(os.path.join(path,img), cv2.IMREAD_GRAYSCALE)\n",
    "                new_array = cv2.resize(img_array, image_size)\n",
    "                training_data.append([new_array, class_num])\n",
    "            except Exception:\n",
    "                #any images that are broken will not be included\n",
    "                pass\n",
    "\n",
    "create_training_data()\n",
    "\"\"\"\n",
    "# print training length\n",
    "#print(len(training_data))\n",
    "\n",
    "\n",
    "#%%\n",
    "# shuffle training data\n",
    "#import random\n",
    "#random.shuffle(training_data)\n",
    "#for sample in training_data[:10]:\n",
    "#    print(sample[1])\n"
   ]
  },
  {
   "attachments": {},
   "cell_type": "markdown",
   "id": "ba4b1755",
   "metadata": {
    "id": "ba4b1755"
   },
   "source": [
    "### Data Preparation"
   ]
  },
  {
   "attachments": {},
   "cell_type": "markdown",
   "id": "56207ef5",
   "metadata": {},
   "source": [
    "Move image in the subfolders representing the label"
   ]
  },
  {
   "cell_type": "code",
   "execution_count": 109,
   "id": "9d70129b",
   "metadata": {
    "id": "9d70129b"
   },
   "outputs": [],
   "source": [
    "import shutil\n",
    "\n",
    "list_folders = [\"train/\",\"Validation/\"]\n",
    "\n",
    "for name_folder in list_folders:\n",
    "    # Source path\n",
    "    source = dir_path+name_folder\n",
    "    \n",
    "    # Destination path\n",
    "    destination_0 = source+\"0\"\n",
    "    destination_1 = source+\"1\"\n",
    "\n",
    "    if os.path.exists(destination_0) == False:\n",
    "        os.mkdir(destination_0)\n",
    "    if os.path.exists(destination_1) == False:\n",
    "        os.mkdir(destination_1)\n",
    "    \n",
    "    # Move the content of source to destination\n",
    "    file_list = glob.glob(source+\"/*.jpg\")\n",
    "\n",
    "    for img in file_list:\n",
    "        index = int(os.path.basename(img).split('/')[-1].split(\".\")[0])\n",
    "        if label_train[index] == 0 :\n",
    "            shutil.move(img, destination_0)\n",
    "        else :  \n",
    "            shutil.move(img, destination_1)\n"
   ]
  },
  {
   "attachments": {},
   "cell_type": "markdown",
   "id": "40e4efb7",
   "metadata": {},
   "source": [
    "### Building your Network"
   ]
  },
  {
   "attachments": {},
   "cell_type": "markdown",
   "id": "75271230",
   "metadata": {
    "id": "75271230",
    "tags": []
   },
   "source": [
    "We build a CNN adopting a pre-trained architecture proposed by Tensorflow library."
   ]
  },
  {
   "cell_type": "code",
   "execution_count": 99,
   "id": "18263780",
   "metadata": {
    "id": "18263780",
    "scrolled": true
   },
   "outputs": [
    {
     "name": "stdout",
     "output_type": "stream",
     "text": [
      "Model: \"sequential_14\"\n",
      "_________________________________________________________________\n",
      " Layer (type)                Output Shape              Param #   \n",
      "=================================================================\n",
      " conv2d_56 (Conv2D)          (None, 78, 78, 32)        896       \n",
      "                                                                 \n",
      " activation_84 (Activation)  (None, 78, 78, 32)        0         \n",
      "                                                                 \n",
      " max_pooling2d_56 (MaxPoolin  (None, 39, 39, 32)       0         \n",
      " g2D)                                                            \n",
      "                                                                 \n",
      " conv2d_57 (Conv2D)          (None, 37, 37, 32)        9248      \n",
      "                                                                 \n",
      " activation_85 (Activation)  (None, 37, 37, 32)        0         \n",
      "                                                                 \n",
      " max_pooling2d_57 (MaxPoolin  (None, 18, 18, 32)       0         \n",
      " g2D)                                                            \n",
      "                                                                 \n",
      " conv2d_58 (Conv2D)          (None, 16, 16, 64)        18496     \n",
      "                                                                 \n",
      " activation_86 (Activation)  (None, 16, 16, 64)        0         \n",
      "                                                                 \n",
      " max_pooling2d_58 (MaxPoolin  (None, 8, 8, 64)         0         \n",
      " g2D)                                                            \n",
      "                                                                 \n",
      " conv2d_59 (Conv2D)          (None, 6, 6, 256)         147712    \n",
      "                                                                 \n",
      " activation_87 (Activation)  (None, 6, 6, 256)         0         \n",
      "                                                                 \n",
      " max_pooling2d_59 (MaxPoolin  (None, 3, 3, 256)        0         \n",
      " g2D)                                                            \n",
      "                                                                 \n",
      " flatten_14 (Flatten)        (None, 2304)              0         \n",
      "                                                                 \n",
      " dense_28 (Dense)            (None, 64)                147520    \n",
      "                                                                 \n",
      " activation_88 (Activation)  (None, 64)                0         \n",
      "                                                                 \n",
      " dropout_14 (Dropout)        (None, 64)                0         \n",
      "                                                                 \n",
      " dense_29 (Dense)            (None, 2)                 130       \n",
      "                                                                 \n",
      " activation_89 (Activation)  (None, 2)                 0         \n",
      "                                                                 \n",
      "=================================================================\n",
      "Total params: 324,002\n",
      "Trainable params: 324,002\n",
      "Non-trainable params: 0\n",
      "_________________________________________________________________\n"
     ]
    }
   ],
   "source": [
    "\n",
    "model = models.Sequential()\n",
    "model.add(layers.Conv2D(32, (3, 3), input_shape=input_shape))\n",
    "model.add(layers.Activation('relu'))\n",
    "model.add(layers.MaxPooling2D(pool_size=(2, 2)))\n",
    "\n",
    "model.add(layers.Conv2D(32, (3, 3)))\n",
    "model.add(layers.Activation('relu'))\n",
    "model.add(layers.MaxPooling2D(pool_size=(2, 2)))\n",
    "\n",
    "model.add(layers.Conv2D(64, (3, 3)))\n",
    "model.add(layers.Activation('relu'))\n",
    "model.add(layers.MaxPooling2D(pool_size=(2, 2)))\n",
    "\n",
    "model.add(layers.Conv2D(256, (3, 3)))\n",
    "model.add(layers.Activation('relu'))\n",
    "model.add(layers.MaxPooling2D(pool_size=(2, 2)))\n",
    "\n",
    "model.add(layers.Flatten())\n",
    "model.add(layers.Dense(64))\n",
    "model.add(layers.Activation('relu'))\n",
    "model.add(layers.Dropout(0.5))\n",
    "model.add(layers.Dense(2))\n",
    "model.add(layers.Activation('sigmoid'))\n",
    "\n",
    "model.summary()\n",
    "\n",
    "opt = keras.optimizers.Adam(learning_rate=1e-4)\n",
    "loss=tf.keras.losses.BinaryCrossentropy(from_logits=False)\n",
    "loss=tf.keras.losses.MeanSquaredError()\n",
    "\n",
    "\n",
    "model.compile(loss=loss, optimizer=opt, metrics=['accuracy'])"
   ]
  },
  {
   "attachments": {},
   "cell_type": "markdown",
   "id": "ac99773f",
   "metadata": {
    "id": "ac99773f"
   },
   "source": [
    "### Data Preprocessing"
   ]
  },
  {
   "attachments": {},
   "cell_type": "markdown",
   "id": "341e40cc",
   "metadata": {},
   "source": [
    "We prepare data set for train and validation in a valid format for tensorflow framework. We decide to select train with batch having size of 32 images, we take all the pixels of the images (80x80).\n",
    "\n",
    "In the output we obtain the number of files in the folder and tha number of labels (in our case there are 2 categories)."
   ]
  },
  {
   "cell_type": "code",
   "execution_count": 100,
   "id": "912f606e",
   "metadata": {
    "id": "912f606e"
   },
   "outputs": [
    {
     "name": "stdout",
     "output_type": "stream",
     "text": [
      "Found 1000 files belonging to 2 classes.\n"
     ]
    }
   ],
   "source": [
    "train_ds = keras.utils.image_dataset_from_directory(\n",
    "    directory=\"DataSet/train/\",\n",
    "    labels='inferred',\n",
    "    label_mode='binary',\n",
    "    batch_size=32           ,\n",
    "    image_size=image_size)"
   ]
  },
  {
   "cell_type": "code",
   "execution_count": 101,
   "id": "2ce133ed",
   "metadata": {},
   "outputs": [
    {
     "name": "stdout",
     "output_type": "stream",
     "text": [
      "Found 500 files belonging to 2 classes.\n"
     ]
    }
   ],
   "source": [
    "validation_ds = keras.utils.image_dataset_from_directory(\n",
    "    directory='DataSet/Validation/',\n",
    "    labels='inferred',\n",
    "    label_mode='binary',\n",
    "    batch_size=16,\n",
    "    image_size=image_size)"
   ]
  },
  {
   "attachments": {},
   "cell_type": "markdown",
   "id": "75a7d0f0",
   "metadata": {
    "id": "75a7d0f0"
   },
   "source": [
    "### Training your Model"
   ]
  },
  {
   "attachments": {},
   "cell_type": "markdown",
   "id": "1179f0cc",
   "metadata": {},
   "source": [
    "Now we are ready to train a model with the train and validation data."
   ]
  },
  {
   "cell_type": "code",
   "execution_count": 102,
   "id": "321a477d",
   "metadata": {
    "id": "321a477d"
   },
   "outputs": [
    {
     "name": "stdout",
     "output_type": "stream",
     "text": [
      "Epoch 1/70\n"
     ]
    },
    {
     "name": "stderr",
     "output_type": "stream",
     "text": [
      "2023-06-06 12:28:48.624466: I tensorflow/core/common_runtime/executor.cc:1197] [/device:CPU:0] (DEBUG INFO) Executor start aborting (this does not indicate an error and you can ignore this message): INVALID_ARGUMENT: You must feed a value for placeholder tensor 'Placeholder/_0' with dtype string and shape [1000]\n",
      "\t [[{{node Placeholder/_0}}]]\n",
      "2023-06-06 12:28:48.625278: I tensorflow/core/common_runtime/executor.cc:1197] [/device:CPU:0] (DEBUG INFO) Executor start aborting (this does not indicate an error and you can ignore this message): INVALID_ARGUMENT: You must feed a value for placeholder tensor 'Placeholder/_0' with dtype string and shape [1000]\n",
      "\t [[{{node Placeholder/_0}}]]\n"
     ]
    },
    {
     "name": "stdout",
     "output_type": "stream",
     "text": [
      "31/32 [============================>.] - ETA: 0s - loss: 0.4891 - accuracy: 0.4929"
     ]
    },
    {
     "name": "stderr",
     "output_type": "stream",
     "text": [
      "2023-06-06 12:28:49.528851: I tensorflow/core/common_runtime/executor.cc:1197] [/device:CPU:0] (DEBUG INFO) Executor start aborting (this does not indicate an error and you can ignore this message): INVALID_ARGUMENT: You must feed a value for placeholder tensor 'Placeholder/_4' with dtype int32 and shape [500]\n",
      "\t [[{{node Placeholder/_4}}]]\n",
      "2023-06-06 12:28:49.529599: I tensorflow/core/common_runtime/executor.cc:1197] [/device:CPU:0] (DEBUG INFO) Executor start aborting (this does not indicate an error and you can ignore this message): INVALID_ARGUMENT: You must feed a value for placeholder tensor 'Placeholder/_0' with dtype string and shape [500]\n",
      "\t [[{{node Placeholder/_0}}]]\n"
     ]
    },
    {
     "name": "stdout",
     "output_type": "stream",
     "text": [
      "32/32 [==============================] - 1s 20ms/step - loss: 0.4897 - accuracy: 0.4920 - val_loss: 0.5140 - val_accuracy: 0.5240\n",
      "Epoch 2/70\n",
      "32/32 [==============================] - 1s 15ms/step - loss: 0.4895 - accuracy: 0.4780 - val_loss: 0.5000 - val_accuracy: 0.4860\n",
      "Epoch 3/70\n",
      "32/32 [==============================] - 1s 15ms/step - loss: 0.4776 - accuracy: 0.4830 - val_loss: 0.5000 - val_accuracy: 0.4860\n",
      "Epoch 4/70\n",
      "32/32 [==============================] - 1s 16ms/step - loss: 0.4966 - accuracy: 0.4840 - val_loss: 0.5000 - val_accuracy: 0.4860\n",
      "Epoch 5/70\n",
      "32/32 [==============================] - 1s 16ms/step - loss: 0.4839 - accuracy: 0.4800 - val_loss: 0.4998 - val_accuracy: 0.4860\n",
      "Epoch 6/70\n",
      "32/32 [==============================] - 1s 15ms/step - loss: 0.4805 - accuracy: 0.4760 - val_loss: 0.4983 - val_accuracy: 0.4860\n",
      "Epoch 7/70\n",
      "32/32 [==============================] - 1s 16ms/step - loss: 0.4864 - accuracy: 0.4880 - val_loss: 0.4854 - val_accuracy: 0.4860\n",
      "Epoch 8/70\n",
      "32/32 [==============================] - 1s 16ms/step - loss: 0.4897 - accuracy: 0.4760 - val_loss: 0.4860 - val_accuracy: 0.4860\n",
      "Epoch 9/70\n",
      "32/32 [==============================] - 1s 15ms/step - loss: 0.4853 - accuracy: 0.4800 - val_loss: 0.4860 - val_accuracy: 0.4860\n",
      "Epoch 10/70\n",
      "32/32 [==============================] - 1s 15ms/step - loss: 0.4840 - accuracy: 0.5110 - val_loss: 0.4860 - val_accuracy: 0.4860\n",
      "Epoch 11/70\n",
      "32/32 [==============================] - 1s 16ms/step - loss: 0.4825 - accuracy: 0.4890 - val_loss: 0.4860 - val_accuracy: 0.4860\n",
      "Epoch 12/70\n",
      "32/32 [==============================] - 1s 15ms/step - loss: 0.4844 - accuracy: 0.5090 - val_loss: 0.4860 - val_accuracy: 0.5040\n",
      "Epoch 13/70\n",
      "32/32 [==============================] - 1s 16ms/step - loss: 0.4856 - accuracy: 0.5170 - val_loss: 0.4860 - val_accuracy: 0.5060\n",
      "Epoch 14/70\n",
      "32/32 [==============================] - 1s 15ms/step - loss: 0.4845 - accuracy: 0.5060 - val_loss: 0.4860 - val_accuracy: 0.5040\n",
      "Epoch 15/70\n",
      "32/32 [==============================] - 1s 15ms/step - loss: 0.4870 - accuracy: 0.5070 - val_loss: 0.4860 - val_accuracy: 0.5100\n",
      "Epoch 16/70\n",
      "32/32 [==============================] - 1s 15ms/step - loss: 0.4841 - accuracy: 0.4980 - val_loss: 0.4860 - val_accuracy: 0.5100\n",
      "Epoch 17/70\n",
      "32/32 [==============================] - 1s 16ms/step - loss: 0.4834 - accuracy: 0.5140 - val_loss: 0.4860 - val_accuracy: 0.5140\n",
      "Epoch 18/70\n",
      "32/32 [==============================] - 1s 16ms/step - loss: 0.4845 - accuracy: 0.4790 - val_loss: 0.4860 - val_accuracy: 0.5220\n",
      "Epoch 19/70\n",
      "32/32 [==============================] - 1s 15ms/step - loss: 0.4839 - accuracy: 0.4840 - val_loss: 0.4860 - val_accuracy: 0.5180\n",
      "Epoch 20/70\n",
      "32/32 [==============================] - 1s 16ms/step - loss: 0.4859 - accuracy: 0.5080 - val_loss: 0.4860 - val_accuracy: 0.5320\n",
      "Epoch 21/70\n",
      "32/32 [==============================] - 1s 15ms/step - loss: 0.4836 - accuracy: 0.5270 - val_loss: 0.4860 - val_accuracy: 0.5140\n",
      "Epoch 22/70\n",
      "32/32 [==============================] - 1s 16ms/step - loss: 0.4848 - accuracy: 0.4880 - val_loss: 0.4860 - val_accuracy: 0.5140\n",
      "Epoch 23/70\n",
      "32/32 [==============================] - 1s 17ms/step - loss: 0.4878 - accuracy: 0.5320 - val_loss: 0.4860 - val_accuracy: 0.5180\n",
      "Epoch 24/70\n",
      "32/32 [==============================] - 1s 16ms/step - loss: 0.4833 - accuracy: 0.5170 - val_loss: 0.4860 - val_accuracy: 0.5160\n",
      "Epoch 25/70\n",
      "32/32 [==============================] - 1s 16ms/step - loss: 0.4813 - accuracy: 0.5200 - val_loss: 0.4860 - val_accuracy: 0.5140\n",
      "Epoch 26/70\n",
      "32/32 [==============================] - 1s 15ms/step - loss: 0.4838 - accuracy: 0.4990 - val_loss: 0.4860 - val_accuracy: 0.5140\n",
      "Epoch 27/70\n",
      "32/32 [==============================] - 1s 15ms/step - loss: 0.4868 - accuracy: 0.5180 - val_loss: 0.4860 - val_accuracy: 0.5180\n",
      "Epoch 28/70\n",
      "32/32 [==============================] - 0s 15ms/step - loss: 0.4843 - accuracy: 0.5010 - val_loss: 0.4860 - val_accuracy: 0.5080\n",
      "Epoch 29/70\n",
      "32/32 [==============================] - 1s 16ms/step - loss: 0.4854 - accuracy: 0.5070 - val_loss: 0.4860 - val_accuracy: 0.5160\n",
      "Epoch 30/70\n",
      "32/32 [==============================] - 1s 16ms/step - loss: 0.4834 - accuracy: 0.5190 - val_loss: 0.4860 - val_accuracy: 0.5140\n",
      "Epoch 31/70\n",
      "32/32 [==============================] - 1s 15ms/step - loss: 0.4847 - accuracy: 0.4940 - val_loss: 0.4860 - val_accuracy: 0.5140\n",
      "Epoch 32/70\n",
      "32/32 [==============================] - 1s 16ms/step - loss: 0.4853 - accuracy: 0.5290 - val_loss: 0.4860 - val_accuracy: 0.5140\n",
      "Epoch 33/70\n",
      "32/32 [==============================] - 1s 16ms/step - loss: 0.4849 - accuracy: 0.5180 - val_loss: 0.4860 - val_accuracy: 0.5140\n",
      "Epoch 34/70\n",
      "32/32 [==============================] - 1s 16ms/step - loss: 0.4816 - accuracy: 0.4970 - val_loss: 0.4860 - val_accuracy: 0.5040\n",
      "Epoch 35/70\n",
      "32/32 [==============================] - 1s 16ms/step - loss: 0.4767 - accuracy: 0.4810 - val_loss: 0.4860 - val_accuracy: 0.5140\n",
      "Epoch 36/70\n",
      "32/32 [==============================] - 1s 16ms/step - loss: 0.4888 - accuracy: 0.5060 - val_loss: 0.4860 - val_accuracy: 0.5140\n",
      "Epoch 37/70\n",
      "32/32 [==============================] - 1s 16ms/step - loss: 0.4854 - accuracy: 0.4950 - val_loss: 0.4860 - val_accuracy: 0.5160\n",
      "Epoch 38/70\n",
      "32/32 [==============================] - 1s 15ms/step - loss: 0.4877 - accuracy: 0.5020 - val_loss: 0.4860 - val_accuracy: 0.5140\n",
      "Epoch 39/70\n",
      "32/32 [==============================] - 1s 16ms/step - loss: 0.4866 - accuracy: 0.5140 - val_loss: 0.4860 - val_accuracy: 0.5180\n",
      "Epoch 40/70\n",
      "32/32 [==============================] - 1s 15ms/step - loss: 0.4851 - accuracy: 0.4900 - val_loss: 0.4860 - val_accuracy: 0.5180\n",
      "Epoch 41/70\n",
      "32/32 [==============================] - 1s 15ms/step - loss: 0.4833 - accuracy: 0.5170 - val_loss: 0.4860 - val_accuracy: 0.5140\n",
      "Epoch 42/70\n",
      "32/32 [==============================] - 1s 16ms/step - loss: 0.4820 - accuracy: 0.4980 - val_loss: 0.4860 - val_accuracy: 0.5160\n",
      "Epoch 43/70\n",
      "32/32 [==============================] - 1s 15ms/step - loss: 0.4802 - accuracy: 0.5040 - val_loss: 0.4860 - val_accuracy: 0.5020\n",
      "Epoch 44/70\n",
      "32/32 [==============================] - 1s 16ms/step - loss: 0.4816 - accuracy: 0.4900 - val_loss: 0.4860 - val_accuracy: 0.5180\n",
      "Epoch 45/70\n",
      "32/32 [==============================] - 0s 15ms/step - loss: 0.4756 - accuracy: 0.5270 - val_loss: 0.4860 - val_accuracy: 0.5180\n",
      "Epoch 46/70\n",
      "32/32 [==============================] - 1s 15ms/step - loss: 0.4830 - accuracy: 0.5140 - val_loss: 0.4860 - val_accuracy: 0.5140\n",
      "Epoch 47/70\n",
      "32/32 [==============================] - 1s 15ms/step - loss: 0.4836 - accuracy: 0.4950 - val_loss: 0.4860 - val_accuracy: 0.4940\n",
      "Epoch 48/70\n",
      "32/32 [==============================] - 1s 15ms/step - loss: 0.4728 - accuracy: 0.5060 - val_loss: 0.4860 - val_accuracy: 0.4860\n",
      "Epoch 49/70\n",
      "32/32 [==============================] - 1s 15ms/step - loss: 0.4686 - accuracy: 0.4930 - val_loss: 0.4732 - val_accuracy: 0.4860\n",
      "Epoch 50/70\n",
      "32/32 [==============================] - 0s 15ms/step - loss: 0.4437 - accuracy: 0.5060 - val_loss: 0.4496 - val_accuracy: 0.4860\n",
      "Epoch 51/70\n",
      "32/32 [==============================] - 0s 15ms/step - loss: 0.3010 - accuracy: 0.4850 - val_loss: 0.2560 - val_accuracy: 0.5260\n",
      "Epoch 52/70\n",
      "32/32 [==============================] - 0s 15ms/step - loss: 0.2495 - accuracy: 0.4760 - val_loss: 0.2557 - val_accuracy: 0.4920\n",
      "Epoch 53/70\n",
      "32/32 [==============================] - 1s 15ms/step - loss: 0.2441 - accuracy: 0.4740 - val_loss: 0.2559 - val_accuracy: 0.5040\n",
      "Epoch 54/70\n",
      "32/32 [==============================] - 1s 15ms/step - loss: 0.2384 - accuracy: 0.4600 - val_loss: 0.2648 - val_accuracy: 0.5240\n",
      "Epoch 55/70\n",
      "32/32 [==============================] - 0s 15ms/step - loss: 0.2370 - accuracy: 0.4400 - val_loss: 0.2720 - val_accuracy: 0.4940\n",
      "Epoch 56/70\n",
      "32/32 [==============================] - 1s 15ms/step - loss: 0.2267 - accuracy: 0.4500 - val_loss: 0.2789 - val_accuracy: 0.5100\n",
      "Epoch 57/70\n",
      "32/32 [==============================] - 1s 15ms/step - loss: 0.2215 - accuracy: 0.4320 - val_loss: 0.2709 - val_accuracy: 0.4980\n",
      "Epoch 58/70\n",
      "32/32 [==============================] - 1s 15ms/step - loss: 0.2074 - accuracy: 0.4120 - val_loss: 0.2657 - val_accuracy: 0.5160\n",
      "Epoch 59/70\n",
      "32/32 [==============================] - 0s 15ms/step - loss: 0.1993 - accuracy: 0.4180 - val_loss: 0.2771 - val_accuracy: 0.5220\n",
      "Epoch 60/70\n",
      "32/32 [==============================] - 0s 15ms/step - loss: 0.1875 - accuracy: 0.4170 - val_loss: 0.2768 - val_accuracy: 0.4960\n",
      "Epoch 61/70\n",
      "32/32 [==============================] - 1s 15ms/step - loss: 0.1698 - accuracy: 0.4020 - val_loss: 0.2826 - val_accuracy: 0.5080\n",
      "Epoch 62/70\n",
      "32/32 [==============================] - 1s 16ms/step - loss: 0.1570 - accuracy: 0.4260 - val_loss: 0.2852 - val_accuracy: 0.5120\n",
      "Epoch 63/70\n",
      "32/32 [==============================] - 0s 15ms/step - loss: 0.1546 - accuracy: 0.4040 - val_loss: 0.2981 - val_accuracy: 0.5320\n",
      "Epoch 64/70\n",
      "32/32 [==============================] - 1s 15ms/step - loss: 0.1323 - accuracy: 0.3840 - val_loss: 0.2961 - val_accuracy: 0.5220\n",
      "Epoch 65/70\n",
      "32/32 [==============================] - 1s 15ms/step - loss: 0.1175 - accuracy: 0.3740 - val_loss: 0.2985 - val_accuracy: 0.5160\n",
      "Epoch 66/70\n",
      "32/32 [==============================] - 1s 15ms/step - loss: 0.1055 - accuracy: 0.3820 - val_loss: 0.3057 - val_accuracy: 0.5000\n",
      "Epoch 67/70\n",
      "32/32 [==============================] - 0s 15ms/step - loss: 0.0926 - accuracy: 0.3700 - val_loss: 0.3237 - val_accuracy: 0.5180\n",
      "Epoch 68/70\n",
      "32/32 [==============================] - 1s 15ms/step - loss: 0.0958 - accuracy: 0.3890 - val_loss: 0.3193 - val_accuracy: 0.5340\n",
      "Epoch 69/70\n",
      "32/32 [==============================] - 1s 16ms/step - loss: 0.0842 - accuracy: 0.3830 - val_loss: 0.3218 - val_accuracy: 0.5500\n",
      "Epoch 70/70\n",
      "32/32 [==============================] - 0s 15ms/step - loss: 0.0656 - accuracy: 0.3810 - val_loss: 0.3195 - val_accuracy: 0.5400\n"
     ]
    }
   ],
   "source": [
    "history = model.fit(train_ds, epochs=70, validation_data=validation_ds)\n"
   ]
  },
  {
   "cell_type": "code",
   "execution_count": 103,
   "id": "ea2db8ce",
   "metadata": {},
   "outputs": [
    {
     "data": {
      "text/plain": [
       "<matplotlib.legend.Legend at 0x7f84b03ebc70>"
      ]
     },
     "execution_count": 103,
     "metadata": {},
     "output_type": "execute_result"
    },
    {
     "data": {
      "image/png": "[encoded data removed]",
      "text/plain": [
       "<Figure size 640x480 with 1 Axes>"
      ]
     },
     "metadata": {},
     "output_type": "display_data"
    }
   ],
   "source": [
    "plt.plot(history.history['accuracy'], label='accuracy')\n",
    "plt.plot(history.history['val_accuracy'], label = 'val_accuracy')\n",
    "plt.xlabel('Epoch')\n",
    "plt.ylabel('Accuracy')\n",
    "plt.legend()"
   ]
  },
  {
   "cell_type": "code",
   "execution_count": 104,
   "id": "c8fe1691",
   "metadata": {},
   "outputs": [
    {
     "data": {
      "text/plain": [
       "<matplotlib.legend.Legend at 0x7f84d8461030>"
      ]
     },
     "execution_count": 104,
     "metadata": {},
     "output_type": "execute_result"
    },
    {
     "data": {
      "image/png": "[encoded data removed]",
      "text/plain": [
       "<Figure size 640x480 with 1 Axes>"
      ]
     },
     "metadata": {},
     "output_type": "display_data"
    }
   ],
   "source": [
    "plt.plot(history.history['loss'], label='loss')\n",
    "plt.plot(history.history['val_loss'], label = 'val_loss')\n",
    "plt.xlabel('Epoch')\n",
    "plt.ylabel('Loss')\n",
    "plt.legend()"
   ]
  },
  {
   "cell_type": "code",
   "execution_count": 106,
   "id": "0f62e52e",
   "metadata": {},
   "outputs": [
    {
     "name": "stdout",
     "output_type": "stream",
     "text": [
      "Epoch 1/30\n"
     ]
    },
    {
     "name": "stderr",
     "output_type": "stream",
     "text": [
      "2023-06-06 12:36:47.424991: E tensorflow/compiler/xla/stream_executor/gpu/gpu_cudamallocasync_allocator.cc:306] gpu_async_0 cuMemAllocAsync failed to allocate 2435055616 bytes: CUDA error: out of memory (CUDA_ERROR_OUT_OF_MEMORY)\n",
      " Reported by CUDA: Free memory/Total memory: 97452032/4225695744\n",
      "2023-06-06 12:36:47.425024: E tensorflow/compiler/xla/stream_executor/gpu/gpu_cudamallocasync_allocator.cc:311] Stats: Limit:                      2773549056\n",
      "InUse:                      1061526793\n",
      "MaxInUse:                   2342030729\n",
      "NumAllocs:                    13970701\n",
      "MaxAllocSize:               1300234240\n",
      "Reserved:                            0\n",
      "PeakReserved:                        0\n",
      "LargestFreeBlock:                    0\n",
      "\n",
      "2023-06-06 12:36:47.425094: E tensorflow/compiler/xla/stream_executor/gpu/gpu_cudamallocasync_allocator.cc:63] Histogram of current allocation: (allocation_size_in_bytes, nb_allocation_of_that_sizes), ...;\n",
      "2023-06-06 12:36:47.425099: E tensorflow/compiler/xla/stream_executor/gpu/gpu_cudamallocasync_allocator.cc:66] 1, 1\n",
      "2023-06-06 12:36:47.425103: E tensorflow/compiler/xla/stream_executor/gpu/gpu_cudamallocasync_allocator.cc:66] 4, 123\n",
      "2023-06-06 12:36:47.425107: E tensorflow/compiler/xla/stream_executor/gpu/gpu_cudamallocasync_allocator.cc:66] 8, 131\n",
      "2023-06-06 12:36:47.425110: E tensorflow/compiler/xla/stream_executor/gpu/gpu_cudamallocasync_allocator.cc:66] 128, 36\n",
      "2023-06-06 12:36:47.425114: E tensorflow/compiler/xla/stream_executor/gpu/gpu_cudamallocasync_allocator.cc:66] 256, 239\n",
      "2023-06-06 12:36:47.425117: E tensorflow/compiler/xla/stream_executor/gpu/gpu_cudamallocasync_allocator.cc:66] 512, 250\n",
      "2023-06-06 12:36:47.425121: E tensorflow/compiler/xla/stream_executor/gpu/gpu_cudamallocasync_allocator.cc:66] 1024, 482\n",
      "2023-06-06 12:36:47.425124: E tensorflow/compiler/xla/stream_executor/gpu/gpu_cudamallocasync_allocator.cc:66] 1028, 1\n",
      "2023-06-06 12:36:47.425127: E tensorflow/compiler/xla/stream_executor/gpu/gpu_cudamallocasync_allocator.cc:66] 2048, 319\n",
      "2023-06-06 12:36:47.425131: E tensorflow/compiler/xla/stream_executor/gpu/gpu_cudamallocasync_allocator.cc:66] 3456, 18\n",
      "2023-06-06 12:36:47.425134: E tensorflow/compiler/xla/stream_executor/gpu/gpu_cudamallocasync_allocator.cc:66] 4096, 203\n",
      "2023-06-06 12:36:47.425137: E tensorflow/compiler/xla/stream_executor/gpu/gpu_cudamallocasync_allocator.cc:66] 8192, 116\n",
      "2023-06-06 12:36:47.425141: E tensorflow/compiler/xla/stream_executor/gpu/gpu_cudamallocasync_allocator.cc:66] 16384, 14\n",
      "2023-06-06 12:36:47.425144: E tensorflow/compiler/xla/stream_executor/gpu/gpu_cudamallocasync_allocator.cc:66] 36864, 18\n",
      "2023-06-06 12:36:47.425147: E tensorflow/compiler/xla/stream_executor/gpu/gpu_cudamallocasync_allocator.cc:66] 37632, 7\n",
      "2023-06-06 12:36:47.425151: E tensorflow/compiler/xla/stream_executor/gpu/gpu_cudamallocasync_allocator.cc:66] 65536, 42\n",
      "2023-06-06 12:36:47.425154: E tensorflow/compiler/xla/stream_executor/gpu/gpu_cudamallocasync_allocator.cc:66] 73728, 18\n",
      "2023-06-06 12:36:47.425157: E tensorflow/compiler/xla/stream_executor/gpu/gpu_cudamallocasync_allocator.cc:66] 131072, 7\n",
      "2023-06-06 12:36:47.425161: E tensorflow/compiler/xla/stream_executor/gpu/gpu_cudamallocasync_allocator.cc:66] 147456, 21\n",
      "2023-06-06 12:36:47.425164: E tensorflow/compiler/xla/stream_executor/gpu/gpu_cudamallocasync_allocator.cc:66] 262144, 49\n",
      "2023-06-06 12:36:47.425167: E tensorflow/compiler/xla/stream_executor/gpu/gpu_cudamallocasync_allocator.cc:66] 524288, 14\n",
      "2023-06-06 12:36:47.425171: E tensorflow/compiler/xla/stream_executor/gpu/gpu_cudamallocasync_allocator.cc:66] 589824, 76\n",
      "2023-06-06 12:36:47.425174: E tensorflow/compiler/xla/stream_executor/gpu/gpu_cudamallocasync_allocator.cc:66] 819200, 24\n",
      "2023-06-06 12:36:47.425177: E tensorflow/compiler/xla/stream_executor/gpu/gpu_cudamallocasync_allocator.cc:66] 1048576, 77\n",
      "2023-06-06 12:36:47.425180: E tensorflow/compiler/xla/stream_executor/gpu/gpu_cudamallocasync_allocator.cc:66] 1638400, 16\n",
      "2023-06-06 12:36:47.425184: E tensorflow/compiler/xla/stream_executor/gpu/gpu_cudamallocasync_allocator.cc:66] 2097152, 14\n",
      "2023-06-06 12:36:47.425187: E tensorflow/compiler/xla/stream_executor/gpu/gpu_cudamallocasync_allocator.cc:66] 2359296, 49\n",
      "2023-06-06 12:36:47.425190: E tensorflow/compiler/xla/stream_executor/gpu/gpu_cudamallocasync_allocator.cc:66] 2840064, 1\n",
      "2023-06-06 12:36:47.425194: E tensorflow/compiler/xla/stream_executor/gpu/gpu_cudamallocasync_allocator.cc:66] 3276800, 26\n",
      "2023-06-06 12:36:47.425197: E tensorflow/compiler/xla/stream_executor/gpu/gpu_cudamallocasync_allocator.cc:66] 4194304, 37\n",
      "2023-06-06 12:36:47.425200: E tensorflow/compiler/xla/stream_executor/gpu/gpu_cudamallocasync_allocator.cc:66] 6553600, 9\n",
      "2023-06-06 12:36:47.425203: E tensorflow/compiler/xla/stream_executor/gpu/gpu_cudamallocasync_allocator.cc:66] 8388608, 7\n",
      "2023-06-06 12:36:47.425207: E tensorflow/compiler/xla/stream_executor/gpu/gpu_cudamallocasync_allocator.cc:66] 9437184, 21\n",
      "2023-06-06 12:36:47.425212: E tensorflow/compiler/xla/stream_executor/gpu/gpu_cudamallocasync_allocator.cc:66] 13107200, 9\n",
      "2023-06-06 12:36:47.425216: E tensorflow/compiler/xla/stream_executor/gpu/gpu_cudamallocasync_allocator.cc:66] 14450688, 1\n",
      "2023-06-06 12:36:47.425219: E tensorflow/compiler/xla/stream_executor/gpu/gpu_cudamallocasync_allocator.cc:66] 20971520, 1\n",
      "2023-06-06 12:36:47.425224: E tensorflow/compiler/xla/stream_executor/gpu/gpu_cudamallocasync_allocator.cc:97] CU_MEMPOOL_ATTR_RESERVED_MEM_CURRENT: 2751463424\n",
      "2023-06-06 12:36:47.425227: E tensorflow/compiler/xla/stream_executor/gpu/gpu_cudamallocasync_allocator.cc:99] CU_MEMPOOL_ATTR_USED_MEM_CURRENT: 1061526793\n",
      "2023-06-06 12:36:47.425231: E tensorflow/compiler/xla/stream_executor/gpu/gpu_cudamallocasync_allocator.cc:100] CU_MEMPOOL_ATTR_RESERVED_MEM_HIGH: 2986344448\n",
      "2023-06-06 12:36:47.425234: E tensorflow/compiler/xla/stream_executor/gpu/gpu_cudamallocasync_allocator.cc:101] CU_MEMPOOL_ATTR_USED_MEM_HIGH: 2342030729\n",
      "2023-06-06 12:36:47.504308: E tensorflow/compiler/xla/stream_executor/gpu/gpu_cudamallocasync_allocator.cc:306] gpu_async_0 cuMemAllocAsync failed to allocate 2587885568 bytes: CUDA error: out of memory (CUDA_ERROR_OUT_OF_MEMORY)\n",
      " Reported by CUDA: Free memory/Total memory: 97452032/4225695744\n",
      "2023-06-06 12:36:47.504339: E tensorflow/compiler/xla/stream_executor/gpu/gpu_cudamallocasync_allocator.cc:311] Stats: Limit:                      2773549056\n",
      "InUse:                      1059110153\n",
      "MaxInUse:                   2342030729\n",
      "NumAllocs:                    13970718\n",
      "MaxAllocSize:               1300234240\n",
      "Reserved:                            0\n",
      "PeakReserved:                        0\n",
      "LargestFreeBlock:                    0\n",
      "\n",
      "2023-06-06 12:36:47.504404: E tensorflow/compiler/xla/stream_executor/gpu/gpu_cudamallocasync_allocator.cc:63] Histogram of current allocation: (allocation_size_in_bytes, nb_allocation_of_that_sizes), ...;\n",
      "2023-06-06 12:36:47.504409: E tensorflow/compiler/xla/stream_executor/gpu/gpu_cudamallocasync_allocator.cc:66] 1, 1\n",
      "2023-06-06 12:36:47.504413: E tensorflow/compiler/xla/stream_executor/gpu/gpu_cudamallocasync_allocator.cc:66] 4, 123\n",
      "2023-06-06 12:36:47.504417: E tensorflow/compiler/xla/stream_executor/gpu/gpu_cudamallocasync_allocator.cc:66] 8, 131\n",
      "2023-06-06 12:36:47.504421: E tensorflow/compiler/xla/stream_executor/gpu/gpu_cudamallocasync_allocator.cc:66] 128, 36\n",
      "2023-06-06 12:36:47.504424: E tensorflow/compiler/xla/stream_executor/gpu/gpu_cudamallocasync_allocator.cc:66] 256, 239\n",
      "2023-06-06 12:36:47.504428: E tensorflow/compiler/xla/stream_executor/gpu/gpu_cudamallocasync_allocator.cc:66] 512, 250\n",
      "2023-06-06 12:36:47.504432: E tensorflow/compiler/xla/stream_executor/gpu/gpu_cudamallocasync_allocator.cc:66] 1024, 482\n",
      "2023-06-06 12:36:47.504435: E tensorflow/compiler/xla/stream_executor/gpu/gpu_cudamallocasync_allocator.cc:66] 1028, 1\n",
      "2023-06-06 12:36:47.504439: E tensorflow/compiler/xla/stream_executor/gpu/gpu_cudamallocasync_allocator.cc:66] 2048, 319\n",
      "2023-06-06 12:36:47.504442: E tensorflow/compiler/xla/stream_executor/gpu/gpu_cudamallocasync_allocator.cc:66] 3456, 18\n",
      "2023-06-06 12:36:47.504446: E tensorflow/compiler/xla/stream_executor/gpu/gpu_cudamallocasync_allocator.cc:66] 4096, 203\n",
      "2023-06-06 12:36:47.504449: E tensorflow/compiler/xla/stream_executor/gpu/gpu_cudamallocasync_allocator.cc:66] 8192, 117\n",
      "2023-06-06 12:36:47.504452: E tensorflow/compiler/xla/stream_executor/gpu/gpu_cudamallocasync_allocator.cc:66] 16384, 14\n",
      "2023-06-06 12:36:47.504456: E tensorflow/compiler/xla/stream_executor/gpu/gpu_cudamallocasync_allocator.cc:66] 36864, 18\n",
      "2023-06-06 12:36:47.504459: E tensorflow/compiler/xla/stream_executor/gpu/gpu_cudamallocasync_allocator.cc:66] 37632, 7\n",
      "2023-06-06 12:36:47.504463: E tensorflow/compiler/xla/stream_executor/gpu/gpu_cudamallocasync_allocator.cc:66] 65536, 42\n",
      "2023-06-06 12:36:47.504466: E tensorflow/compiler/xla/stream_executor/gpu/gpu_cudamallocasync_allocator.cc:66] 73728, 18\n",
      "2023-06-06 12:36:47.504469: E tensorflow/compiler/xla/stream_executor/gpu/gpu_cudamallocasync_allocator.cc:66] 131072, 7\n",
      "2023-06-06 12:36:47.504473: E tensorflow/compiler/xla/stream_executor/gpu/gpu_cudamallocasync_allocator.cc:66] 147456, 21\n",
      "2023-06-06 12:36:47.504476: E tensorflow/compiler/xla/stream_executor/gpu/gpu_cudamallocasync_allocator.cc:66] 262144, 49\n",
      "2023-06-06 12:36:47.504480: E tensorflow/compiler/xla/stream_executor/gpu/gpu_cudamallocasync_allocator.cc:66] 524288, 14\n",
      "2023-06-06 12:36:47.504483: E tensorflow/compiler/xla/stream_executor/gpu/gpu_cudamallocasync_allocator.cc:66] 589824, 78\n",
      "2023-06-06 12:36:47.504486: E tensorflow/compiler/xla/stream_executor/gpu/gpu_cudamallocasync_allocator.cc:66] 819200, 24\n",
      "2023-06-06 12:36:47.504490: E tensorflow/compiler/xla/stream_executor/gpu/gpu_cudamallocasync_allocator.cc:66] 1048576, 77\n",
      "2023-06-06 12:36:47.504493: E tensorflow/compiler/xla/stream_executor/gpu/gpu_cudamallocasync_allocator.cc:66] 1638400, 16\n",
      "2023-06-06 12:36:47.504496: E tensorflow/compiler/xla/stream_executor/gpu/gpu_cudamallocasync_allocator.cc:66] 2097152, 14\n",
      "2023-06-06 12:36:47.504500: E tensorflow/compiler/xla/stream_executor/gpu/gpu_cudamallocasync_allocator.cc:66] 2359296, 49\n",
      "2023-06-06 12:36:47.504503: E tensorflow/compiler/xla/stream_executor/gpu/gpu_cudamallocasync_allocator.cc:66] 2840064, 1\n",
      "2023-06-06 12:36:47.504507: E tensorflow/compiler/xla/stream_executor/gpu/gpu_cudamallocasync_allocator.cc:66] 3276800, 26\n",
      "2023-06-06 12:36:47.504510: E tensorflow/compiler/xla/stream_executor/gpu/gpu_cudamallocasync_allocator.cc:66] 4194304, 37\n",
      "2023-06-06 12:36:47.504513: E tensorflow/compiler/xla/stream_executor/gpu/gpu_cudamallocasync_allocator.cc:66] 6553600, 9\n",
      "2023-06-06 12:36:47.504517: E tensorflow/compiler/xla/stream_executor/gpu/gpu_cudamallocasync_allocator.cc:66] 8388608, 7\n",
      "2023-06-06 12:36:47.504520: E tensorflow/compiler/xla/stream_executor/gpu/gpu_cudamallocasync_allocator.cc:66] 9437184, 21\n",
      "2023-06-06 12:36:47.504524: E tensorflow/compiler/xla/stream_executor/gpu/gpu_cudamallocasync_allocator.cc:66] 13107200, 9\n",
      "2023-06-06 12:36:47.504528: E tensorflow/compiler/xla/stream_executor/gpu/gpu_cudamallocasync_allocator.cc:66] 14450688, 1\n",
      "2023-06-06 12:36:47.504531: E tensorflow/compiler/xla/stream_executor/gpu/gpu_cudamallocasync_allocator.cc:66] 17367040, 1\n",
      "2023-06-06 12:36:47.504536: E tensorflow/compiler/xla/stream_executor/gpu/gpu_cudamallocasync_allocator.cc:97] CU_MEMPOOL_ATTR_RESERVED_MEM_CURRENT: 2751463424\n",
      "2023-06-06 12:36:47.504539: E tensorflow/compiler/xla/stream_executor/gpu/gpu_cudamallocasync_allocator.cc:99] CU_MEMPOOL_ATTR_USED_MEM_CURRENT: 1059110153\n",
      "2023-06-06 12:36:47.504543: E tensorflow/compiler/xla/stream_executor/gpu/gpu_cudamallocasync_allocator.cc:100] CU_MEMPOOL_ATTR_RESERVED_MEM_HIGH: 2986344448\n",
      "2023-06-06 12:36:47.504547: E tensorflow/compiler/xla/stream_executor/gpu/gpu_cudamallocasync_allocator.cc:101] CU_MEMPOOL_ATTR_USED_MEM_HIGH: 2342030729\n",
      "2023-06-06 12:36:47.825094: E tensorflow/compiler/xla/stream_executor/gpu/gpu_cudamallocasync_allocator.cc:306] gpu_async_0 cuMemAllocAsync failed to allocate 2474639360 bytes: CUDA error: out of memory (CUDA_ERROR_OUT_OF_MEMORY)\n",
      " Reported by CUDA: Free memory/Total memory: 96141312/4225695744\n",
      "2023-06-06 12:36:47.825122: E tensorflow/compiler/xla/stream_executor/gpu/gpu_cudamallocasync_allocator.cc:311] Stats: Limit:                      2773549056\n",
      "InUse:                      1056068873\n",
      "MaxInUse:                   2366858505\n",
      "NumAllocs:                    13970776\n",
      "MaxAllocSize:               1300234240\n",
      "Reserved:                            0\n",
      "PeakReserved:                        0\n",
      "LargestFreeBlock:                    0\n",
      "\n",
      "2023-06-06 12:36:47.825188: E tensorflow/compiler/xla/stream_executor/gpu/gpu_cudamallocasync_allocator.cc:63] Histogram of current allocation: (allocation_size_in_bytes, nb_allocation_of_that_sizes), ...;\n",
      "2023-06-06 12:36:47.825192: E tensorflow/compiler/xla/stream_executor/gpu/gpu_cudamallocasync_allocator.cc:66] 1, 1\n",
      "2023-06-06 12:36:47.825196: E tensorflow/compiler/xla/stream_executor/gpu/gpu_cudamallocasync_allocator.cc:66] 4, 123\n",
      "2023-06-06 12:36:47.825199: E tensorflow/compiler/xla/stream_executor/gpu/gpu_cudamallocasync_allocator.cc:66] 8, 131\n",
      "2023-06-06 12:36:47.825203: E tensorflow/compiler/xla/stream_executor/gpu/gpu_cudamallocasync_allocator.cc:66] 128, 36\n",
      "2023-06-06 12:36:47.825206: E tensorflow/compiler/xla/stream_executor/gpu/gpu_cudamallocasync_allocator.cc:66] 256, 239\n",
      "2023-06-06 12:36:47.825210: E tensorflow/compiler/xla/stream_executor/gpu/gpu_cudamallocasync_allocator.cc:66] 512, 250\n",
      "2023-06-06 12:36:47.825213: E tensorflow/compiler/xla/stream_executor/gpu/gpu_cudamallocasync_allocator.cc:66] 1024, 482\n",
      "2023-06-06 12:36:47.825216: E tensorflow/compiler/xla/stream_executor/gpu/gpu_cudamallocasync_allocator.cc:66] 1028, 1\n",
      "2023-06-06 12:36:47.825219: E tensorflow/compiler/xla/stream_executor/gpu/gpu_cudamallocasync_allocator.cc:66] 2048, 318\n",
      "2023-06-06 12:36:47.825223: E tensorflow/compiler/xla/stream_executor/gpu/gpu_cudamallocasync_allocator.cc:66] 3456, 18\n",
      "2023-06-06 12:36:47.825226: E tensorflow/compiler/xla/stream_executor/gpu/gpu_cudamallocasync_allocator.cc:66] 4096, 203\n",
      "2023-06-06 12:36:47.825229: E tensorflow/compiler/xla/stream_executor/gpu/gpu_cudamallocasync_allocator.cc:66] 8192, 114\n",
      "2023-06-06 12:36:47.825233: E tensorflow/compiler/xla/stream_executor/gpu/gpu_cudamallocasync_allocator.cc:66] 16384, 14\n",
      "2023-06-06 12:36:47.825236: E tensorflow/compiler/xla/stream_executor/gpu/gpu_cudamallocasync_allocator.cc:66] 36864, 18\n",
      "2023-06-06 12:36:47.825239: E tensorflow/compiler/xla/stream_executor/gpu/gpu_cudamallocasync_allocator.cc:66] 37632, 7\n",
      "2023-06-06 12:36:47.825243: E tensorflow/compiler/xla/stream_executor/gpu/gpu_cudamallocasync_allocator.cc:66] 65536, 42\n",
      "2023-06-06 12:36:47.825246: E tensorflow/compiler/xla/stream_executor/gpu/gpu_cudamallocasync_allocator.cc:66] 73728, 18\n",
      "2023-06-06 12:36:47.825249: E tensorflow/compiler/xla/stream_executor/gpu/gpu_cudamallocasync_allocator.cc:66] 131072, 7\n",
      "2023-06-06 12:36:47.825253: E tensorflow/compiler/xla/stream_executor/gpu/gpu_cudamallocasync_allocator.cc:66] 147456, 21\n",
      "2023-06-06 12:36:47.825256: E tensorflow/compiler/xla/stream_executor/gpu/gpu_cudamallocasync_allocator.cc:66] 262144, 49\n",
      "2023-06-06 12:36:47.825259: E tensorflow/compiler/xla/stream_executor/gpu/gpu_cudamallocasync_allocator.cc:66] 524288, 14\n",
      "2023-06-06 12:36:47.825263: E tensorflow/compiler/xla/stream_executor/gpu/gpu_cudamallocasync_allocator.cc:66] 589824, 73\n",
      "2023-06-06 12:36:47.825266: E tensorflow/compiler/xla/stream_executor/gpu/gpu_cudamallocasync_allocator.cc:66] 819200, 24\n",
      "2023-06-06 12:36:47.825269: E tensorflow/compiler/xla/stream_executor/gpu/gpu_cudamallocasync_allocator.cc:66] 1048576, 77\n",
      "2023-06-06 12:36:47.825273: E tensorflow/compiler/xla/stream_executor/gpu/gpu_cudamallocasync_allocator.cc:66] 1638400, 16\n",
      "2023-06-06 12:36:47.825276: E tensorflow/compiler/xla/stream_executor/gpu/gpu_cudamallocasync_allocator.cc:66] 2097152, 14\n",
      "2023-06-06 12:36:47.825279: E tensorflow/compiler/xla/stream_executor/gpu/gpu_cudamallocasync_allocator.cc:66] 2359296, 50\n",
      "2023-06-06 12:36:47.825282: E tensorflow/compiler/xla/stream_executor/gpu/gpu_cudamallocasync_allocator.cc:66] 2840064, 1\n",
      "2023-06-06 12:36:47.825286: E tensorflow/compiler/xla/stream_executor/gpu/gpu_cudamallocasync_allocator.cc:66] 3276800, 26\n",
      "2023-06-06 12:36:47.825289: E tensorflow/compiler/xla/stream_executor/gpu/gpu_cudamallocasync_allocator.cc:66] 4194304, 36\n",
      "2023-06-06 12:36:47.825292: E tensorflow/compiler/xla/stream_executor/gpu/gpu_cudamallocasync_allocator.cc:66] 6553600, 9\n",
      "2023-06-06 12:36:47.825295: E tensorflow/compiler/xla/stream_executor/gpu/gpu_cudamallocasync_allocator.cc:66] 8388608, 7\n",
      "2023-06-06 12:36:47.825299: E tensorflow/compiler/xla/stream_executor/gpu/gpu_cudamallocasync_allocator.cc:66] 9437184, 21\n",
      "2023-06-06 12:36:47.825304: E tensorflow/compiler/xla/stream_executor/gpu/gpu_cudamallocasync_allocator.cc:66] 13107200, 9\n",
      "2023-06-06 12:36:47.825307: E tensorflow/compiler/xla/stream_executor/gpu/gpu_cudamallocasync_allocator.cc:66] 14450688, 1\n",
      "2023-06-06 12:36:47.825311: E tensorflow/compiler/xla/stream_executor/gpu/gpu_cudamallocasync_allocator.cc:66] 19136512, 1\n",
      "2023-06-06 12:36:47.825315: E tensorflow/compiler/xla/stream_executor/gpu/gpu_cudamallocasync_allocator.cc:97] CU_MEMPOOL_ATTR_RESERVED_MEM_CURRENT: 2751463424\n",
      "2023-06-06 12:36:47.825319: E tensorflow/compiler/xla/stream_executor/gpu/gpu_cudamallocasync_allocator.cc:99] CU_MEMPOOL_ATTR_USED_MEM_CURRENT: 1056068873\n",
      "2023-06-06 12:36:47.825322: E tensorflow/compiler/xla/stream_executor/gpu/gpu_cudamallocasync_allocator.cc:100] CU_MEMPOOL_ATTR_RESERVED_MEM_HIGH: 2986344448\n",
      "2023-06-06 12:36:47.825325: E tensorflow/compiler/xla/stream_executor/gpu/gpu_cudamallocasync_allocator.cc:101] CU_MEMPOOL_ATTR_USED_MEM_HIGH: 2366858505\n",
      "2023-06-06 12:36:47.875295: E tensorflow/compiler/xla/stream_executor/gpu/gpu_cudamallocasync_allocator.cc:306] gpu_async_0 cuMemAllocAsync failed to allocate 2433286144 bytes: CUDA error: out of memory (CUDA_ERROR_OUT_OF_MEMORY)\n",
      " Reported by CUDA: Free memory/Total memory: 100335616/4225695744\n",
      "2023-06-06 12:36:47.875314: E tensorflow/compiler/xla/stream_executor/gpu/gpu_cudamallocasync_allocator.cc:311] Stats: Limit:                      2773549056\n",
      "InUse:                      1059734793\n",
      "MaxInUse:                   2366858505\n",
      "NumAllocs:                    13970791\n",
      "MaxAllocSize:               1300234240\n",
      "Reserved:                            0\n",
      "PeakReserved:                        0\n",
      "LargestFreeBlock:                    0\n",
      "\n",
      "2023-06-06 12:36:47.875376: E tensorflow/compiler/xla/stream_executor/gpu/gpu_cudamallocasync_allocator.cc:63] Histogram of current allocation: (allocation_size_in_bytes, nb_allocation_of_that_sizes), ...;\n",
      "2023-06-06 12:36:47.875381: E tensorflow/compiler/xla/stream_executor/gpu/gpu_cudamallocasync_allocator.cc:66] 1, 1\n",
      "2023-06-06 12:36:47.875385: E tensorflow/compiler/xla/stream_executor/gpu/gpu_cudamallocasync_allocator.cc:66] 4, 123\n",
      "2023-06-06 12:36:47.875388: E tensorflow/compiler/xla/stream_executor/gpu/gpu_cudamallocasync_allocator.cc:66] 8, 131\n",
      "2023-06-06 12:36:47.875392: E tensorflow/compiler/xla/stream_executor/gpu/gpu_cudamallocasync_allocator.cc:66] 128, 36\n",
      "2023-06-06 12:36:47.875395: E tensorflow/compiler/xla/stream_executor/gpu/gpu_cudamallocasync_allocator.cc:66] 256, 239\n",
      "2023-06-06 12:36:47.875398: E tensorflow/compiler/xla/stream_executor/gpu/gpu_cudamallocasync_allocator.cc:66] 512, 250\n",
      "2023-06-06 12:36:47.875402: E tensorflow/compiler/xla/stream_executor/gpu/gpu_cudamallocasync_allocator.cc:66] 1024, 482\n",
      "2023-06-06 12:36:47.875405: E tensorflow/compiler/xla/stream_executor/gpu/gpu_cudamallocasync_allocator.cc:66] 1028, 1\n",
      "2023-06-06 12:36:47.875408: E tensorflow/compiler/xla/stream_executor/gpu/gpu_cudamallocasync_allocator.cc:66] 2048, 316\n",
      "2023-06-06 12:36:47.875412: E tensorflow/compiler/xla/stream_executor/gpu/gpu_cudamallocasync_allocator.cc:66] 3456, 18\n",
      "2023-06-06 12:36:47.875415: E tensorflow/compiler/xla/stream_executor/gpu/gpu_cudamallocasync_allocator.cc:66] 4096, 203\n",
      "2023-06-06 12:36:47.875419: E tensorflow/compiler/xla/stream_executor/gpu/gpu_cudamallocasync_allocator.cc:66] 8192, 114\n",
      "2023-06-06 12:36:47.875422: E tensorflow/compiler/xla/stream_executor/gpu/gpu_cudamallocasync_allocator.cc:66] 16384, 14\n",
      "2023-06-06 12:36:47.875426: E tensorflow/compiler/xla/stream_executor/gpu/gpu_cudamallocasync_allocator.cc:66] 36864, 18\n",
      "2023-06-06 12:36:47.875429: E tensorflow/compiler/xla/stream_executor/gpu/gpu_cudamallocasync_allocator.cc:66] 37632, 7\n",
      "2023-06-06 12:36:47.875432: E tensorflow/compiler/xla/stream_executor/gpu/gpu_cudamallocasync_allocator.cc:66] 65536, 42\n",
      "2023-06-06 12:36:47.875436: E tensorflow/compiler/xla/stream_executor/gpu/gpu_cudamallocasync_allocator.cc:66] 73728, 18\n",
      "2023-06-06 12:36:47.875439: E tensorflow/compiler/xla/stream_executor/gpu/gpu_cudamallocasync_allocator.cc:66] 131072, 7\n",
      "2023-06-06 12:36:47.875442: E tensorflow/compiler/xla/stream_executor/gpu/gpu_cudamallocasync_allocator.cc:66] 147456, 21\n",
      "2023-06-06 12:36:47.875446: E tensorflow/compiler/xla/stream_executor/gpu/gpu_cudamallocasync_allocator.cc:66] 262144, 49\n",
      "2023-06-06 12:36:47.875449: E tensorflow/compiler/xla/stream_executor/gpu/gpu_cudamallocasync_allocator.cc:66] 524288, 14\n",
      "2023-06-06 12:36:47.875452: E tensorflow/compiler/xla/stream_executor/gpu/gpu_cudamallocasync_allocator.cc:66] 589824, 73\n",
      "2023-06-06 12:36:47.875456: E tensorflow/compiler/xla/stream_executor/gpu/gpu_cudamallocasync_allocator.cc:66] 819200, 24\n",
      "2023-06-06 12:36:47.875459: E tensorflow/compiler/xla/stream_executor/gpu/gpu_cudamallocasync_allocator.cc:66] 1048576, 77\n",
      "2023-06-06 12:36:47.875462: E tensorflow/compiler/xla/stream_executor/gpu/gpu_cudamallocasync_allocator.cc:66] 1638400, 16\n",
      "2023-06-06 12:36:47.875466: E tensorflow/compiler/xla/stream_executor/gpu/gpu_cudamallocasync_allocator.cc:66] 2097152, 14\n",
      "2023-06-06 12:36:47.875469: E tensorflow/compiler/xla/stream_executor/gpu/gpu_cudamallocasync_allocator.cc:66] 2359296, 49\n",
      "2023-06-06 12:36:47.875472: E tensorflow/compiler/xla/stream_executor/gpu/gpu_cudamallocasync_allocator.cc:66] 2840064, 1\n",
      "2023-06-06 12:36:47.875476: E tensorflow/compiler/xla/stream_executor/gpu/gpu_cudamallocasync_allocator.cc:66] 3276800, 26\n",
      "2023-06-06 12:36:47.875479: E tensorflow/compiler/xla/stream_executor/gpu/gpu_cudamallocasync_allocator.cc:66] 4194304, 37\n",
      "2023-06-06 12:36:47.875483: E tensorflow/compiler/xla/stream_executor/gpu/gpu_cudamallocasync_allocator.cc:66] 6553600, 9\n",
      "2023-06-06 12:36:47.875486: E tensorflow/compiler/xla/stream_executor/gpu/gpu_cudamallocasync_allocator.cc:66] 8388608, 7\n",
      "2023-06-06 12:36:47.875489: E tensorflow/compiler/xla/stream_executor/gpu/gpu_cudamallocasync_allocator.cc:66] 9437184, 21\n",
      "2023-06-06 12:36:47.875493: E tensorflow/compiler/xla/stream_executor/gpu/gpu_cudamallocasync_allocator.cc:66] 13107200, 9\n",
      "2023-06-06 12:36:47.875496: E tensorflow/compiler/xla/stream_executor/gpu/gpu_cudamallocasync_allocator.cc:66] 14450688, 1\n",
      "2023-06-06 12:36:47.875499: E tensorflow/compiler/xla/stream_executor/gpu/gpu_cudamallocasync_allocator.cc:66] 20971520, 1\n",
      "2023-06-06 12:36:47.875504: E tensorflow/compiler/xla/stream_executor/gpu/gpu_cudamallocasync_allocator.cc:97] CU_MEMPOOL_ATTR_RESERVED_MEM_CURRENT: 2751463424\n",
      "2023-06-06 12:36:47.875507: E tensorflow/compiler/xla/stream_executor/gpu/gpu_cudamallocasync_allocator.cc:99] CU_MEMPOOL_ATTR_USED_MEM_CURRENT: 1059734793\n",
      "2023-06-06 12:36:47.875511: E tensorflow/compiler/xla/stream_executor/gpu/gpu_cudamallocasync_allocator.cc:100] CU_MEMPOOL_ATTR_RESERVED_MEM_HIGH: 2986344448\n",
      "2023-06-06 12:36:47.875515: E tensorflow/compiler/xla/stream_executor/gpu/gpu_cudamallocasync_allocator.cc:101] CU_MEMPOOL_ATTR_USED_MEM_HIGH: 2366858505\n",
      "2023-06-06 12:36:48.210969: E tensorflow/compiler/xla/stream_executor/gpu/gpu_cudamallocasync_allocator.cc:306] gpu_async_0 cuMemAllocAsync failed to allocate 4908449808 bytes: CUDA error: out of memory (CUDA_ERROR_OUT_OF_MEMORY)\n",
      " Reported by CUDA: Free memory/Total memory: 100794368/4225695744\n",
      "2023-06-06 12:36:48.210996: E tensorflow/compiler/xla/stream_executor/gpu/gpu_cudamallocasync_allocator.cc:311] Stats: Limit:                      2773549056\n",
      "InUse:                      1041061129\n",
      "MaxInUse:                   2366858505\n",
      "NumAllocs:                    13970894\n",
      "MaxAllocSize:               1300234240\n",
      "Reserved:                            0\n",
      "PeakReserved:                        0\n",
      "LargestFreeBlock:                    0\n",
      "\n",
      "2023-06-06 12:36:48.211064: E tensorflow/compiler/xla/stream_executor/gpu/gpu_cudamallocasync_allocator.cc:63] Histogram of current allocation: (allocation_size_in_bytes, nb_allocation_of_that_sizes), ...;\n",
      "2023-06-06 12:36:48.211068: E tensorflow/compiler/xla/stream_executor/gpu/gpu_cudamallocasync_allocator.cc:66] 1, 1\n",
      "2023-06-06 12:36:48.211072: E tensorflow/compiler/xla/stream_executor/gpu/gpu_cudamallocasync_allocator.cc:66] 4, 123\n",
      "2023-06-06 12:36:48.211076: E tensorflow/compiler/xla/stream_executor/gpu/gpu_cudamallocasync_allocator.cc:66] 8, 131\n",
      "2023-06-06 12:36:48.211079: E tensorflow/compiler/xla/stream_executor/gpu/gpu_cudamallocasync_allocator.cc:66] 128, 36\n",
      "2023-06-06 12:36:48.211082: E tensorflow/compiler/xla/stream_executor/gpu/gpu_cudamallocasync_allocator.cc:66] 256, 239\n",
      "2023-06-06 12:36:48.211086: E tensorflow/compiler/xla/stream_executor/gpu/gpu_cudamallocasync_allocator.cc:66] 512, 250\n",
      "2023-06-06 12:36:48.211089: E tensorflow/compiler/xla/stream_executor/gpu/gpu_cudamallocasync_allocator.cc:66] 1024, 482\n",
      "2023-06-06 12:36:48.211092: E tensorflow/compiler/xla/stream_executor/gpu/gpu_cudamallocasync_allocator.cc:66] 1028, 1\n",
      "2023-06-06 12:36:48.211096: E tensorflow/compiler/xla/stream_executor/gpu/gpu_cudamallocasync_allocator.cc:66] 2048, 310\n",
      "2023-06-06 12:36:48.211099: E tensorflow/compiler/xla/stream_executor/gpu/gpu_cudamallocasync_allocator.cc:66] 3456, 18\n",
      "2023-06-06 12:36:48.211102: E tensorflow/compiler/xla/stream_executor/gpu/gpu_cudamallocasync_allocator.cc:66] 4096, 203\n",
      "2023-06-06 12:36:48.211106: E tensorflow/compiler/xla/stream_executor/gpu/gpu_cudamallocasync_allocator.cc:66] 8192, 108\n",
      "2023-06-06 12:36:48.211109: E tensorflow/compiler/xla/stream_executor/gpu/gpu_cudamallocasync_allocator.cc:66] 16384, 14\n",
      "2023-06-06 12:36:48.211112: E tensorflow/compiler/xla/stream_executor/gpu/gpu_cudamallocasync_allocator.cc:66] 36864, 18\n",
      "2023-06-06 12:36:48.211116: E tensorflow/compiler/xla/stream_executor/gpu/gpu_cudamallocasync_allocator.cc:66] 37632, 7\n",
      "2023-06-06 12:36:48.211119: E tensorflow/compiler/xla/stream_executor/gpu/gpu_cudamallocasync_allocator.cc:66] 65536, 42\n",
      "2023-06-06 12:36:48.211122: E tensorflow/compiler/xla/stream_executor/gpu/gpu_cudamallocasync_allocator.cc:66] 73728, 18\n",
      "2023-06-06 12:36:48.211126: E tensorflow/compiler/xla/stream_executor/gpu/gpu_cudamallocasync_allocator.cc:66] 131072, 7\n",
      "2023-06-06 12:36:48.211129: E tensorflow/compiler/xla/stream_executor/gpu/gpu_cudamallocasync_allocator.cc:66] 147456, 21\n",
      "2023-06-06 12:36:48.211132: E tensorflow/compiler/xla/stream_executor/gpu/gpu_cudamallocasync_allocator.cc:66] 262144, 49\n",
      "2023-06-06 12:36:48.211136: E tensorflow/compiler/xla/stream_executor/gpu/gpu_cudamallocasync_allocator.cc:66] 524288, 14\n",
      "2023-06-06 12:36:48.211139: E tensorflow/compiler/xla/stream_executor/gpu/gpu_cudamallocasync_allocator.cc:66] 589824, 65\n",
      "2023-06-06 12:36:48.211142: E tensorflow/compiler/xla/stream_executor/gpu/gpu_cudamallocasync_allocator.cc:66] 819200, 24\n",
      "2023-06-06 12:36:48.211145: E tensorflow/compiler/xla/stream_executor/gpu/gpu_cudamallocasync_allocator.cc:66] 1048576, 77\n",
      "2023-06-06 12:36:48.211149: E tensorflow/compiler/xla/stream_executor/gpu/gpu_cudamallocasync_allocator.cc:66] 1638400, 16\n",
      "2023-06-06 12:36:48.211152: E tensorflow/compiler/xla/stream_executor/gpu/gpu_cudamallocasync_allocator.cc:66] 2097152, 15\n",
      "2023-06-06 12:36:48.211155: E tensorflow/compiler/xla/stream_executor/gpu/gpu_cudamallocasync_allocator.cc:66] 2359296, 42\n",
      "2023-06-06 12:36:48.211159: E tensorflow/compiler/xla/stream_executor/gpu/gpu_cudamallocasync_allocator.cc:66] 2840064, 1\n",
      "2023-06-06 12:36:48.211162: E tensorflow/compiler/xla/stream_executor/gpu/gpu_cudamallocasync_allocator.cc:66] 3276800, 29\n",
      "2023-06-06 12:36:48.211166: E tensorflow/compiler/xla/stream_executor/gpu/gpu_cudamallocasync_allocator.cc:66] 4194304, 35\n",
      "2023-06-06 12:36:48.211169: E tensorflow/compiler/xla/stream_executor/gpu/gpu_cudamallocasync_allocator.cc:66] 6553600, 9\n",
      "2023-06-06 12:36:48.211172: E tensorflow/compiler/xla/stream_executor/gpu/gpu_cudamallocasync_allocator.cc:66] 8388608, 7\n",
      "2023-06-06 12:36:48.211175: E tensorflow/compiler/xla/stream_executor/gpu/gpu_cudamallocasync_allocator.cc:66] 9437184, 21\n",
      "2023-06-06 12:36:48.211181: E tensorflow/compiler/xla/stream_executor/gpu/gpu_cudamallocasync_allocator.cc:66] 13107200, 9\n",
      "2023-06-06 12:36:48.211184: E tensorflow/compiler/xla/stream_executor/gpu/gpu_cudamallocasync_allocator.cc:66] 14450688, 1\n",
      "2023-06-06 12:36:48.211187: E tensorflow/compiler/xla/stream_executor/gpu/gpu_cudamallocasync_allocator.cc:66] 20054016, 1\n",
      "2023-06-06 12:36:48.211192: E tensorflow/compiler/xla/stream_executor/gpu/gpu_cudamallocasync_allocator.cc:97] CU_MEMPOOL_ATTR_RESERVED_MEM_CURRENT: 2751463424\n",
      "2023-06-06 12:36:48.211196: E tensorflow/compiler/xla/stream_executor/gpu/gpu_cudamallocasync_allocator.cc:99] CU_MEMPOOL_ATTR_USED_MEM_CURRENT: 1041061129\n",
      "2023-06-06 12:36:48.211199: E tensorflow/compiler/xla/stream_executor/gpu/gpu_cudamallocasync_allocator.cc:100] CU_MEMPOOL_ATTR_RESERVED_MEM_HIGH: 2986344448\n",
      "2023-06-06 12:36:48.211203: E tensorflow/compiler/xla/stream_executor/gpu/gpu_cudamallocasync_allocator.cc:101] CU_MEMPOOL_ATTR_USED_MEM_HIGH: 2366858505\n",
      "2023-06-06 12:36:48.643555: E tensorflow/compiler/xla/stream_executor/gpu/gpu_cudamallocasync_allocator.cc:306] gpu_async_0 cuMemAllocAsync failed to allocate 4950720528 bytes: CUDA error: out of memory (CUDA_ERROR_OUT_OF_MEMORY)\n",
      " Reported by CUDA: Free memory/Total memory: 100794368/4225695744\n",
      "2023-06-06 12:36:48.643584: E tensorflow/compiler/xla/stream_executor/gpu/gpu_cudamallocasync_allocator.cc:311] Stats: Limit:                      2773549056\n",
      "InUse:                       994532617\n",
      "MaxInUse:                   2366858505\n",
      "NumAllocs:                    13971183\n",
      "MaxAllocSize:               1300234240\n",
      "Reserved:                            0\n",
      "PeakReserved:                        0\n",
      "LargestFreeBlock:                    0\n",
      "\n",
      "2023-06-06 12:36:48.643651: E tensorflow/compiler/xla/stream_executor/gpu/gpu_cudamallocasync_allocator.cc:63] Histogram of current allocation: (allocation_size_in_bytes, nb_allocation_of_that_sizes), ...;\n",
      "2023-06-06 12:36:48.643656: E tensorflow/compiler/xla/stream_executor/gpu/gpu_cudamallocasync_allocator.cc:66] 1, 1\n",
      "2023-06-06 12:36:48.643660: E tensorflow/compiler/xla/stream_executor/gpu/gpu_cudamallocasync_allocator.cc:66] 4, 123\n",
      "2023-06-06 12:36:48.643663: E tensorflow/compiler/xla/stream_executor/gpu/gpu_cudamallocasync_allocator.cc:66] 8, 131\n",
      "2023-06-06 12:36:48.643667: E tensorflow/compiler/xla/stream_executor/gpu/gpu_cudamallocasync_allocator.cc:66] 128, 36\n",
      "2023-06-06 12:36:48.643670: E tensorflow/compiler/xla/stream_executor/gpu/gpu_cudamallocasync_allocator.cc:66] 256, 239\n",
      "2023-06-06 12:36:48.643674: E tensorflow/compiler/xla/stream_executor/gpu/gpu_cudamallocasync_allocator.cc:66] 512, 250\n",
      "2023-06-06 12:36:48.643677: E tensorflow/compiler/xla/stream_executor/gpu/gpu_cudamallocasync_allocator.cc:66] 1024, 462\n",
      "2023-06-06 12:36:48.643681: E tensorflow/compiler/xla/stream_executor/gpu/gpu_cudamallocasync_allocator.cc:66] 1028, 1\n",
      "2023-06-06 12:36:48.643684: E tensorflow/compiler/xla/stream_executor/gpu/gpu_cudamallocasync_allocator.cc:66] 2048, 307\n",
      "2023-06-06 12:36:48.643687: E tensorflow/compiler/xla/stream_executor/gpu/gpu_cudamallocasync_allocator.cc:66] 3456, 18\n",
      "2023-06-06 12:36:48.643691: E tensorflow/compiler/xla/stream_executor/gpu/gpu_cudamallocasync_allocator.cc:66] 4096, 194\n",
      "2023-06-06 12:36:48.643694: E tensorflow/compiler/xla/stream_executor/gpu/gpu_cudamallocasync_allocator.cc:66] 8192, 108\n",
      "2023-06-06 12:36:48.643697: E tensorflow/compiler/xla/stream_executor/gpu/gpu_cudamallocasync_allocator.cc:66] 16384, 14\n",
      "2023-06-06 12:36:48.643701: E tensorflow/compiler/xla/stream_executor/gpu/gpu_cudamallocasync_allocator.cc:66] 36864, 18\n",
      "2023-06-06 12:36:48.643704: E tensorflow/compiler/xla/stream_executor/gpu/gpu_cudamallocasync_allocator.cc:66] 37632, 7\n",
      "2023-06-06 12:36:48.643707: E tensorflow/compiler/xla/stream_executor/gpu/gpu_cudamallocasync_allocator.cc:66] 65536, 42\n",
      "2023-06-06 12:36:48.643711: E tensorflow/compiler/xla/stream_executor/gpu/gpu_cudamallocasync_allocator.cc:66] 73728, 18\n",
      "2023-06-06 12:36:48.643714: E tensorflow/compiler/xla/stream_executor/gpu/gpu_cudamallocasync_allocator.cc:66] 131072, 7\n",
      "2023-06-06 12:36:48.643717: E tensorflow/compiler/xla/stream_executor/gpu/gpu_cudamallocasync_allocator.cc:66] 147456, 21\n",
      "2023-06-06 12:36:48.643721: E tensorflow/compiler/xla/stream_executor/gpu/gpu_cudamallocasync_allocator.cc:66] 262144, 49\n",
      "2023-06-06 12:36:48.643724: E tensorflow/compiler/xla/stream_executor/gpu/gpu_cudamallocasync_allocator.cc:66] 524288, 14\n",
      "2023-06-06 12:36:48.643727: E tensorflow/compiler/xla/stream_executor/gpu/gpu_cudamallocasync_allocator.cc:66] 589824, 64\n",
      "2023-06-06 12:36:48.643731: E tensorflow/compiler/xla/stream_executor/gpu/gpu_cudamallocasync_allocator.cc:66] 819200, 4\n",
      "2023-06-06 12:36:48.643734: E tensorflow/compiler/xla/stream_executor/gpu/gpu_cudamallocasync_allocator.cc:66] 1048576, 77\n",
      "2023-06-06 12:36:48.643737: E tensorflow/compiler/xla/stream_executor/gpu/gpu_cudamallocasync_allocator.cc:66] 1638400, 16\n",
      "2023-06-06 12:36:48.643741: E tensorflow/compiler/xla/stream_executor/gpu/gpu_cudamallocasync_allocator.cc:66] 2097152, 15\n",
      "2023-06-06 12:36:48.643744: E tensorflow/compiler/xla/stream_executor/gpu/gpu_cudamallocasync_allocator.cc:66] 2359296, 42\n",
      "2023-06-06 12:36:48.643747: E tensorflow/compiler/xla/stream_executor/gpu/gpu_cudamallocasync_allocator.cc:66] 2840064, 1\n",
      "2023-06-06 12:36:48.643751: E tensorflow/compiler/xla/stream_executor/gpu/gpu_cudamallocasync_allocator.cc:66] 3276800, 15\n",
      "2023-06-06 12:36:48.643754: E tensorflow/compiler/xla/stream_executor/gpu/gpu_cudamallocasync_allocator.cc:66] 4194304, 35\n",
      "2023-06-06 12:36:48.643757: E tensorflow/compiler/xla/stream_executor/gpu/gpu_cudamallocasync_allocator.cc:66] 6553600, 11\n",
      "2023-06-06 12:36:48.643760: E tensorflow/compiler/xla/stream_executor/gpu/gpu_cudamallocasync_allocator.cc:66] 8388608, 7\n",
      "2023-06-06 12:36:48.643764: E tensorflow/compiler/xla/stream_executor/gpu/gpu_cudamallocasync_allocator.cc:66] 9437184, 21\n",
      "2023-06-06 12:36:48.643769: E tensorflow/compiler/xla/stream_executor/gpu/gpu_cudamallocasync_allocator.cc:66] 13107200, 9\n",
      "2023-06-06 12:36:48.643772: E tensorflow/compiler/xla/stream_executor/gpu/gpu_cudamallocasync_allocator.cc:66] 14450688, 1\n",
      "2023-06-06 12:36:48.643776: E tensorflow/compiler/xla/stream_executor/gpu/gpu_cudamallocasync_allocator.cc:66] 23330816, 1\n",
      "2023-06-06 12:36:48.643780: E tensorflow/compiler/xla/stream_executor/gpu/gpu_cudamallocasync_allocator.cc:97] CU_MEMPOOL_ATTR_RESERVED_MEM_CURRENT: 2751463424\n",
      "2023-06-06 12:36:48.643784: E tensorflow/compiler/xla/stream_executor/gpu/gpu_cudamallocasync_allocator.cc:99] CU_MEMPOOL_ATTR_USED_MEM_CURRENT: 994532617\n",
      "2023-06-06 12:36:48.643788: E tensorflow/compiler/xla/stream_executor/gpu/gpu_cudamallocasync_allocator.cc:100] CU_MEMPOOL_ATTR_RESERVED_MEM_HIGH: 2986344448\n",
      "2023-06-06 12:36:48.643791: E tensorflow/compiler/xla/stream_executor/gpu/gpu_cudamallocasync_allocator.cc:101] CU_MEMPOOL_ATTR_USED_MEM_HIGH: 2366858505\n"
     ]
    },
    {
     "name": "stdout",
     "output_type": "stream",
     "text": [
      "32/32 [==============================] - 14s 211ms/step - loss: 0.4725 - accuracy: 0.4740 - val_loss: 0.5000 - val_accuracy: 0.5140\n",
      "Epoch 2/30\n",
      "32/32 [==============================] - 6s 186ms/step - loss: 0.3862 - accuracy: 0.5030 - val_loss: 0.4939 - val_accuracy: 0.5140\n",
      "Epoch 3/30\n",
      "32/32 [==============================] - 6s 185ms/step - loss: 0.2895 - accuracy: 0.4710 - val_loss: 0.3275 - val_accuracy: 0.5140\n",
      "Epoch 4/30\n",
      "32/32 [==============================] - 6s 183ms/step - loss: 0.2722 - accuracy: 0.5010 - val_loss: 0.2528 - val_accuracy: 0.5140\n",
      "Epoch 5/30\n",
      "32/32 [==============================] - 6s 185ms/step - loss: 0.2659 - accuracy: 0.5090 - val_loss: 0.2505 - val_accuracy: 0.5140\n",
      "Epoch 6/30\n",
      "32/32 [==============================] - 6s 191ms/step - loss: 0.2658 - accuracy: 0.4850 - val_loss: 0.2514 - val_accuracy: 0.5140\n",
      "Epoch 7/30\n",
      "32/32 [==============================] - 6s 190ms/step - loss: 0.2651 - accuracy: 0.5160 - val_loss: 0.2507 - val_accuracy: 0.4860\n",
      "Epoch 8/30\n",
      "32/32 [==============================] - 6s 188ms/step - loss: 0.2623 - accuracy: 0.4810 - val_loss: 0.2936 - val_accuracy: 0.4860\n",
      "Epoch 9/30\n",
      "32/32 [==============================] - 6s 188ms/step - loss: 0.2622 - accuracy: 0.4810 - val_loss: 0.2790 - val_accuracy: 0.4860\n",
      "Epoch 10/30\n",
      "32/32 [==============================] - 6s 189ms/step - loss: 0.2601 - accuracy: 0.5350 - val_loss: 0.2580 - val_accuracy: 0.4860\n",
      "Epoch 11/30\n",
      "32/32 [==============================] - 6s 188ms/step - loss: 0.2594 - accuracy: 0.5080 - val_loss: 0.2533 - val_accuracy: 0.4860\n",
      "Epoch 12/30\n",
      "32/32 [==============================] - 6s 187ms/step - loss: 0.2597 - accuracy: 0.5110 - val_loss: 0.2680 - val_accuracy: 0.4840\n",
      "Epoch 13/30\n",
      "32/32 [==============================] - 6s 189ms/step - loss: 0.2626 - accuracy: 0.5020 - val_loss: 0.3412 - val_accuracy: 0.4980\n",
      "Epoch 14/30\n",
      "32/32 [==============================] - 6s 188ms/step - loss: 0.2608 - accuracy: 0.4910 - val_loss: 0.2862 - val_accuracy: 0.5140\n",
      "Epoch 15/30\n",
      "32/32 [==============================] - 6s 189ms/step - loss: 0.2624 - accuracy: 0.5180 - val_loss: 0.2766 - val_accuracy: 0.5160\n",
      "Epoch 16/30\n",
      "32/32 [==============================] - 6s 187ms/step - loss: 0.2611 - accuracy: 0.5040 - val_loss: 0.3505 - val_accuracy: 0.5180\n",
      "Epoch 17/30\n",
      "32/32 [==============================] - 6s 188ms/step - loss: 0.2608 - accuracy: 0.4790 - val_loss: 0.3044 - val_accuracy: 0.5160\n",
      "Epoch 18/30\n",
      "32/32 [==============================] - 6s 189ms/step - loss: 0.2588 - accuracy: 0.4900 - val_loss: 0.2907 - val_accuracy: 0.5120\n",
      "Epoch 19/30\n",
      "32/32 [==============================] - 6s 187ms/step - loss: 0.2646 - accuracy: 0.4880 - val_loss: 0.3204 - val_accuracy: 0.5160\n",
      "Epoch 20/30\n",
      "32/32 [==============================] - 6s 191ms/step - loss: 0.2633 - accuracy: 0.5150 - val_loss: 0.3166 - val_accuracy: 0.4900\n",
      "Epoch 21/30\n",
      "32/32 [==============================] - 6s 190ms/step - loss: 0.2615 - accuracy: 0.4890 - val_loss: 0.2660 - val_accuracy: 0.4780\n",
      "Epoch 22/30\n",
      "32/32 [==============================] - 6s 188ms/step - loss: 0.2607 - accuracy: 0.5040 - val_loss: 0.2519 - val_accuracy: 0.5100\n",
      "Epoch 23/30\n",
      "32/32 [==============================] - 6s 196ms/step - loss: 0.2596 - accuracy: 0.5040 - val_loss: 0.2516 - val_accuracy: 0.4600\n",
      "Epoch 24/30\n",
      "32/32 [==============================] - 6s 188ms/step - loss: 0.2599 - accuracy: 0.4970 - val_loss: 0.2514 - val_accuracy: 0.5140\n",
      "Epoch 25/30\n",
      "32/32 [==============================] - 6s 188ms/step - loss: 0.2590 - accuracy: 0.5000 - val_loss: 0.2530 - val_accuracy: 0.5060\n",
      "Epoch 26/30\n",
      "32/32 [==============================] - 6s 189ms/step - loss: 0.2597 - accuracy: 0.4890 - val_loss: 0.2679 - val_accuracy: 0.5100\n",
      "Epoch 27/30\n",
      "32/32 [==============================] - 6s 189ms/step - loss: 0.2597 - accuracy: 0.5370 - val_loss: 0.2609 - val_accuracy: 0.5220\n",
      "Epoch 28/30\n",
      "32/32 [==============================] - 6s 188ms/step - loss: 0.2592 - accuracy: 0.4870 - val_loss: 0.2559 - val_accuracy: 0.5120\n",
      "Epoch 29/30\n",
      "32/32 [==============================] - 6s 189ms/step - loss: 0.2590 - accuracy: 0.4890 - val_loss: 0.2512 - val_accuracy: 0.5100\n",
      "Epoch 30/30\n",
      "32/32 [==============================] - 6s 189ms/step - loss: 0.2591 - accuracy: 0.4850 - val_loss: 0.2619 - val_accuracy: 0.4820\n"
     ]
    }
   ],
   "source": [
    "model2 = tf.keras.applications.ResNet50(weights=None, input_shape=input_shape, classes=2)\n",
    "model2.compile(loss=tf.keras.losses.MeanSquaredError(), optimizer=opt, metrics=['accuracy'])\n",
    "history2 = model2.fit(train_ds, epochs=30, validation_data=validation_ds)"
   ]
  },
  {
   "cell_type": "code",
   "execution_count": 117,
   "id": "acd8cbfc",
   "metadata": {},
   "outputs": [
    {
     "name": "stdout",
     "output_type": "stream",
     "text": [
      "32/32 - 0s - loss: 0.0445 - accuracy: 0.2060 - 186ms/epoch - 6ms/step\n",
      "32/32 - 0s - loss: 0.3195 - accuracy: 0.5400 - 127ms/epoch - 4ms/step\n",
      "32/32 - 1s - loss: 0.2651 - accuracy: 0.4830 - 1s/epoch - 42ms/step\n",
      "32/32 - 1s - loss: 0.2619 - accuracy: 0.4820 - 906ms/epoch - 28ms/step\n",
      "32/32 [==============================] - 0s 2ms/step\n"
     ]
    },
    {
     "ename": "ValueError",
     "evalue": "Classification metrics can't handle a mix of binary and continuous-multioutput targets",
     "output_type": "error",
     "traceback": [
      "\u001b[0;31m---------------------------------------------------------------------------\u001b[0m",
      "\u001b[0;31mValueError\u001b[0m                                Traceback (most recent call last)",
      "Cell \u001b[0;32mIn[117], line 11\u001b[0m\n\u001b[1;32m      9\u001b[0m y_true \u001b[39m=\u001b[39m label_validation\n\u001b[1;32m     10\u001b[0m y_pred \u001b[39m=\u001b[39m model\u001b[39m.\u001b[39mpredict(validation_ds)\n\u001b[0;32m---> 11\u001b[0m confusion_matrix(y_true, y_pred)\n",
      "File \u001b[0;32m/mnt/2E0030F70030C81B/Attività/HiParis/.venv/lib/python3.10/site-packages/sklearn/metrics/_classification.py:317\u001b[0m, in \u001b[0;36mconfusion_matrix\u001b[0;34m(y_true, y_pred, labels, sample_weight, normalize)\u001b[0m\n\u001b[1;32m    232\u001b[0m \u001b[39mdef\u001b[39;00m \u001b[39mconfusion_matrix\u001b[39m(\n\u001b[1;32m    233\u001b[0m     y_true, y_pred, \u001b[39m*\u001b[39m, labels\u001b[39m=\u001b[39m\u001b[39mNone\u001b[39;00m, sample_weight\u001b[39m=\u001b[39m\u001b[39mNone\u001b[39;00m, normalize\u001b[39m=\u001b[39m\u001b[39mNone\u001b[39;00m\n\u001b[1;32m    234\u001b[0m ):\n\u001b[1;32m    235\u001b[0m \u001b[39m    \u001b[39m\u001b[39m\"\"\"Compute confusion matrix to evaluate the accuracy of a classification.\u001b[39;00m\n\u001b[1;32m    236\u001b[0m \n\u001b[1;32m    237\u001b[0m \u001b[39m    By definition a confusion matrix :math:`C` is such that :math:`C_{i, j}`\u001b[39;00m\n\u001b[0;32m   (...)\u001b[0m\n\u001b[1;32m    315\u001b[0m \u001b[39m    (0, 2, 1, 1)\u001b[39;00m\n\u001b[1;32m    316\u001b[0m \u001b[39m    \"\"\"\u001b[39;00m\n\u001b[0;32m--> 317\u001b[0m     y_type, y_true, y_pred \u001b[39m=\u001b[39m _check_targets(y_true, y_pred)\n\u001b[1;32m    318\u001b[0m     \u001b[39mif\u001b[39;00m y_type \u001b[39mnot\u001b[39;00m \u001b[39min\u001b[39;00m (\u001b[39m\"\u001b[39m\u001b[39mbinary\u001b[39m\u001b[39m\"\u001b[39m, \u001b[39m\"\u001b[39m\u001b[39mmulticlass\u001b[39m\u001b[39m\"\u001b[39m):\n\u001b[1;32m    319\u001b[0m         \u001b[39mraise\u001b[39;00m \u001b[39mValueError\u001b[39;00m(\u001b[39m\"\u001b[39m\u001b[39m%s\u001b[39;00m\u001b[39m is not supported\u001b[39m\u001b[39m\"\u001b[39m \u001b[39m%\u001b[39m y_type)\n",
      "File \u001b[0;32m/mnt/2E0030F70030C81B/Attività/HiParis/.venv/lib/python3.10/site-packages/sklearn/metrics/_classification.py:95\u001b[0m, in \u001b[0;36m_check_targets\u001b[0;34m(y_true, y_pred)\u001b[0m\n\u001b[1;32m     92\u001b[0m     y_type \u001b[39m=\u001b[39m {\u001b[39m\"\u001b[39m\u001b[39mmulticlass\u001b[39m\u001b[39m\"\u001b[39m}\n\u001b[1;32m     94\u001b[0m \u001b[39mif\u001b[39;00m \u001b[39mlen\u001b[39m(y_type) \u001b[39m>\u001b[39m \u001b[39m1\u001b[39m:\n\u001b[0;32m---> 95\u001b[0m     \u001b[39mraise\u001b[39;00m \u001b[39mValueError\u001b[39;00m(\n\u001b[1;32m     96\u001b[0m         \u001b[39m\"\u001b[39m\u001b[39mClassification metrics can\u001b[39m\u001b[39m'\u001b[39m\u001b[39mt handle a mix of \u001b[39m\u001b[39m{0}\u001b[39;00m\u001b[39m and \u001b[39m\u001b[39m{1}\u001b[39;00m\u001b[39m targets\u001b[39m\u001b[39m\"\u001b[39m\u001b[39m.\u001b[39mformat(\n\u001b[1;32m     97\u001b[0m             type_true, type_pred\n\u001b[1;32m     98\u001b[0m         )\n\u001b[1;32m     99\u001b[0m     )\n\u001b[1;32m    101\u001b[0m \u001b[39m# We can't have more than one value on y_type => The set is no more needed\u001b[39;00m\n\u001b[1;32m    102\u001b[0m y_type \u001b[39m=\u001b[39m y_type\u001b[39m.\u001b[39mpop()\n",
      "\u001b[0;31mValueError\u001b[0m: Classification metrics can't handle a mix of binary and continuous-multioutput targets"
     ]
    }
   ],
   "source": [
    "test_loss, test_acc = model.evaluate(train_ds, verbose=2)\n",
    "test_loss, test_acc = model.evaluate(validation_ds, verbose=2)\n",
    "\n",
    "test_loss, test_acc = model2.evaluate(train_ds, verbose=2)\n",
    "test_loss, test_acc = model2.evaluate(validation_ds, verbose=2)\n",
    "\n",
    "from sklearn.metrics import confusion_matrix\n",
    "\n",
    "y_true = label_validation\n",
    "y_pred = model.predict(validation_ds)\n",
    "confusion_matrix(y_true, y_pred)"
   ]
  },
  {
   "attachments": {},
   "cell_type": "markdown",
   "id": "b670b527",
   "metadata": {
    "id": "b670b527"
   },
   "source": [
    "### Accuracy by gender for Validation DataSet"
   ]
  },
  {
   "attachments": {},
   "cell_type": "markdown",
   "id": "2793ce0a",
   "metadata": {},
   "source": [
    "To obtain the accuracy by gender we need create dataset for Validation including images divided in 2 subfolders, one for women and one for man."
   ]
  },
  {
   "cell_type": "code",
   "execution_count": 25,
   "id": "9c35af60",
   "metadata": {
    "id": "9c35af60"
   },
   "outputs": [
    {
     "name": "stdout",
     "output_type": "stream",
     "text": [
      "32/32 - 0s - loss: 0.1011 - accuracy: 0.9310 - 163ms/epoch - 5ms/step\n",
      "16/16 - 0s - loss: 0.2777 - accuracy: 0.5260 - 103ms/epoch - 6ms/step\n"
     ]
    }
   ],
   "source": [
    "\n",
    "name_folder = \"Validation/\"\n",
    "# Source path\n",
    "source = dir_path+name_folder\n",
    "new_source = dir_path+\"Validation_with_sex/\"\n",
    "if os.path.exists(new_source) == False:\n",
    "    os.mkdir(nex_source)\n",
    "\n",
    "\n",
    "# Destination path\n",
    "destination_0 = dir_path+name_folder+\"class_0\"\n",
    "destination_1 = dir_path+name_folder+\"class_1\"\n",
    "\n",
    "if os.path.exists(destination_0) == False:\n",
    "    os.mkdir(destination_0)\n",
    "if os.path.exists(destination_1) == False:\n",
    "    os.mkdir(destination_1)\n",
    "\n",
    "\n",
    "file_list = glob.glob(source+\"/*.jpg\")\n",
    "\n",
    "# Move the content of source to destination\n",
    "for img in file_list:\n",
    "    index = int(os.path.basename(img).split('/')[-1].split(\".\")[0])\n",
    "    if label_train[index] == 0 :\n",
    "        shutil.move(img, destination_0)\n",
    "    else :  \n",
    "        shutil.move(img, destination_1)"
   ]
  },
  {
   "cell_type": "code",
   "execution_count": 108,
   "id": "e9a68b5a",
   "metadata": {
    "id": "e9a68b5a"
   },
   "outputs": [
    {
     "name": "stdout",
     "output_type": "stream",
     "text": [
      "Found 0 files belonging to 0 classes.\n"
     ]
    },
    {
     "ename": "ValueError",
     "evalue": "When passing `label_mode=\"binary\"`, there must be exactly 2 class_names. Received: class_names=[]",
     "output_type": "error",
     "traceback": [
      "\u001b[0;31m---------------------------------------------------------------------------\u001b[0m",
      "\u001b[0;31mValueError\u001b[0m                                Traceback (most recent call last)",
      "Cell \u001b[0;32mIn[108], line 1\u001b[0m\n\u001b[0;32m----> 1\u001b[0m validation0_ds \u001b[39m=\u001b[39m keras\u001b[39m.\u001b[39;49mutils\u001b[39m.\u001b[39;49mimage_dataset_from_directory(\n\u001b[1;32m      2\u001b[0m     directory\u001b[39m=\u001b[39;49m\u001b[39m'\u001b[39;49m\u001b[39mDataSet/Validation/0\u001b[39;49m\u001b[39m'\u001b[39;49m,\n\u001b[1;32m      3\u001b[0m     labels\u001b[39m=\u001b[39;49m\u001b[39m'\u001b[39;49m\u001b[39minferred\u001b[39;49m\u001b[39m'\u001b[39;49m,\n\u001b[1;32m      4\u001b[0m     label_mode\u001b[39m=\u001b[39;49m\u001b[39m'\u001b[39;49m\u001b[39mbinary\u001b[39;49m\u001b[39m'\u001b[39;49m,\n\u001b[1;32m      5\u001b[0m     batch_size\u001b[39m=\u001b[39;49m\u001b[39m16\u001b[39;49m,\n\u001b[1;32m      6\u001b[0m     image_size\u001b[39m=\u001b[39;49mimage_size)\n\u001b[1;32m      8\u001b[0m test_loss, test_acc \u001b[39m=\u001b[39m model\u001b[39m.\u001b[39mevaluate(validation0_ds, verbose\u001b[39m=\u001b[39m\u001b[39m2\u001b[39m)\n\u001b[1;32m     11\u001b[0m validation1_ds \u001b[39m=\u001b[39m keras\u001b[39m.\u001b[39mutils\u001b[39m.\u001b[39mimage_dataset_from_directory(\n\u001b[1;32m     12\u001b[0m     directory\u001b[39m=\u001b[39m\u001b[39m'\u001b[39m\u001b[39mDataSet/Validation/1\u001b[39m\u001b[39m'\u001b[39m,\n\u001b[1;32m     13\u001b[0m     labels\u001b[39m=\u001b[39m\u001b[39m'\u001b[39m\u001b[39minferred\u001b[39m\u001b[39m'\u001b[39m,\n\u001b[1;32m     14\u001b[0m     label_mode\u001b[39m=\u001b[39m\u001b[39m'\u001b[39m\u001b[39mbinary\u001b[39m\u001b[39m'\u001b[39m,\n\u001b[1;32m     15\u001b[0m     batch_size\u001b[39m=\u001b[39m\u001b[39m16\u001b[39m,\n\u001b[1;32m     16\u001b[0m     image_size\u001b[39m=\u001b[39mimage_size)\n",
      "File \u001b[0;32m/mnt/2E0030F70030C81B/Attività/HiParis/.venv/lib/python3.10/site-packages/keras/utils/image_dataset.py:221\u001b[0m, in \u001b[0;36mimage_dataset_from_directory\u001b[0;34m(directory, labels, label_mode, class_names, color_mode, batch_size, image_size, shuffle, seed, validation_split, subset, interpolation, follow_links, crop_to_aspect_ratio, **kwargs)\u001b[0m\n\u001b[1;32m    210\u001b[0m image_paths, labels, class_names \u001b[39m=\u001b[39m dataset_utils\u001b[39m.\u001b[39mindex_directory(\n\u001b[1;32m    211\u001b[0m     directory,\n\u001b[1;32m    212\u001b[0m     labels,\n\u001b[0;32m   (...)\u001b[0m\n\u001b[1;32m    217\u001b[0m     follow_links\u001b[39m=\u001b[39mfollow_links,\n\u001b[1;32m    218\u001b[0m )\n\u001b[1;32m    220\u001b[0m \u001b[39mif\u001b[39;00m label_mode \u001b[39m==\u001b[39m \u001b[39m\"\u001b[39m\u001b[39mbinary\u001b[39m\u001b[39m\"\u001b[39m \u001b[39mand\u001b[39;00m \u001b[39mlen\u001b[39m(class_names) \u001b[39m!=\u001b[39m \u001b[39m2\u001b[39m:\n\u001b[0;32m--> 221\u001b[0m     \u001b[39mraise\u001b[39;00m \u001b[39mValueError\u001b[39;00m(\n\u001b[1;32m    222\u001b[0m         \u001b[39m'\u001b[39m\u001b[39mWhen passing `label_mode=\u001b[39m\u001b[39m\"\u001b[39m\u001b[39mbinary\u001b[39m\u001b[39m\"\u001b[39m\u001b[39m`, there must be exactly 2 \u001b[39m\u001b[39m'\u001b[39m\n\u001b[1;32m    223\u001b[0m         \u001b[39mf\u001b[39m\u001b[39m\"\u001b[39m\u001b[39mclass_names. Received: class_names=\u001b[39m\u001b[39m{\u001b[39;00mclass_names\u001b[39m}\u001b[39;00m\u001b[39m\"\u001b[39m\n\u001b[1;32m    224\u001b[0m     )\n\u001b[1;32m    226\u001b[0m \u001b[39mif\u001b[39;00m subset \u001b[39m==\u001b[39m \u001b[39m\"\u001b[39m\u001b[39mboth\u001b[39m\u001b[39m\"\u001b[39m:\n\u001b[1;32m    227\u001b[0m     (\n\u001b[1;32m    228\u001b[0m         image_paths_train,\n\u001b[1;32m    229\u001b[0m         labels_train,\n\u001b[1;32m    230\u001b[0m     ) \u001b[39m=\u001b[39m dataset_utils\u001b[39m.\u001b[39mget_training_or_validation_split(\n\u001b[1;32m    231\u001b[0m         image_paths, labels, validation_split, \u001b[39m\"\u001b[39m\u001b[39mtraining\u001b[39m\u001b[39m\"\u001b[39m\n\u001b[1;32m    232\u001b[0m     )\n",
      "\u001b[0;31mValueError\u001b[0m: When passing `label_mode=\"binary\"`, there must be exactly 2 class_names. Received: class_names=[]"
     ]
    }
   ],
   "source": [
    "validation0_ds = keras.utils.image_dataset_from_directory(\n",
    "    directory='DataSet/Validation/0',\n",
    "    labels='inferred',\n",
    "    label_mode='binary',\n",
    "    batch_size=16,\n",
    "    image_size=image_size)\n",
    "\n",
    "test_loss, test_acc = model.evaluate(validation0_ds, verbose=2)\n",
    "\n",
    "\n",
    "validation1_ds = keras.utils.image_dataset_from_directory(\n",
    "    directory='DataSet/Validation/1',\n",
    "    labels='inferred',\n",
    "    label_mode='binary',\n",
    "    batch_size=16,\n",
    "    image_size=image_size)\n",
    "\n",
    "test_loss, test_acc = model.evaluate(validation1_ds, verbose=2)"
   ]
  },
  {
   "attachments": {},
   "cell_type": "markdown",
   "id": "dcf6553a",
   "metadata": {
    "id": "dcf6553a"
   },
   "source": [
    "### Testing your Model"
   ]
  },
  {
   "cell_type": "code",
   "execution_count": 41,
   "id": "ed21e701",
   "metadata": {
    "id": "ed21e701"
   },
   "outputs": [
    {
     "name": "stdout",
     "output_type": "stream",
     "text": [
      "Found 500 files belonging to 1 classes.\n"
     ]
    },
    {
     "ename": "TypeError",
     "evalue": "'_BatchDataset' object is not subscriptable",
     "output_type": "error",
     "traceback": [
      "\u001b[0;31m---------------------------------------------------------------------------\u001b[0m",
      "\u001b[0;31mTypeError\u001b[0m                                 Traceback (most recent call last)",
      "Cell \u001b[0;32mIn[41], line 11\u001b[0m\n\u001b[1;32m      9\u001b[0m \u001b[39m# shuffle training data\u001b[39;00m\n\u001b[1;32m     10\u001b[0m \u001b[39mimport\u001b[39;00m \u001b[39mrandom\u001b[39;00m\n\u001b[0;32m---> 11\u001b[0m random\u001b[39m.\u001b[39;49mshuffle(test_data)\n\u001b[1;32m     12\u001b[0m \u001b[39mprint\u001b[39m(test_data\u001b[39m.\u001b[39msize)\n\u001b[1;32m     13\u001b[0m \u001b[39mprint\u001b[39m(test_data[\u001b[39m0\u001b[39m]\u001b[39m.\u001b[39mshape)\n",
      "File \u001b[0;32m~/miniconda3/lib/python3.10/random.py:394\u001b[0m, in \u001b[0;36mRandom.shuffle\u001b[0;34m(self, x, random)\u001b[0m\n\u001b[1;32m    391\u001b[0m     \u001b[39mfor\u001b[39;00m i \u001b[39min\u001b[39;00m \u001b[39mreversed\u001b[39m(\u001b[39mrange\u001b[39m(\u001b[39m1\u001b[39m, \u001b[39mlen\u001b[39m(x))):\n\u001b[1;32m    392\u001b[0m         \u001b[39m# pick an element in x[:i+1] with which to exchange x[i]\u001b[39;00m\n\u001b[1;32m    393\u001b[0m         j \u001b[39m=\u001b[39m randbelow(i \u001b[39m+\u001b[39m \u001b[39m1\u001b[39m)\n\u001b[0;32m--> 394\u001b[0m         x[i], x[j] \u001b[39m=\u001b[39m x[j], x[i]\n\u001b[1;32m    395\u001b[0m \u001b[39melse\u001b[39;00m:\n\u001b[1;32m    396\u001b[0m     _warn(\u001b[39m'\u001b[39m\u001b[39mThe *random* parameter to shuffle() has been deprecated\u001b[39m\u001b[39m\\n\u001b[39;00m\u001b[39m'\u001b[39m\n\u001b[1;32m    397\u001b[0m           \u001b[39m'\u001b[39m\u001b[39msince Python 3.9 and will be removed in a subsequent \u001b[39m\u001b[39m'\u001b[39m\n\u001b[1;32m    398\u001b[0m           \u001b[39m'\u001b[39m\u001b[39mversion.\u001b[39m\u001b[39m'\u001b[39m,\n\u001b[1;32m    399\u001b[0m           \u001b[39mDeprecationWarning\u001b[39;00m, \u001b[39m2\u001b[39m)\n",
      "\u001b[0;31mTypeError\u001b[0m: '_BatchDataset' object is not subscriptable"
     ]
    }
   ],
   "source": [
    "# test data\n",
    "test_data = keras.utils.image_dataset_from_directory(\n",
    "    directory='DataSet/test/',\n",
    "    labels=None,\n",
    "    label_mode=None,\n",
    "    batch_size=8,\n",
    "    image_size=image_size)\n",
    "\n",
    "# shuffle training data\n",
    "import random\n",
    "random.shuffle(test_data)\n",
    "print(test_data.size)\n",
    "print(test_data[0].shape)\n",
    "preds = model.predict(test_data[0])\n",
    "# decode the results into a list of tuples (class, description, probability)\n",
    "# (one such list for each sample in the batch)\n",
    "#print('Predicted:', tf.decode_predictions(preds, top=3)[0])"
   ]
  },
  {
   "attachments": {},
   "cell_type": "markdown",
   "id": "10ac24b7",
   "metadata": {
    "id": "10ac24b7"
   },
   "source": [
    "### Preparing your file for Submission"
   ]
  },
  {
   "cell_type": "code",
   "execution_count": null,
   "id": "d060e257",
   "metadata": {
    "id": "d060e257"
   },
   "outputs": [],
   "source": []
  }
 ],
 "metadata": {
  "colab": {
   "collapsed_sections": [],
   "name": "Data_Challenge_MDI_341_Students.ipynb",
   "provenance": []
  },
  "kernelspec": {
   "display_name": "Python 3 (ipykernel)",
   "language": "python",
   "name": "python3"
  },
  "language_info": {
   "codemirror_mode": {
    "name": "ipython",
    "version": 3
   },
   "file_extension": ".py",
   "mimetype": "text/x-python",
   "name": "python",
   "nbconvert_exporter": "python",
   "pygments_lexer": "ipython3",
   "version": "3.10.10"
  }
 },
 "nbformat": 4,
 "nbformat_minor": 5
}
